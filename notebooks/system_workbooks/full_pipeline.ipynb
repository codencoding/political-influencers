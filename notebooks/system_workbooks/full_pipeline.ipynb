{
 "cells": [
  {
   "cell_type": "markdown",
   "metadata": {},
   "source": [
    "# Neo4j data loading setup\n",
    "Using neo4j, we’ll load in twitter data to create a network showing the relationships between legislators’ tweets, other users they mention, and hashtags they mention. "
   ]
  },
  {
   "cell_type": "markdown",
   "metadata": {},
   "source": [
    "***"
   ]
  },
  {
   "cell_type": "markdown",
   "metadata": {},
   "source": [
    "`NOTEBOOK SETUP`\n",
    "- Create a .py file containing the following declarations and place it in the same directory as this notebook\n",
    "    - password = `Your neo4j server password`\n",
    "    - NEO4J_DATA_DIR = `C:/Users/PC USERNAME/AppData/Local/Neo4j/Relate/Data/dbmss/SERVER ID/import/data/`\n",
    "- Place the legislator dataset into the above NEO4J_DATA_DIR\n",
    "- Set the ROOT_DIR directory to reflect where this notebook is in relation to the project root"
   ]
  },
  {
   "cell_type": "markdown",
   "metadata": {},
   "source": [
    "***"
   ]
  },
  {
   "cell_type": "markdown",
   "metadata": {},
   "source": [
    "### Import Packages"
   ]
  },
  {
   "cell_type": "code",
   "execution_count": 1,
   "metadata": {},
   "outputs": [],
   "source": [
    "import warnings\n",
    "warnings.filterwarnings('ignore')"
   ]
  },
  {
   "cell_type": "code",
   "execution_count": 2,
   "metadata": {},
   "outputs": [],
   "source": [
    "import pandas as pd \n",
    "import numpy as np \n",
    "from urllib.request import urlopen\n",
    "import redis\n",
    "import json\n",
    "import pysolr\n",
    "import requests\n",
    "import datetime"
   ]
  },
  {
   "cell_type": "code",
   "execution_count": 3,
   "metadata": {},
   "outputs": [],
   "source": [
    "import sys\n",
    "import os"
   ]
  },
  {
   "cell_type": "code",
   "execution_count": 4,
   "metadata": {},
   "outputs": [],
   "source": [
    "ROOT_DIR = \"../../\"\n",
    "DATA_DIR = ROOT_DIR + \"data/\""
   ]
  },
  {
   "cell_type": "code",
   "execution_count": 5,
   "metadata": {},
   "outputs": [],
   "source": [
    "# Load utils\n",
    "sys.path.insert(0, os.path.abspath(ROOT_DIR + \"/src\"))\n",
    "from utils import *"
   ]
  },
  {
   "cell_type": "markdown",
   "metadata": {},
   "source": [
    "### Import local password and NEO4J_DATA_DIR"
   ]
  },
  {
   "cell_type": "code",
   "execution_count": 6,
   "metadata": {},
   "outputs": [],
   "source": [
    "from pword import *"
   ]
  },
  {
   "cell_type": "markdown",
   "metadata": {},
   "source": [
    "### Connect to local neo4j database"
   ]
  },
  {
   "cell_type": "code",
   "execution_count": 7,
   "metadata": {
    "scrolled": true
   },
   "outputs": [],
   "source": [
    "from neo4j import GraphDatabase\n",
    "uri = 'neo4j://localhost:7687'\n",
    "driver = GraphDatabase.driver(uri, auth=(\"neo4j\", password))\n",
    "session = driver.session()"
   ]
  },
  {
   "cell_type": "markdown",
   "metadata": {},
   "source": [
    "***"
   ]
  },
  {
   "cell_type": "markdown",
   "metadata": {},
   "source": [
    "# Data loading + processing"
   ]
  },
  {
   "cell_type": "code",
   "execution_count": 8,
   "metadata": {},
   "outputs": [],
   "source": [
    "legislators_fname = DATA_DIR + \"legislators-current.csv\"\n",
    "full_tweets_fname = DATA_DIR + \"tweets.json\"\n",
    "tweets_fname = NEO4J_DATA_DIR + \"legis_tweets.csv\""
   ]
  },
  {
   "cell_type": "markdown",
   "metadata": {},
   "source": [
    "### Load legislators"
   ]
  },
  {
   "cell_type": "code",
   "execution_count": 9,
   "metadata": {},
   "outputs": [],
   "source": [
    "legis_df = pd.read_csv(legislators_fname)"
   ]
  },
  {
   "cell_type": "code",
   "execution_count": 10,
   "metadata": {
    "scrolled": true
   },
   "outputs": [
    {
     "data": {
      "text/html": [
       "<div>\n",
       "<style scoped>\n",
       "    .dataframe tbody tr th:only-of-type {\n",
       "        vertical-align: middle;\n",
       "    }\n",
       "\n",
       "    .dataframe tbody tr th {\n",
       "        vertical-align: top;\n",
       "    }\n",
       "\n",
       "    .dataframe thead th {\n",
       "        text-align: right;\n",
       "    }\n",
       "</style>\n",
       "<table border=\"1\" class=\"dataframe\">\n",
       "  <thead>\n",
       "    <tr style=\"text-align: right;\">\n",
       "      <th></th>\n",
       "      <th>last_name</th>\n",
       "      <th>first_name</th>\n",
       "      <th>middle_name</th>\n",
       "      <th>suffix</th>\n",
       "      <th>nickname</th>\n",
       "      <th>full_name</th>\n",
       "      <th>birthday</th>\n",
       "      <th>gender</th>\n",
       "      <th>type</th>\n",
       "      <th>state</th>\n",
       "      <th>...</th>\n",
       "      <th>opensecrets_id</th>\n",
       "      <th>lis_id</th>\n",
       "      <th>fec_ids</th>\n",
       "      <th>cspan_id</th>\n",
       "      <th>govtrack_id</th>\n",
       "      <th>votesmart_id</th>\n",
       "      <th>ballotpedia_id</th>\n",
       "      <th>washington_post_id</th>\n",
       "      <th>icpsr_id</th>\n",
       "      <th>wikipedia_id</th>\n",
       "    </tr>\n",
       "  </thead>\n",
       "  <tbody>\n",
       "    <tr>\n",
       "      <th>0</th>\n",
       "      <td>Brown</td>\n",
       "      <td>Sherrod</td>\n",
       "      <td>NaN</td>\n",
       "      <td>NaN</td>\n",
       "      <td>NaN</td>\n",
       "      <td>Sherrod Brown</td>\n",
       "      <td>1952-11-09</td>\n",
       "      <td>M</td>\n",
       "      <td>sen</td>\n",
       "      <td>OH</td>\n",
       "      <td>...</td>\n",
       "      <td>N00003535</td>\n",
       "      <td>S307</td>\n",
       "      <td>H2OH13033,S6OH00163</td>\n",
       "      <td>5051.0</td>\n",
       "      <td>400050</td>\n",
       "      <td>27018.0</td>\n",
       "      <td>Sherrod Brown</td>\n",
       "      <td>NaN</td>\n",
       "      <td>29389.0</td>\n",
       "      <td>Sherrod Brown</td>\n",
       "    </tr>\n",
       "    <tr>\n",
       "      <th>1</th>\n",
       "      <td>Cantwell</td>\n",
       "      <td>Maria</td>\n",
       "      <td>NaN</td>\n",
       "      <td>NaN</td>\n",
       "      <td>NaN</td>\n",
       "      <td>Maria Cantwell</td>\n",
       "      <td>1958-10-13</td>\n",
       "      <td>F</td>\n",
       "      <td>sen</td>\n",
       "      <td>WA</td>\n",
       "      <td>...</td>\n",
       "      <td>N00007836</td>\n",
       "      <td>S275</td>\n",
       "      <td>S8WA00194,H2WA01054</td>\n",
       "      <td>26137.0</td>\n",
       "      <td>300018</td>\n",
       "      <td>27122.0</td>\n",
       "      <td>Maria Cantwell</td>\n",
       "      <td>NaN</td>\n",
       "      <td>39310.0</td>\n",
       "      <td>Maria Cantwell</td>\n",
       "    </tr>\n",
       "    <tr>\n",
       "      <th>2</th>\n",
       "      <td>Cardin</td>\n",
       "      <td>Benjamin</td>\n",
       "      <td>L.</td>\n",
       "      <td>NaN</td>\n",
       "      <td>NaN</td>\n",
       "      <td>Benjamin L. Cardin</td>\n",
       "      <td>1943-10-05</td>\n",
       "      <td>M</td>\n",
       "      <td>sen</td>\n",
       "      <td>MD</td>\n",
       "      <td>...</td>\n",
       "      <td>N00001955</td>\n",
       "      <td>S308</td>\n",
       "      <td>H6MD03177,S6MD03177</td>\n",
       "      <td>4004.0</td>\n",
       "      <td>400064</td>\n",
       "      <td>26888.0</td>\n",
       "      <td>Ben Cardin</td>\n",
       "      <td>NaN</td>\n",
       "      <td>15408.0</td>\n",
       "      <td>Ben Cardin</td>\n",
       "    </tr>\n",
       "    <tr>\n",
       "      <th>3</th>\n",
       "      <td>Carper</td>\n",
       "      <td>Thomas</td>\n",
       "      <td>Richard</td>\n",
       "      <td>NaN</td>\n",
       "      <td>NaN</td>\n",
       "      <td>Thomas R. Carper</td>\n",
       "      <td>1947-01-23</td>\n",
       "      <td>M</td>\n",
       "      <td>sen</td>\n",
       "      <td>DE</td>\n",
       "      <td>...</td>\n",
       "      <td>N00012508</td>\n",
       "      <td>S277</td>\n",
       "      <td>S8DE00079</td>\n",
       "      <td>663.0</td>\n",
       "      <td>300019</td>\n",
       "      <td>22421.0</td>\n",
       "      <td>Tom Carper</td>\n",
       "      <td>NaN</td>\n",
       "      <td>15015.0</td>\n",
       "      <td>Tom Carper</td>\n",
       "    </tr>\n",
       "    <tr>\n",
       "      <th>4</th>\n",
       "      <td>Casey</td>\n",
       "      <td>Robert</td>\n",
       "      <td>P.</td>\n",
       "      <td>Jr.</td>\n",
       "      <td>Bob</td>\n",
       "      <td>Robert P. Casey, Jr.</td>\n",
       "      <td>1960-04-13</td>\n",
       "      <td>M</td>\n",
       "      <td>sen</td>\n",
       "      <td>PA</td>\n",
       "      <td>...</td>\n",
       "      <td>N00027503</td>\n",
       "      <td>S309</td>\n",
       "      <td>S6PA00217</td>\n",
       "      <td>47036.0</td>\n",
       "      <td>412246</td>\n",
       "      <td>2541.0</td>\n",
       "      <td>Bob Casey, Jr.</td>\n",
       "      <td>NaN</td>\n",
       "      <td>40703.0</td>\n",
       "      <td>Bob Casey Jr.</td>\n",
       "    </tr>\n",
       "  </tbody>\n",
       "</table>\n",
       "<p>5 rows × 34 columns</p>\n",
       "</div>"
      ],
      "text/plain": [
       "  last_name first_name middle_name suffix nickname             full_name  \\\n",
       "0     Brown    Sherrod         NaN    NaN      NaN         Sherrod Brown   \n",
       "1  Cantwell      Maria         NaN    NaN      NaN        Maria Cantwell   \n",
       "2    Cardin   Benjamin          L.    NaN      NaN    Benjamin L. Cardin   \n",
       "3    Carper     Thomas     Richard    NaN      NaN      Thomas R. Carper   \n",
       "4     Casey     Robert          P.    Jr.      Bob  Robert P. Casey, Jr.   \n",
       "\n",
       "     birthday gender type state  ...  opensecrets_id  lis_id  \\\n",
       "0  1952-11-09      M  sen    OH  ...       N00003535    S307   \n",
       "1  1958-10-13      F  sen    WA  ...       N00007836    S275   \n",
       "2  1943-10-05      M  sen    MD  ...       N00001955    S308   \n",
       "3  1947-01-23      M  sen    DE  ...       N00012508    S277   \n",
       "4  1960-04-13      M  sen    PA  ...       N00027503    S309   \n",
       "\n",
       "               fec_ids cspan_id govtrack_id votesmart_id  ballotpedia_id  \\\n",
       "0  H2OH13033,S6OH00163   5051.0      400050      27018.0   Sherrod Brown   \n",
       "1  S8WA00194,H2WA01054  26137.0      300018      27122.0  Maria Cantwell   \n",
       "2  H6MD03177,S6MD03177   4004.0      400064      26888.0      Ben Cardin   \n",
       "3            S8DE00079    663.0      300019      22421.0      Tom Carper   \n",
       "4            S6PA00217  47036.0      412246       2541.0  Bob Casey, Jr.   \n",
       "\n",
       "  washington_post_id icpsr_id    wikipedia_id  \n",
       "0                NaN  29389.0   Sherrod Brown  \n",
       "1                NaN  39310.0  Maria Cantwell  \n",
       "2                NaN  15408.0      Ben Cardin  \n",
       "3                NaN  15015.0      Tom Carper  \n",
       "4                NaN  40703.0   Bob Casey Jr.  \n",
       "\n",
       "[5 rows x 34 columns]"
      ]
     },
     "execution_count": 10,
     "metadata": {},
     "output_type": "execute_result"
    }
   ],
   "source": [
    "legis_df.head()"
   ]
  },
  {
   "cell_type": "markdown",
   "metadata": {},
   "source": [
    "### Create tweets subset for only legislators present in the dataset"
   ]
  },
  {
   "cell_type": "code",
   "execution_count": 11,
   "metadata": {},
   "outputs": [],
   "source": [
    "def date_convert(dt):\n",
    "    \"\"\"Convert pandas datetime object to neo4j date string representation\"\"\"\n",
    "    return f\"{dt.year}-{dt.month}-{dt.day}\""
   ]
  },
  {
   "cell_type": "code",
   "execution_count": 11,
   "metadata": {},
   "outputs": [
    {
     "name": "stdout",
     "output_type": "stream",
     "text": [
      "Processed 1243370 rows\r"
     ]
    }
   ],
   "source": [
    "legis_tweets = []\n",
    "legislator_names = set(legis_df.twitter.unique())\n",
    "loaded_rows = 0\n",
    "\n",
    "for chunk in pd.read_json(full_tweets_fname, lines=True, chunksize=1000):\n",
    "    loaded_rows += chunk.shape[0]\n",
    "    print(f\"Processed {loaded_rows} rows\", end='\\r')\n",
    "    for row in range(chunk.shape[0]):\n",
    "        replier = chunk.iloc[row].screen_name\n",
    "        repliee = chunk.iloc[row].in_reply_to_screen_name\n",
    "        if replier in legislator_names and repliee in legislator_names:\n",
    "            row = chunk.iloc[row].to_dict()\n",
    "            # Remove all single and double quotes from text\n",
    "            row[\"text\"] = row[\"text\"].replace('\\'', '').replace(\"\\\"\", \"\").replace('’', '').replace('\\\\', '/')\n",
    "            # Add a hashtag key\n",
    "            row[\"htags\"] = row[\"entities\"][\"hashtags\"]\n",
    "            # Add a user_mentions key\n",
    "            row[\"user_mentions\"] = row[\"entities\"][\"user_mentions\"]\n",
    "            # Change created date to be default neo4j compatible\n",
    "            row[\"created_at\"] = date_convert(row[\"created_at\"])\n",
    "            \n",
    "            legis_tweets.append(row)"
   ]
  },
  {
   "cell_type": "code",
   "execution_count": 13,
   "metadata": {},
   "outputs": [],
   "source": [
    "legis_tweets_df = pd.DataFrame(legis_tweets)"
   ]
  },
  {
   "cell_type": "code",
   "execution_count": 14,
   "metadata": {
    "scrolled": true
   },
   "outputs": [
    {
     "data": {
      "text/plain": [
       "(14988, 34)"
      ]
     },
     "execution_count": 14,
     "metadata": {},
     "output_type": "execute_result"
    }
   ],
   "source": [
    "legis_tweets_df.shape"
   ]
  },
  {
   "cell_type": "code",
   "execution_count": 18,
   "metadata": {},
   "outputs": [],
   "source": [
    "legis_tweets_df.to_csv(tweets_fname, index=False)"
   ]
  },
  {
   "cell_type": "markdown",
   "metadata": {},
   "source": [
    "***"
   ]
  },
  {
   "cell_type": "markdown",
   "metadata": {},
   "source": [
    "# Neo4j data loading"
   ]
  },
  {
   "cell_type": "markdown",
   "metadata": {},
   "source": [
    "### Load legislators into neo4j"
   ]
  },
  {
   "cell_type": "code",
   "execution_count": 68,
   "metadata": {
    "scrolled": false
   },
   "outputs": [],
   "source": [
    "q = \"\"\"\n",
    "WITH \\\"file:///\"\"\" + legislators_fname + \"\"\"\\\" AS url\n",
    "LOAD CSV WITH HEADERS FROM url AS row\n",
    "\n",
    "CREATE (p:Person {fname:row.first_name, lname:row.last_name, full_name:row.full_name, twitter:row.twitter, party:row.party, state:row.state})\n",
    "\n",
    "RETURN p\n",
    "\"\"\"\n",
    "out = session.run(q)\n",
    "out.data()"
   ]
  },
  {
   "cell_type": "markdown",
   "metadata": {},
   "source": [
    "### Load tweets into neo4j"
   ]
  },
  {
   "cell_type": "code",
   "execution_count": 20,
   "metadata": {
    "scrolled": true
   },
   "outputs": [],
   "source": [
    "def upload_chunk(fname):\n",
    "    q = \"\"\"\n",
    "    WITH \\\"file:///\"\"\" + fname + \"\"\"\\\" AS url\n",
    "    LOAD CSV WITH HEADERS FROM url AS row\n",
    "    \n",
    "    WITH row WHERE NOT row.in_reply_to_screen_name IS NULL\n",
    "    \n",
    "    MERGE (p1:Person {twitter:row.screen_name})\n",
    "    MERGE (p2:Person {twitter:row.in_reply_to_screen_name})\n",
    "        \n",
    "    CREATE (p1) - [r:REPLIED] -> (p2)\n",
    "    \n",
    "    SET r.create_date = date(row.created_at)\n",
    "    SET r.text = row.text\n",
    "    \n",
    "    RETURN r\n",
    "    \"\"\"\n",
    "    out = session.run(q)\n",
    "    \n",
    "    return out.data()"
   ]
  },
  {
   "cell_type": "code",
   "execution_count": 21,
   "metadata": {
    "scrolled": true
   },
   "outputs": [
    {
     "name": "stdout",
     "output_type": "stream",
     "text": [
      "Tweet upload complete                             \n",
      "3 chunks processed\n",
      "14988 rows uploaded\n"
     ]
    }
   ],
   "source": [
    "chunk_num = 0\n",
    "rows_uploaded = 0\n",
    "# NEO4J_DATA_DIR is defined in pword.py, stored in the same directory as this notebook.\n",
    "if not os.path.exists(NEO4J_DATA_DIR + \"temp/\"):\n",
    "    os.mkdir(NEO4J_DATA_DIR + \"temp/\")\n",
    "\n",
    "for chunk in pd.read_csv(tweets_fname, chunksize=10000):\n",
    "    fname = \"temp/\" + f\"tweets_chunk_{chunk_num}.csv\"\n",
    "    print(\" \"*50, end='\\r')\n",
    "    print(\"Saving temp file\", end='\\r')\n",
    "    chunk.to_csv(NEO4J_DATA_DIR + fname, index=False)\n",
    "    print(\" \"*50, end='\\r')\n",
    "    print(f\"Uploading chunk {chunk_num} data\", end='\\r')\n",
    "    upload_chunk(DATA_DIR + fname)\n",
    "    print(\" \"*50, end='\\r')\n",
    "    print(\"Removing temp file\", end='\\r')\n",
    "    os.remove(NEO4J_DATA_DIR + fname)\n",
    "    \n",
    "    chunk_num += 1\n",
    "    rows_uploaded += chunk.shape[0]\n",
    "    \n",
    "print(\"Tweet upload complete\")\n",
    "print(f\"{chunk_num + 1} chunks processed\")\n",
    "print(f\"{rows_uploaded} rows uploaded\")"
   ]
  },
  {
   "cell_type": "markdown",
   "metadata": {},
   "source": [
    "***"
   ]
  },
  {
   "cell_type": "markdown",
   "metadata": {},
   "source": [
    "# Analysis"
   ]
  },
  {
   "cell_type": "markdown",
   "metadata": {},
   "source": [
    "### Party distribution between a `timedelta` day period"
   ]
  },
  {
   "cell_type": "code",
   "execution_count": 12,
   "metadata": {},
   "outputs": [],
   "source": [
    "def get_date_range(in_date, out_date=None, time_delta=30):\n",
    "    in_date = datetime.datetime.strptime(in_date, \"%Y-%m-%d\")\n",
    "    if out_date is None:\n",
    "        out_date = in_date + datetime.timedelta(days=time_delta)\n",
    "    date_range = list(map(date_convert, [in_date, out_date]))\n",
    "    \n",
    "    return date_range"
   ]
  },
  {
   "cell_type": "code",
   "execution_count": 13,
   "metadata": {},
   "outputs": [],
   "source": [
    "def get_bounded_data(in_date, out_date=None, time_delta=30):\n",
    "    date_range = get_date_range(in_date, out_date, time_delta)\n",
    "    \n",
    "    q = \"\"\"\n",
    "    MATCH (p1:Person) - [r:REPLIED] -> (p2:Person)\n",
    "    WHERE r.create_date > DATE(\\\"\"\"\" + date_range[0] + \"\"\"\\\") AND r.create_date < DATE(\\\"\"\"\" + date_range[1] + \"\"\"\\\")\n",
    "    RETURN p1, r.text, p2\n",
    "    \"\"\"\n",
    "    print(\"Running neo4j query:\\n\" + q)\n",
    "    out = session.run(q)\n",
    "    \n",
    "    return out.data()"
   ]
  },
  {
   "cell_type": "code",
   "execution_count": 14,
   "metadata": {},
   "outputs": [],
   "source": [
    "from collections import defaultdict"
   ]
  },
  {
   "cell_type": "code",
   "execution_count": 15,
   "metadata": {},
   "outputs": [],
   "source": [
    "def get_party_dist(data):\n",
    "    party_count = defaultdict(int)\n",
    "    for elem in data:\n",
    "        party_count[elem[\"p1\"][\"party\"]] += 1\n",
    "        party_count[elem[\"p2\"][\"party\"]] += 1\n",
    "    return party_count"
   ]
  },
  {
   "cell_type": "code",
   "execution_count": 16,
   "metadata": {},
   "outputs": [],
   "source": [
    "def plot_party_dist(in_date, data, figsize=(10, 10)):\n",
    "    display(data)\n",
    "    title = get_date_range(in_date)\n",
    "    title = \"Party distribution of \" + title[0] + ' to ' + title[1] + \" tweets\"\n",
    "    data.plot(y=\"count\", kind=\"pie\", figsize=figsize, title=title)"
   ]
  },
  {
   "cell_type": "markdown",
   "metadata": {},
   "source": [
    "***"
   ]
  },
  {
   "cell_type": "markdown",
   "metadata": {},
   "source": [
    "# Redis Caching"
   ]
  },
  {
   "cell_type": "code",
   "execution_count": 18,
   "metadata": {},
   "outputs": [],
   "source": [
    "import redis\n",
    "r = redis.Redis(host='my-redis', port=6379, db=0)\n",
    "## Test redis system functionality\n",
    "r.set('foo', 'bar')"
   ]
  },
  {
   "cell_type": "code",
   "execution_count": 17,
   "metadata": {},
   "outputs": [],
   "source": [
    "def solr_query(string):\n",
    "    \"\"\"Function that takes in string of Queries and formats into solr query JSON\n",
    "    \n",
    "    Args: \n",
    "        param1(str): string of space separated queries\n",
    "        ex1: \"trump\"\n",
    "        ex2: \"trump biden\"\n",
    "        \n",
    "    Returns: \n",
    "        string: link of solr query output\n",
    "    \"\"\"\n",
    "    \n",
    "    link = 'http://awesome-hw.sdsc.edu:8983/solr/student-news/select?q='\n",
    "    column = 'title%3A'\n",
    "    space = '%20AND%20'\n",
    "    searches = string.split(\" \")\n",
    "    multiple = ''\n",
    "    \n",
    "    #If there is only one search \n",
    "    if len(searches) == 1:\n",
    "        link = link + column + searches[0]\n",
    "    #Multiple searches to concatenate\n",
    "    else:\n",
    "        for i in range(1, len(searches)):\n",
    "            multiple = multiple + space + column + searches[i]\n",
    "        link = link + column + searches[0] + multiple\n",
    "        \n",
    "    return link"
   ]
  },
  {
   "cell_type": "code",
   "execution_count": 60,
   "metadata": {},
   "outputs": [],
   "source": [
    "## Solr query\n",
    "SOLR_QUERY = solr_query(\"trump election\")\n",
    "\n",
    "q1j = requests.get(SOLR_QUERY)\n",
    "out = q1j.json()"
   ]
  },
  {
   "cell_type": "code",
   "execution_count": 20,
   "metadata": {},
   "outputs": [],
   "source": [
    "def format_response(response):\n",
    "    \"\"\"Format query output into a dictionary\"\"\"\n",
    "    out = {}\n",
    "    out[\"title\"] = response[\"text-field\"]\n",
    "    out[\"publishdate\"] = response[\"publishdate\"]\n",
    "    return out\n",
    "\n",
    "output = list(map(format_response, out[\"response\"][\"docs\"]))"
   ]
  },
  {
   "cell_type": "code",
   "execution_count": 21,
   "metadata": {},
   "outputs": [],
   "source": [
    "## Put publish date and title of article into Redis Cache\n",
    "\n",
    "for out in output: \n",
    "    r.append(out['publishdate'], out['title'])"
   ]
  },
  {
   "cell_type": "code",
   "execution_count": 22,
   "metadata": {},
   "outputs": [],
   "source": [
    "## Create Redis pipeline to get needed values \n",
    "\n",
    "pipe = r.pipeline()\n",
    "pipe.get('')\n",
    "pipe.execute()"
   ]
  },
  {
   "cell_type": "markdown",
   "metadata": {},
   "source": [
    "### Get publish date from first relevant article"
   ]
  },
  {
   "cell_type": "code",
   "execution_count": 67,
   "metadata": {
    "scrolled": true
   },
   "outputs": [
    {
     "name": "stdout",
     "output_type": "stream",
     "text": [
      "2016-10-01T00:00:00Z\n"
     ]
    }
   ],
   "source": [
    "date = r.get('Last day: Trump rails, Biden pushes')\n",
    "print(date)"
   ]
  },
  {
   "cell_type": "markdown",
   "metadata": {},
   "source": [
    "### Run neo4j query based on Solr query output"
   ]
  },
  {
   "cell_type": "code",
   "execution_count": 23,
   "metadata": {
    "scrolled": false
   },
   "outputs": [
    {
     "name": "stdout",
     "output_type": "stream",
     "text": [
      "Running neo4j query:\n",
      "\n",
      "    MATCH (p1:Person) - [r:REPLIED] -> (p2:Person)\n",
      "    WHERE r.create_date > DATE(\"2016-10-1\") AND r.create_date < DATE(\"2016-12-30\")\n",
      "    RETURN p1, r.text, p2\n",
      "    \n"
     ]
    }
   ],
   "source": [
    "in_date = \"2016-10-1\"\n",
    "time_delta = 90\n",
    "data = get_bounded_data(in_date, time_delta=time_delta)\n",
    "data = pd.DataFrame(dict(get_party_dist(data)), index=[\"count\"]).transpose()"
   ]
  },
  {
   "cell_type": "markdown",
   "metadata": {},
   "source": [
    "### Note: Sometimes pie plot doesn't show up on initial run of the below cell."
   ]
  },
  {
   "cell_type": "code",
   "execution_count": 25,
   "metadata": {
    "scrolled": false
   },
   "outputs": [
    {
     "data": {
      "text/html": [
       "<div>\n",
       "<style scoped>\n",
       "    .dataframe tbody tr th:only-of-type {\n",
       "        vertical-align: middle;\n",
       "    }\n",
       "\n",
       "    .dataframe tbody tr th {\n",
       "        vertical-align: top;\n",
       "    }\n",
       "\n",
       "    .dataframe thead th {\n",
       "        text-align: right;\n",
       "    }\n",
       "</style>\n",
       "<table border=\"1\" class=\"dataframe\">\n",
       "  <thead>\n",
       "    <tr style=\"text-align: right;\">\n",
       "      <th></th>\n",
       "      <th>count</th>\n",
       "    </tr>\n",
       "  </thead>\n",
       "  <tbody>\n",
       "    <tr>\n",
       "      <th>Democrat</th>\n",
       "      <td>1843</td>\n",
       "    </tr>\n",
       "    <tr>\n",
       "      <th>Independent</th>\n",
       "      <td>89</td>\n",
       "    </tr>\n",
       "    <tr>\n",
       "      <th>Republican</th>\n",
       "      <td>244</td>\n",
       "    </tr>\n",
       "  </tbody>\n",
       "</table>\n",
       "</div>"
      ],
      "text/plain": [
       "             count\n",
       "Democrat      1843\n",
       "Independent     89\n",
       "Republican     244"
      ]
     },
     "metadata": {},
     "output_type": "display_data"
    },
    {
     "data": {
      "image/png": "[encoded data removed]",
      "text/plain": [
       "<Figure size 720x720 with 1 Axes>"
      ]
     },
     "metadata": {},
     "output_type": "display_data"
    }
   ],
   "source": [
    "plot_party_dist(in_date, data)"
   ]
  },
  {
   "cell_type": "code",
   "execution_count": null,
   "metadata": {},
   "outputs": [],
   "source": []
  }
 ],
 "metadata": {
  "kernelspec": {
   "display_name": "Python 3",
   "language": "python",
   "name": "python3"
  },
  "language_info": {
   "codemirror_mode": {
    "name": "ipython",
    "version": 3
   },
   "file_extension": ".py",
   "mimetype": "text/x-python",
   "name": "python",
   "nbconvert_exporter": "python",
   "pygments_lexer": "ipython3",
   "version": "3.6.2"
  }
 },
 "nbformat": 4,
 "nbformat_minor": 2
}
