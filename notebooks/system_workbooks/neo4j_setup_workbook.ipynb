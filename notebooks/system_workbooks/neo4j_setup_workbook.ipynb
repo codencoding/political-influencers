{
 "cells": [
  {
   "cell_type": "markdown",
   "metadata": {},
   "source": [
    "# Neo4j data loading setup\n",
    "Using neo4j, we’ll load in twitter data to create a network showing the relationships between legislators’ tweets, other users they mention, and hashtags they mention. "
   ]
  },
  {
   "cell_type": "markdown",
   "metadata": {},
   "source": [
    "***"
   ]
  },
  {
   "cell_type": "code",
   "execution_count": 1,
   "metadata": {},
   "outputs": [],
   "source": [
    "import pandas as pd\n",
    "import numpy as np\n",
    "import sys\n",
    "import os"
   ]
  },
  {
   "cell_type": "code",
   "execution_count": 2,
   "metadata": {},
   "outputs": [],
   "source": [
    "ROOT_DIR = \"../../\"\n",
    "DATA_DIR = ROOT_DIR + \"data/\""
   ]
  },
  {
   "cell_type": "code",
   "execution_count": 3,
   "metadata": {},
   "outputs": [],
   "source": [
    "# Load utils\n",
    "sys.path.insert(0, os.path.abspath(ROOT_DIR + \"/src\"))\n",
    "from utils import *"
   ]
  },
  {
   "cell_type": "markdown",
   "metadata": {},
   "source": [
    "### Import local password and NEO4J_DATA_DIR\n",
    "Create a .py file containing the following declarations:\n",
    "- password = <Your neo4j server password>\n",
    "- NEO4J_DATA_DIR = <C:/Users/PC USERNAME/AppData/Local/Neo4j/Relate/Data/dbmss/SERVER ID/import/data/>"
   ]
  },
  {
   "cell_type": "code",
   "execution_count": 4,
   "metadata": {},
   "outputs": [],
   "source": [
    "from pword import *"
   ]
  },
  {
   "cell_type": "markdown",
   "metadata": {},
   "source": [
    "### Connect to local neo4j database"
   ]
  },
  {
   "cell_type": "code",
   "execution_count": 18,
   "metadata": {
    "scrolled": true
   },
   "outputs": [],
   "source": [
    "from neo4j import GraphDatabase\n",
    "uri = 'neo4j://localhost:7687'\n",
    "driver = GraphDatabase.driver(uri, auth=(\"neo4j\", password))\n",
    "session = driver.session()"
   ]
  },
  {
   "cell_type": "markdown",
   "metadata": {},
   "source": [
    "***"
   ]
  },
  {
   "cell_type": "markdown",
   "metadata": {},
   "source": [
    "## Data loading"
   ]
  },
  {
   "cell_type": "code",
   "execution_count": 6,
   "metadata": {},
   "outputs": [],
   "source": [
    "legislators_fname = DATA_DIR + \"legislators-current.csv\"\n",
    "full_tweets_fname = DATA_DIR + \"tweets.json\"\n",
    "tweets_fname = DATA_DIR + \"legis_tweets.csv\""
   ]
  },
  {
   "cell_type": "markdown",
   "metadata": {},
   "source": [
    "### Load legislators"
   ]
  },
  {
   "cell_type": "code",
   "execution_count": null,
   "metadata": {},
   "outputs": [],
   "source": [
    "legis_df = pd.read_csv(legislators_fname)"
   ]
  },
  {
   "cell_type": "markdown",
   "metadata": {},
   "source": [
    "### Create tweets subset for only legislators present in the dataset"
   ]
  },
  {
   "cell_type": "code",
   "execution_count": null,
   "metadata": {},
   "outputs": [],
   "source": [
    "legis_tweets = []\n",
    "legislator_names = set(legis_df.twitter.unique())\n",
    "loaded_rows = 0\n",
    "\n",
    "for chunk in pd.read_json(full_tweets_fname, lines=True, chunksize=1000):\n",
    "    loaded_rows += chunk.shape[0]\n",
    "    print(f\"Loaded {loaded_rows} rows\", end='\\r')\n",
    "    for row in range(chunk.shape[0]):\n",
    "        if chunk.iloc[row].screen_name in legislator_names:\n",
    "            row = chunk.iloc[row].to_dict()\n",
    "            # Remove all single and double quotes from text\n",
    "            row[\"text\"] = row[\"text\"].replace('\\'', '').replace(\"\\\"\", \"\").replace('’', '').replace('\\\\', '/')\n",
    "            # Add a hashtag key\n",
    "            row[\"htags\"] = row[\"entities\"][\"hashtags\"]\n",
    "            # Add a user_mentions key\n",
    "            row[\"user_mentions\"] = row[\"entities\"][\"user_mentions\"]\n",
    "            \n",
    "            legis_tweets.append(row)"
   ]
  },
  {
   "cell_type": "code",
   "execution_count": null,
   "metadata": {},
   "outputs": [],
   "source": [
    "legis_tweets_df = pd.DataFrame(legis_tweets)"
   ]
  },
  {
   "cell_type": "code",
   "execution_count": null,
   "metadata": {},
   "outputs": [],
   "source": [
    "legis_tweets_df.to_csv(tweets_fname, index=False)"
   ]
  },
  {
   "cell_type": "markdown",
   "metadata": {},
   "source": [
    "### Load tweets"
   ]
  },
  {
   "cell_type": "code",
   "execution_count": 20,
   "metadata": {
    "scrolled": true
   },
   "outputs": [],
   "source": [
    "def upload_chunk(fname):\n",
    "    q = \"\"\"\n",
    "    WITH \\\"file:///\"\"\" + fname + \"\"\"\\\" AS url\n",
    "    LOAD CSV WITH HEADERS FROM url AS row\n",
    "    \n",
    "    WITH row WHERE NOT row.in_reply_to_screen_name IS NULL\n",
    "    \n",
    "    MERGE (p1:Person {twitter:row.screen_name})\n",
    "    MERGE (p2:Person {twitter:row.in_reply_to_screen_name})\n",
    "        \n",
    "    CREATE (p1) - [r:REPLIED] -> (p2)\n",
    "    \n",
    "    SET r.create_date = row.created_at\n",
    "    SET r.text = row.text\n",
    "    \n",
    "    RETURN r\n",
    "    \"\"\"\n",
    "    out = session.run(q)\n",
    "    \n",
    "    return out.data()"
   ]
  },
  {
   "cell_type": "code",
   "execution_count": 21,
   "metadata": {
    "scrolled": true
   },
   "outputs": [
    {
     "name": "stdout",
     "output_type": "stream",
     "text": [
      "Tweet upload complete                             \n",
      "72 chunks processed\n",
      "707034 rows uploaded\n"
     ]
    }
   ],
   "source": [
    "chunk_num = 0\n",
    "rows_uploaded = 0\n",
    "# NEO4J_DATA_DIR is defined in pword.py, stored in the same directory as this notebook.\n",
    "if not os.path.exists(NEO4J_DATA_DIR + \"temp/\"):\n",
    "    os.mkdir(NEO4J_DATA_DIR + \"temp/\")\n",
    "\n",
    "for chunk in pd.read_csv(tweets_fname, chunksize=10000):\n",
    "    fname = \"temp/\" + f\"tweets_chunk_{chunk_num}.csv\"\n",
    "    print(\" \"*50, end='\\r')\n",
    "    print(\"Saving temp file\", end='\\r')\n",
    "    chunk.to_csv(NEO4J_DATA_DIR + fname, index=False)\n",
    "    print(\" \"*50, end='\\r')\n",
    "    print(f\"Uploading chunk {chunk_num} data\", end='\\r')\n",
    "    upload_chunk(DATA_DIR + fname)\n",
    "    print(\" \"*50, end='\\r')\n",
    "    print(\"Removing temp file\", end='\\r')\n",
    "    os.remove(NEO4J_DATA_DIR + fname)\n",
    "    \n",
    "    chunk_num += 1\n",
    "    rows_uploaded += chunk.shape[0]\n",
    "    \n",
    "print(\"Tweet upload complete\")\n",
    "print(f\"{chunk_num + 1} chunks processed\")\n",
    "print(f\"{rows_uploaded} rows uploaded\")"
   ]
  },
  {
   "cell_type": "code",
   "execution_count": 52,
   "metadata": {},
   "outputs": [],
   "source": [
    "q = \"\"\"\n",
    "MATCH (p1:Person {twitter:'SenSherrodBrown'}) - [r:REPLIED] -> (p2:Person)\n",
    "RETURN DISTINCT r.text\n",
    "\"\"\"\n",
    "out = session.run(q)"
   ]
  },
  {
   "cell_type": "code",
   "execution_count": 53,
   "metadata": {},
   "outputs": [],
   "source": [
    "out = out.data()"
   ]
  },
  {
   "cell_type": "code",
   "execution_count": 54,
   "metadata": {},
   "outputs": [
    {
     "data": {
      "text/plain": [
       "166"
      ]
     },
     "execution_count": 54,
     "metadata": {},
     "output_type": "execute_result"
    }
   ],
   "source": [
    "len(out)"
   ]
  },
  {
   "cell_type": "code",
   "execution_count": 55,
   "metadata": {},
   "outputs": [
    {
     "data": {
      "text/plain": [
       "[{'r.text': 'As @clevelanddotcom reports: House plan cuts $12mil from Ohio schools each year - money schools need for speech therapy, wheelchairs &amp; more.'},\n",
       " {'r.text': '@SenKamalaHarris Were just getting warmed up - see you Sunday. #DefendTheLand'},\n",
       " {'r.text': '@facebook @ColumbusChamber By connecting Ohio entrepreneurs with Facebook experts, we can help Ohio businesses grow and continue to create jobs. -SB'},\n",
       " {'r.text': 'Passing the INTERDICT Act is one concrete step we can take to help stop fentanyl from destroying any more Ohio families. -SB'},\n",
       " {'r.text': '@clevelanddotcom Whatever your thoughts on the #ACA, we can all agree that punishing Ohio students is not the solution.'},\n",
       " {'r.text': '@UAW We must never forget the pain endured by these workers, &amp; the countless others who fought to ensure all workers have the right to unionize.'},\n",
       " {'r.text': 'It is our duty to honor them, on this day and every day, by supporting veterans, servicemembers &amp; families.'},\n",
       " {'r.text': '@KingJames LeBron, thank you for the example you set. Rooting for you tonight and always. -SB'},\n",
       " {'r.text': 'Its never been more important to support a free press. Thank you for the work you do.'},\n",
       " {'r.text': '@clevelanddotcom In CLE alone schools would lose $500k—that could mean laying off 10 teachers, larger class sizes or fewer class offerings for all students.'},\n",
       " {'r.text': 'Instead of padding the pockets of insurance company CEOs, we should be working together to lower costs for all Ohioans. -SB'},\n",
       " {'r.text': 'Its despicable for Washington politicians with taxpayer-funded insurance to raise prices on working Ohioans simply for getting older. -SB'},\n",
       " {'r.text': '@JECDems 2018 Increase in Premiums in Ohio: $550'},\n",
       " {'r.text': 'Instead of moving forward with this bill, we need to work together to reduce costs and improve care for those we serve. -SB'},\n",
       " {'r.text': 'Proud to work with @senrobportman, @SenCapito, and @SenAngusKing on this important effort: https://t.co/FE38c0i0j2'},\n",
       " {'r.text': '@POTUS We must put a stop to Chinese steel overcapacity that is putting Ohio steel mills out of business and Ohio steel workers out of jobs.'},\n",
       " {'r.text': '3. It pulls the rug out from under our fight to combat the opioid crisis.'},\n",
       " {'r.text': '2. It cuts the Childrens Health Insurance Program (CHIP).'},\n",
       " {'r.text': '1. It ELIMINATES the Great Lakes Restoration Initiative – threatening clean water and good jobs along Lake Erie.'},\n",
       " {'r.text': '5. It slashes nearly 70% in the public housing repair budget, which would leave more Ohioans exposed to mold, lead, &amp; other health hazards.'},\n",
       " {'r.text': 'Governor Branstad is not that person.'},\n",
       " {'r.text': 'While we need to learn more, even the suggestion that POTUS may have shared classified info w/ Russia puts our natl security at risk. -SB'},\n",
       " {'r.text': 'cc: @AkronChildrens @nationwidekids @DaytonChildrens @UHRainbowBabies @CincyChildrens @ClevelandClinic Childrens'},\n",
       " {'r.text': '@AkronChildrens @nationwidekids @DaytonChildrens @UHRainbowBabies @CincyChildrens @ClevelandClinic Cutting Medicaid - as the House Republicans healthcare plan does - will hurt our children. And we just cant allow that to happen.'},\n",
       " {'r.text': '@JECDems Increased Cost of Uncompensated Care to Hospitals in Ohio in 2018: $263,684,124'},\n",
       " {'r.text': 'Urged the DOJ this week to speed up the distribution of funding for the Comprehensive Opioid Abuse Program. Our communities cannot wait. https://t.co/lvLMdmHuYy'},\n",
       " {'r.text': 'Its been never been more important to protect our endangered species - as well as the legislation that supports them. #EndangeredSpeciesDay'},\n",
       " {'r.text': 'Ohio is home to incredible childrens hospitals that rely on Medicaid to help cover care for children.'},\n",
       " {'r.text': '@AkronChildrens @nationwidekids @DaytonChildrens @UHRainbowBabies @CincyChildrens @ClevelandClinic And Ohio schools use federal Medicaid $ to pay for physical &amp; speech therapy, wheelchairs, and other services for students w/ disabilities.'},\n",
       " {'r.text': 'The House bill will drive up costs, kick Ohioans off their insurance &amp; leave folks who have asthma or cancer unable to even purchase a plan.'},\n",
       " {'r.text': 'All of our children - no matter their color, race, or gender - deserve access to equal, quality education. Our fight for that continues.'},\n",
       " {'r.text': 'The investigation needs to be done right and it needs to be done swiftly, so the American people can get the answers they deserve. -SB'},\n",
       " {'r.text': '4. It reduces workforce training funding by 40%, &amp; eliminates the Economic Development Administration &amp; Manufacturing Extension Partnership.'},\n",
       " {'r.text': 'It is also a reminder of the work to be done to ensure officers have the resources they need, and the benefits they deserve.'},\n",
       " {'r.text': '@POTUS China cheats and they win; we play by the rules and we lose. That has to stop. Read my full letter to @POTUS → https://t.co/XdPJn796vW'},\n",
       " {'r.text': 'As w/ every trade deal, Ill hold this Admins approach to NAFTA to the same standard Ive always used: does it put Ohio workers first? -SB'},\n",
       " {'r.text': '@JECDems Number Losing Private Coverage in Ohio in 2018: 292,982'},\n",
       " {'r.text': '6. It zeros out the Appalachian Regional Commission - a slap in the face to rural Ohio.'},\n",
       " {'r.text': 'I look forward to working closely with our newly confirmed @USTradeRep Bob Lightizer to get to work delivering results for Ohio. -SB'},\n",
       " {'r.text': '...paraplegia, Parkinsons disease, pregnancy, restless leg syndrome, schizophrenia, seasonal affective disorder, seizures...'},\n",
       " {'r.text': '.@realDonaldTrump …and to the Ohio county morgues whove had to bring in extra refrigerated trucks to keep up with the overdose deaths in our state. -SB'},\n",
       " {'r.text': '.@NationalNurses Nurses want to provide best possible care to their patients &amp; to do so safely. We must work to establish standards that improve patient care'},\n",
       " {'r.text': '...and ulcers. To name a few. And chances are, you or someone you know has dealt with something (or multiple things) on this list.'},\n",
       " {'r.text': '...cerebral palsy, cerebral thrombosis, cervical cancer, colon cancer, colon polyps, congestive heart failure, COPD, Crohns disease...'},\n",
       " {'r.text': '...sickle cell disease, skin cancer, sleep apnea, sleep disorders, stent, stroke, thyroid issues, tooth disease, tuberculosis...'},\n",
       " {'r.text': '...kidney disease, kidney stones, kidney transplant, leukemia, lung cancer, lupus, lymphoma, mental health issues, migraines, MS...'},\n",
       " {'r.text': 'Folks with pre-existing conditions shouldnt be charged more for healthcare. Its as simple as that.'},\n",
       " {'r.text': 'We are thankful to the first responders who acted to keep residents of the nursing home safe and to protect the surrounding community. -SB'},\n",
       " {'r.text': '...anorexia, anxiety, arrhythmia, arthritis, asthma, atrial fibrillation, autism, bariatric surgery, basal cell carcinoma...'},\n",
       " {'r.text': '...bipolar disorder, blood clot, breast cancer, bulimia, bypass surgery, celiac disease, cerebral aneurysm, cerebral embolism...'},\n",
       " {'r.text': '...muscular dystrophy, narcolepsy, nasal polyps, obesity, OCD, organ transplant, osteoporosis, pacemaker, panic disorder, paralysis...'},\n",
       " {'r.text': 'AIDS/HIV, acid reflux, acne, ADD, addiction, Alzheimers/dementia, anemia, aneurysm, angioplasty...'},\n",
       " {'r.text': 'So what is a pre-existing condition? Lets put it like this - you may pay more for healthcare under their plan if youve been affected by:'},\n",
       " {'r.text': '…gout, heart disease, heart murmur, heartburn, hemophilia, hepatitis C, herpes, high cholesterol, hypertension, hysterectomy...'},\n",
       " {'r.text': '...cystic fibrosis, DMD, depression, diabetes, disabilities, Down syndrome, eating disorder, enlarged prostate, epilepsy, glaucoma...'},\n",
       " {'r.text': 'But the fight isnt over. These workers were promised pensions too, and we must not give up until the government makes good on that promise.'},\n",
       " {'r.text': 'But the fight isnt over. These workers were promised pensions too &amp; we must not give up until the government makes good on that promise -SB'},\n",
       " {'r.text': 'Im proud to see Ohio Republicans and Democrats coming together to support our Great Lake and do whats right for Ohio. -SB'},\n",
       " {'r.text': '.@POTUS @RepHensarling Bottom line: this bill guts important Wall Street reforms that protect American families from being on the hook for another bailout.'},\n",
       " {'r.text': '.@POTUS American jobs shouldnt be up for negotiation and American workers cant be traded away as bargaining chips. -SB'},\n",
       " {'r.text': 'Proud to stand with the LGBTQ community, today and every day. -SB https://t.co/jb8nU611mv'},\n",
       " {'r.text': 'Everyone deserves = access to education, housing &amp; employment. These protections are long overdue&amp;will help us further protect LGBT Ohioans.'},\n",
       " {'r.text': 'One of the worst offenders here is airlines. These workers end up losing basic workplace protections, and earn less than they should.'},\n",
       " {'r.text': 'Find your local Take Back site and learn more here: https://t.co/ZtSwXovtqK'},\n",
       " {'r.text': 'Wrote letters to the CEOs of 10 airlines w/ @CoryBooker this week, and we urged them to improve the pay &amp; benefits of their subcontractors.'},\n",
       " {'r.text': '.@POTUS …House Republicans are now fighting to give megabanks and payday lenders everything they want and more with @RepHensarlings new bill.'},\n",
       " {'r.text': 'Board members need to bear responsibility. 5,300 front-line employees who lost their jobs'},\n",
       " {'r.text': '.@RepSteveStivers @RepBradWenstrup We thank them for their service.'},\n",
       " {'r.text': 'Well-paid board members should earn their keep instead of just taking what theyre spoon-fed from senior management.'},\n",
       " {'r.text': 'We must honor the workers who lost their lives by recommitting ourselves to restoring the value of work, including strong worker protections'},\n",
       " {'r.text': '.@CLEpolice @OSHP @PAStatePolice Our hearts break for all the families involved in this terrible tragedy.'},\n",
       " {'r.text': '.@NCAA Looking forward to the DII and DIII Championship Games in Canton and Geneva!'},\n",
       " {'r.text': '.@senrobportman @CommerceGov If countries dont play fair, the US stands ready to crack down on unfair trade practices that close up factories &amp; put workers out of jobs.'},\n",
       " {'r.text': '.@senrobportman @CommerceGov Our Leveling the Playing Field Act restored strength to antidumping and countervailing duty statutes, and paved the way for this decision.'},\n",
       " {'r.text': '.@POTUS We should be working to lower taxes for families and workers across Ohio, not helping multimillion-dollar corporations cheat the system.'},\n",
       " {'r.text': 'We are grateful to the police for their ongoing work to keep our community safe and bring the shooter to justice. -SB'},\n",
       " {'r.text': 'We are grateful to the medical professionals caring for the injured as well as the the police and first responders at the scene. -SB'},\n",
       " {'r.text': '.@senrobportman @RepJimRenacci We keep Dobys statue in our front office, as a reminder of his heroism &amp; skill. He overcame discrimination &amp; hostility to break barriers. https://t.co/xkWkYfIyAy'},\n",
       " {'r.text': 'Im working to get @CustomsBorder more resources to keep fentanyl out of the US - learn more about my new bill: https://t.co/o7a2DIEuGN'},\n",
       " {'r.text': 'This is how we get rules that allow Wall Street banks and hedge funds to wreak havoc on ordinary working families, with no consequences.'},\n",
       " {'r.text': 'On this #EqualPayDay, Im proud to reintroduce the Paycheck Fairness Act, which would end pay discrimination based on gender. -SB https://t.co/0D2qpjXxA4'},\n",
       " {'r.text': '.@CFPB The @CFPB &amp; @CFPBMilitary work w/ @DeptofDefense to keep our servicemembers ready. They deserve our strong &amp; continued support. #DefendCFPB https://t.co/1fuvBwyf7R'},\n",
       " {'r.text': '@senrobportman and I thank @RepMikeTurner for his support of todays visit. -SB'},\n",
       " {'r.text': 'I want to hear what Mr. Clayton will do to represent glass workers in Lancaster, auto workers in Warren, or steel workers in Canton. -SB'},\n",
       " {'r.text': 'Im concerned Mr. Clayton may need to recuse himself too often at a time when we need a strong, independent SEC chair on the frontline. -SB'},\n",
       " {'r.text': 'Ohioans will always stand together against hate. Grateful for the work of these law enforcement officials. https://t.co/FWZIFpMgJB'},\n",
       " {'r.text': 'Gorsuch puts corps over workers, polluters over communities, Wall St over working families &amp; special interest $ over grassroots activists.'},\n",
       " {'r.text': 'Taking away these protections is wrong. We will continue using Title IX and the Constitution to protect transgender students from bullying.'},\n",
       " {'r.text': 'The declining value of work is hurting our country. When hard work doesnt pay off, our economy cannot grow.'},\n",
       " {'r.text': 'We need to update our economic policies, our retirement policies, and our labor laws to reflect todays reality.'},\n",
       " {'r.text': 'Update: got caught in a snowstorm in CLE. Will be there by 10:30. Tune in then, and like my page to get an exact notification when we start.'},\n",
       " {'r.text': 'Dan is only one of the thousands of Ohioans whod benefit from the End Surprise Billing Act. Learn more here: https://t.co/l5fiRFBmXk'},\n",
       " {'r.text': 'The Fiduciary Rule protects consumers from conflicted investment advice, which costs Americans abt $17 billion in retirement savings each yr'},\n",
       " {'r.text': 'Last year, @iamjohnoliver explained the Fiduciary Rule well (and hilariously) on @LastWeekTonight. Watch here: https://t.co/jQWGSaIuda'},\n",
       " {'r.text': '@clevelanddotcom: https://t.co/Vjx9uuJBOc'},\n",
       " {'r.text': '@SenSherrodBrown Learn more abt how repeal would pull the rug out from Oh efforts to combat the opioid epidemic: https://t.co/zxDC5gTylL'},\n",
       " {'r.text': '@DispatchAlerts: Ohios Brown grills Wells Fargo CEO: https://t.co/fRtUZabnt4'},\n",
       " {'r.text': '@darreldrowland None other than the @Indians Rocky Colavito. Pointed his bat at the pitcher before every pitch! -SB'},\n",
       " {'r.text': '@ERAAction @PattyArquette Cannot make it but thank you for all the hard work on #WomensEqualityDay and every day!'},\n",
       " {'r.text': '.@SenatorBoxer Sweet dreams of victory! #DefendTheLand #ALLin216 https://t.co/Wu1Zttr0g0'},\n",
       " {'r.text': '.@SenatorBoxer Thank you @SenatorBoxer and @Warriors for a great #NBAfinals. We have your @cavs jersey ready. https://t.co/6rixKF38yB'},\n",
       " {'r.text': '.@SenatorBoxer its a shame you wont be able to enjoy any @platformbeers bc the @cavs are going all the way #Allin216 #NBAFinals'},\n",
       " {'r.text': '.@SenatorBoxer youve got yourself a bet! #ALLin216'},\n",
       " {'r.text': '@Man_Named_Mike @lbischoff @Ohio_Politics How do you choose just one? https://t.co/wVtHQEmUgy'},\n",
       " {'r.text': '@Buenoburrito @StetsonU Hope those shoes are made in America! How did it go?'},\n",
       " {'r.text': '.@JerRScott Happy to see such a wonderful family advocating for Ohioans!'},\n",
       " {'r.text': '@ekownyankah The Buckeye-Wolverine truce is continuing to spur this important discussion: https://t.co/RwIiWyNe4X cc: @SteveKoff'},\n",
       " {'r.text': '.@WhiteHouse @POTUS Unless, you are in Ohio! #madeinamerica'},\n",
       " {'r.text': '@EqualityOhio Too many lives have been lost. Today we honor those we have lost to prejudice #TDOR'},\n",
       " {'r.text': '.@SenatorCarper Glad to read about your work on transportation in Ohio. Its an important issue. O-H!'},\n",
       " {'r.text': '@Brownsfan6900 Mike, please call my Cleveland office at 216-522-7272.'},\n",
       " {'r.text': '@ACRFoodbank &amp; volunteers across NE Ohio are giving back to the community today by volunteering to end hunger. TY for your work. \\n#OpOrange'},\n",
       " {'r.text': '@SenatorBoxer Riley is something special, but I feel #blessed the @cavs will win it all.'},\n",
       " {'r.text': '.@hoppinfrog T minus 4 hours till tip-off. Go @Cavs ! #CavsNation #AllinCLE'},\n",
       " {'r.text': '.@ProMedicaHealth Thanks Renee for coming to my office today. #SpeakNowforKids'},\n",
       " {'r.text': '.@DaytonChildrens Thank you Kelsey for coming to my office today! #SpeakNowforKids'},\n",
       " {'r.text': '.@UHRainbowBabies Thank you to Kai and her family for visiting my office today! #SpeakNowforKids'},\n",
       " {'r.text': '.@loudboos If Congress put an end to currency manipulation, we could boost GDP by 2-4%. But #TPP does not include currency standards.'},\n",
       " {'r.text': '.@EricMGarcia at least 2/3 of Sen Dems will vote NO. Were working the rest, and Republicans too. We need your help--emails, calls, tweets.'},\n",
       " {'r.text': '.@NotOnThisWatch good question; its harder to see #TPP than for staff w/security clearance to see Iran sanctions, CIA, &amp; defense documents.'},\n",
       " {'r.text': '.@peterlafrance every President promises more jobs and higher wages w/ each trade deal. History shows it doesnt work out. #NotAnotherNAFTA'},\n",
       " {'r.text': '.@PresidentDHOP Thank you for coming to DC. Glad to have you here.'},\n",
       " {'r.text': '@pivilla @Reds @Indians Im a fan of all Ohio baseball. But as you can see, Ive always been a big fan of @Indians. http://t.co/N7QmHwXOVh'},\n",
       " {'r.text': '.@SenatorDurbin @SenJackReed @SenMarkey We should encourage companies to invest in American jobs. We must pass #PatriotEmployer. #VoteARama'},\n",
       " {'r.text': '.@WEWS 7 out of 8! @timkaine, you think you can get all correct? http://t.co/b6kbMvxdmm'},\n",
       " {'r.text': '@seantkin Youre right, Sean. These are children of hard working Ohioans. #extendCHIPnow'},\n",
       " {'r.text': '@ShanAttanasio @RonWyden @SenBobCasey Youre right, Shannon. We hope we can do it all.'},\n",
       " {'r.text': '@DearMomDiary @RonWyden @SenBobCasey All 46 Dem Senators have cosponsored. We need Republicans to support. Always been bipartisan.'},\n",
       " {'r.text': '@TerryAdirim @RonWyden @SenBobCasey My bill would extend quality provisions for 4 years #CHIPworks TY for supporting CHIP, Dr. Terry.'},\n",
       " {'r.text': '@nationalservice Happy Anniversary to AmeriCorps VISTA. 50 years of service to America.'},\n",
       " {'r.text': '@KingJames to be back #IntheCle http://t.co/CDVZeevkyY'},\n",
       " {'r.text': '@SenSherrodBrown Working link HERE: http://t.co/EcQrbcM2iB'},\n",
       " {'r.text': '@WHO is urging action against superbugs &amp; #AntibioticResistance. STAAR Act would help address concerns: http://t.co/C7pQZy8IUR'},\n",
       " {'r.text': 'TY @DrFriedenCDC &amp; @WHO for work to prevent #AntibioticResistance. #STAARAct would help combat &amp; promote prevention. http://t.co/ZIB99nDJ1d'},\n",
       " {'r.text': '@cjeagles Thank you for your impressive questions today. Have fun in DC! http://t.co/OimCZahUVq'},\n",
       " {'r.text': '@PresidentDHOP Thank you for having me! If you cant make it to the @wrightstate Student Union visit https://t.co/2b2ahiVBP7 to #GetCovered'},\n",
       " {'r.text': '.@timkaine Close! It was Tony Fernandez in the top of the 12th'},\n",
       " {'r.text': '.@timkaine The Cincinnati Redstockings or @Reds because they are the first professional @MLB team.'},\n",
       " {'r.text': '@timkaine Nice! Ive had one for years. Time to catch up! http://t.co/O5h23i4sjw'},\n",
       " {'r.text': '@OhioState Congrats for ranking # 4 in @PeaceCorps 2014 Top Volunteer-producing Colleges &amp; Universities http://t.co/iSUnNu1zue'},\n",
       " {'r.text': '@DenisonU Congrats for ranking in @PeaceCorps 2014 Top Volunteer-producing Colleges &amp; Universities http://t.co/iSUnNu1zue'},\n",
       " {'r.text': '@oberlincollege Congrats for ranking in @PeaceCorps 2014 Top Volunteer-producing Colleges &amp; Universities http://t.co/iSUnNu1zue'},\n",
       " {'r.text': '@KenyonCollege Congrats for ranking in @PeaceCorps 2014 Top Volunteer-producing Colleges &amp; Universities http://t.co/iSUnNu1zue'},\n",
       " {'r.text': '.@timkaine A difficult trivia question to start 2014! Is Jim Kaat one?'},\n",
       " {'r.text': '.@timkaine new year, new record MT @pgammo Sen. Tim Kaines New Years resolution is to be better in baseball trivia http://t.co/DXUuDj6eoB'},\n",
       " {'r.text': '@ShawneeState Congratulations for partnership with @WhiteHouse to increase access to higher education! http://t.co/12fYPZolqV'},\n",
       " {'r.text': '@KenyonCollege Congratulations for partnership with @WhiteHouse to increase access to higher education! http://t.co/JwCYRY41ih'},\n",
       " {'r.text': '@hiramcollege Congratulations for partnership with @WhiteHouse to increase access to higher education!'},\n",
       " {'r.text': '@ZaneStateC Congratulations for partnership with @WhiteHouse to increase access to higher education! http://t.co/pP4QchALfd'},\n",
       " {'r.text': '@oberlincollege Congratulations for partnership with @WhiteHouse to increase access to higher education! http://t.co/zTCgGyOww2'},\n",
       " {'r.text': '@TriCedu Congratulations for partnership with @WhiteHouse to increase access to higher education! http://t.co/JSJrXQbDhO'},\n",
       " {'r.text': '@garlandgates @maddow John, thank you for your 3 decades of activism since we met when you were in high school. -SB'},\n",
       " {'r.text': '.@GlennMooreCLE great to chat about @Indians - Glad to hear @hoynsie thinks Reynolds will start hitting soon! http://t.co/ZFQ13Ety8z'},\n",
       " {'r.text': '.@cajunbanker Just voted to reform sugar programs, hope you can join me in reforming #WallSt megabanks #TooBigToFail #TBTF'},\n",
       " {'r.text': '@angela2330 A U.S. Senator covers the entire state, proud to represent all of Ohio'},\n",
       " {'r.text': '+1 helped 162 Ohio companies MT @ChuckSchumer Banking cmte should agree @fredhochberg will continue terrific work hes done at Ex-Im Bank'},\n",
       " {'r.text': 'From my Oklahoma colleague on how Ohioans can help RT @TomCoburn How to help tornado victims: http://t.co/fCI13dY4nz'},\n",
       " {'r.text': '@shdwstar Call my office toll-free 1-888-896-OHIO (6446)'},\n",
       " {'r.text': '@PudgeRose There will be dozens of companies from health, manufacturing, retail, education, tourism and more. Too many to tweet!'},\n",
       " {'r.text': '@SenatorShaheen Thanks!'},\n",
       " {'r.text': '@NPWF Thanks. Excited to continue our work together'},\n",
       " {'r.text': '@BMehen Returning your voicemail, go ahead and call my office again'},\n",
       " {'r.text': '@mooretie SB is always happy to – and its baseball season, Go #Indians and #Reds!'},\n",
       " {'r.text': '@Kurt10TV After showing Guernseys as a kid at the Richland Co. fair, favorite @OhioStateFair food is any ice cream made with Guernsey milk.'},\n",
       " {'r.text': '@fate47 Please contact my Cleveland office at 216-522-7272 or 1-888-896-6446 and ask for a Veterans caseworker - well do what we can'},\n",
       " {'r.text': '@Fox99er Sen Brown is an original cosponsor http://bit.ly/azLKDq & http://bit.ly/9O52Jr'}]"
      ]
     },
     "execution_count": 55,
     "metadata": {},
     "output_type": "execute_result"
    }
   ],
   "source": [
    "out"
   ]
  }
 ],
 "metadata": {
  "kernelspec": {
   "display_name": "Python 3",
   "language": "python",
   "name": "python3"
  },
  "language_info": {
   "codemirror_mode": {
    "name": "ipython",
    "version": 3
   },
   "file_extension": ".py",
   "mimetype": "text/x-python",
   "name": "python",
   "nbconvert_exporter": "python",
   "pygments_lexer": "ipython3",
   "version": "3.6.2"
  }
 },
 "nbformat": 4,
 "nbformat_minor": 2
}
