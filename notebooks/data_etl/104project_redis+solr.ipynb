{
 "cells": [
  {
   "cell_type": "markdown",
   "metadata": {},
   "source": [
    "# Redis Caching"
   ]
  },
  {
   "cell_type": "code",
   "execution_count": 1,
   "metadata": {},
   "outputs": [],
   "source": [
    "import warnings\n",
    "warnings.filterwarnings('ignore')"
   ]
  },
  {
   "cell_type": "code",
   "execution_count": 2,
   "metadata": {},
   "outputs": [],
   "source": [
    "import pandas as pd \n",
    "import numpy as np \n",
    "from urllib.request import urlopen\n",
    "import redis\n",
    "import json\n",
    "import pysolr\n",
    "import requests"
   ]
  },
  {
   "cell_type": "code",
   "execution_count": 3,
   "metadata": {},
   "outputs": [],
   "source": [
    "pd.set_option('display.max_colwidth', -1)"
   ]
  },
  {
   "cell_type": "code",
   "execution_count": 4,
   "metadata": {},
   "outputs": [],
   "source": [
    "site = \"http://awesome-hw.sdsc.edu:8983/solr/#/student-news/query\""
   ]
  },
  {
   "cell_type": "markdown",
   "metadata": {},
   "source": [
    "## Queries"
   ]
  },
  {
   "cell_type": "markdown",
   "metadata": {},
   "source": [
    "### (1) - Trump and Taxes"
   ]
  },
  {
   "cell_type": "code",
   "execution_count": 5,
   "metadata": {},
   "outputs": [
    {
     "data": {
      "text/plain": [
       "{'responseHeader': {'status': 0,\n",
       "  'QTime': 0,\n",
       "  'params': {'q': 'title:\"trump\" AND title:\"taxes\"'}},\n",
       " 'response': {'numFound': 207,\n",
       "  'start': 0,\n",
       "  'docs': [{'src': 'http://www.nytimes.com/pages/todayspaper/index.html',\n",
       "    'title': 'Opinion | Trump’s Tax Avoidance Is a Tax on the Rest of Us',\n",
       "    'news': 'We don’t know if Donald Trump’s recent federal income tax returns indicate illegal activity. But even if the $750 income tax bills he paid in each of the first two years of his presidency turn out to have been calculated in compliance with the U.S. Internal Revenue Code, he has enjoyed the benefits of the society we all contribute to build, then skipped out on his share of the bill — a sort of dine-and-dash on his fellow Americans.\\n\\nWhat many Americans may not realize is how common this is among the country’s top earners, and how much it costs the rest of us. Sixteen years ago, the former I.R.S. commissioner Charles Rossotti estimated that so many wealthy Americans don’t pay their fair share of income taxes that it effectively imposes a 15 percent surtax on the rest of us — that is, on the vast majority of taxpayers who can’t afford the expensive professional advice on which successful tax-avoidance strategies depend.\\n\\nHaving spent the past 13 years studying and writing about these elite professionals who help the ultrarich reduce their tax bills as close to zero as possible, I understand how the game of “creative compliance” is played: They adhere to the letter of the law while violating its spirit. The tax avoidance professionals say, as Mossack Fonseca did after the Panama Papers broke, we complied with the law, so what’s the problem?\\n\\nMany Americans seem to accept this argument. Some even greet news of tax avoidance by the ultrarich with admiration and envy, instead of the anger they would show to someone who skipped out on a group dinner and left them with the bill. Rather than condemning those who take advantage of their society, many Americans say instead: “Good for them! I’d do it myself if I could.” Those attitudes are reflected in our politics and have contributed to our handing over the most powerful elected office in the world to a man who bragged about not paying a dime of federal income tax for years.',\n",
       "    'publishdate': '2020-10-01T00:00:00Z',\n",
       "    'id': 'c7168dcc-75e3-43cb-8460-30481fd336b4',\n",
       "    '_version_': 1686103765257551872},\n",
       "   {'src': 'http://www.nytimes.com/pages/todayspaper/index.html',\n",
       "    'title': 'Opinion | Trump’s Tax Avoidance Is a Tax on the Rest of Us',\n",
       "    'news': 'We don’t know if Donald Trump’s recent federal income tax returns indicate illegal activity. But even if the $750 income tax bills he paid in each of the first two years of his presidency turn out to have been calculated in compliance with the U.S. Internal Revenue Code, he has enjoyed the benefits of the society we all contribute to build, then skipped out on his share of the bill — a sort of dine-and-dash on his fellow Americans.\\n\\nWhat many Americans may not realize is how common this is among the country’s top earners, and how much it costs the rest of us. Sixteen years ago, the former I.R.S. commissioner Charles Rossotti estimated that so many wealthy Americans don’t pay their fair share of income taxes that it effectively imposes a 15 percent surtax on the rest of us — that is, on the vast majority of taxpayers who can’t afford the expensive professional advice on which successful tax-avoidance strategies depend.\\n\\nHaving spent the past 13 years studying and writing about these elite professionals who help the ultrarich reduce their tax bills as close to zero as possible, I understand how the game of “creative compliance” is played: They adhere to the letter of the law while violating its spirit. The tax avoidance professionals say, as Mossack Fonseca did after the Panama Papers broke, we complied with the law, so what’s the problem?\\n\\nMany Americans seem to accept this argument. Some even greet news of tax avoidance by the ultrarich with admiration and envy, instead of the anger they would show to someone who skipped out on a group dinner and left them with the bill. Rather than condemning those who take advantage of their society, many Americans say instead: “Good for them! I’d do it myself if I could.” Those attitudes are reflected in our politics and have contributed to our handing over the most powerful elected office in the world to a man who bragged about not paying a dime of federal income tax for years.',\n",
       "    'publishdate': '2020-10-01T00:00:00Z',\n",
       "    'id': '484fc4b4-3875-49b2-b155-a085a3db7c41',\n",
       "    '_version_': 1686103328764723200},\n",
       "   {'src': 'http://www.nytimes.com/pages/todayspaper/index.html',\n",
       "    'title': 'Opinion | Trump’s Tax Avoidance Is a Tax on the Rest of Us',\n",
       "    'news': 'We don’t know if Donald Trump’s recent federal income tax returns indicate illegal activity. But even if the $750 income tax bills he paid in each of the first two years of his presidency turn out to have been calculated in compliance with the U.S. Internal Revenue Code, he has enjoyed the benefits of the society we all contribute to build, then skipped out on his share of the bill — a sort of dine-and-dash on his fellow Americans.\\n\\nWhat many Americans may not realize is how common this is among the country’s top earners, and how much it costs the rest of us. Sixteen years ago, the former I.R.S. commissioner Charles Rossotti estimated that so many wealthy Americans don’t pay their fair share of income taxes that it effectively imposes a 15 percent surtax on the rest of us — that is, on the vast majority of taxpayers who can’t afford the expensive professional advice on which successful tax-avoidance strategies depend.\\n\\nHaving spent the past 13 years studying and writing about these elite professionals who help the ultrarich reduce their tax bills as close to zero as possible, I understand how the game of “creative compliance” is played: They adhere to the letter of the law while violating its spirit. The tax avoidance professionals say, as Mossack Fonseca did after the Panama Papers broke, we complied with the law, so what’s the problem?\\n\\nMany Americans seem to accept this argument. Some even greet news of tax avoidance by the ultrarich with admiration and envy, instead of the anger they would show to someone who skipped out on a group dinner and left them with the bill. Rather than condemning those who take advantage of their society, many Americans say instead: “Good for them! I’d do it myself if I could.” Those attitudes are reflected in our politics and have contributed to our handing over the most powerful elected office in the world to a man who bragged about not paying a dime of federal income tax for years.',\n",
       "    'publishdate': '2020-10-01T00:00:00Z',\n",
       "    'id': 'dc70268e-df4b-4afc-b881-e68ec348ff52',\n",
       "    '_version_': 1686103336228487168},\n",
       "   {'src': 'http://www.nytimes.com/pages/todayspaper/index.html',\n",
       "    'title': 'Opinion | Trump’s Tax Avoidance Is a Tax on the Rest of Us',\n",
       "    'news': 'We don’t know if Donald Trump’s recent federal income tax returns indicate illegal activity. But even if the $750 income tax bills he paid in each of the first two years of his presidency turn out to have been calculated in compliance with the U.S. Internal Revenue Code, he has enjoyed the benefits of the society we all contribute to build, then skipped out on his share of the bill — a sort of dine-and-dash on his fellow Americans.\\n\\nWhat many Americans may not realize is how common this is among the country’s top earners, and how much it costs the rest of us. Sixteen years ago, the former I.R.S. commissioner Charles Rossotti estimated that so many wealthy Americans don’t pay their fair share of income taxes that it effectively imposes a 15 percent surtax on the rest of us — that is, on the vast majority of taxpayers who can’t afford the expensive professional advice on which successful tax-avoidance strategies depend.\\n\\nHaving spent the past 13 years studying and writing about these elite professionals who help the ultrarich reduce their tax bills as close to zero as possible, I understand how the game of “creative compliance” is played: They adhere to the letter of the law while violating its spirit. The tax avoidance professionals say, as Mossack Fonseca did after the Panama Papers broke, we complied with the law, so what’s the problem?\\n\\nMany Americans seem to accept this argument. Some even greet news of tax avoidance by the ultrarich with admiration and envy, instead of the anger they would show to someone who skipped out on a group dinner and left them with the bill. Rather than condemning those who take advantage of their society, many Americans say instead: “Good for them! I’d do it myself if I could.” Those attitudes are reflected in our politics and have contributed to our handing over the most powerful elected office in the world to a man who bragged about not paying a dime of federal income tax for years.',\n",
       "    'publishdate': '2020-10-01T00:00:00Z',\n",
       "    'id': 'ed803844-1963-4fa8-bb34-ea607ae0bb38',\n",
       "    '_version_': 1686103757800079361},\n",
       "   {'src': 'https://www.sltrib.com/',\n",
       "    'title': 'Brooke Harrington: Trump’s tax avoidance is a tax on the rest of us',\n",
       "    'publishdate': '2020-10-03T00:00:00Z',\n",
       "    'id': '646f610f-f7ce-40bc-8dc8-0baa0ce9cacd',\n",
       "    'news': 'We don’t know if Donald Trump’s recent federal income tax returns indicate illegal activity. But even if the $750 income tax bills he paid in each of the first two years of his presidency turn out to have been calculated in compliance with the U.S. Internal Revenue Code, he has enjoyed the benefits of the society we all contribute to build, then skipped out on his share of the bill — a sort of dine-and-dash on his fellow Americans.\\n\\nWhat many Americans may not realize is how common this is among the country’s top earners, and how much it costs the rest of us. Sixteen years ago, the former I.R.S. commissioner Charles Rossotti estimated that so many wealthy Americans don’t pay their fair share of income taxes that it effectively imposes a 15 percent surtax on the rest of us — that is, on the vast majority of taxpayers who can’t afford the expensive professional advice on which successful tax-avoidance strategies depend.\\n\\nHaving spent the past 13 years studying and writing about these elite professionals who help the ultrarich reduce their tax bills as close to zero as possible, I understand how the game of “creative compliance” is played: They adhere to the letter of the law while violating its spirit. The tax avoidance professionals say, as Mossack Fonseca did after the Panama Papers broke, we complied with the law, so what’s the problem?\\n\\nMany Americans seem to accept this argument. Some even greet news of tax avoidance by the ultrarich with admiration and envy, instead of the anger they would show to someone who skipped out on a group dinner and left them with the bill. Rather than condemning those who take advantage of their society, many Americans say instead: “Good for them! I’d do it myself if I could.” Those attitudes are reflected in our politics and have contributed to our handing over the most powerful elected office in the world to a man who bragged about not paying a dime of federal income tax for years.\\n\\nIndifference or praise in response to our president’s low income tax payments is not limited to conservatives who believe taxes are too high in the first place or rich people who believe they end up paying their fair share of taxes; I have seen those reactions from Americans across the political spectrum. In 2012, one of my own colleagues — a supposedly progressive academic sociologist — responded to news that the Republican presidential candidate Mitt Romney paid just a 14 percent tax rate on his multimillion-dollar annual income by saying: “Who cares? He didn’t break any laws.”\\n\\nBut tax avoidance on the scale of Mr. Trump’s is available only to the very wealthiest people in our country, those who can afford to pay specialist attorneys and accountants tens (or hundreds) of thousands of dollars every year. Arguing that tax avoidance like this is a right available to everyone is a bit like pointing out that everyone can vote, if they pay the poll tax. It’s antithetical to democracy and the founding ideals of this country.\\n\\nMost important, these practices make us all poorer, and not because of the effective surcharge we are burdened with when high-earners don’t pay their fair share. Elite tax avoidance means we can’t pay for a government that provides many basics our peer nations take for granted, like nationwide broadband infrastructure. For that matter, we can’t even maintain the crumbling infrastructure we inherited from the Eisenhower era, when 91 percent tax rates on top incomes (combined with low rates of tax avoidance) funded the Interstate System of highways that made the 1950s economic boom possible.\\n\\nPerhaps the consummate irony is that a country whose creation centered on the revolt of ordinary people against tax injustice — the Boston Tea Party — now tolerates paying an involuntary subsidy to support tax avoidance by our highest-paid citizens.\\n\\nAnd as recent research shows, the problem is getting worse. The economists Emmanuel Saez and Gabriel Zucman, have documented a dramatic increase in illegal activity by high-earners seeking to avoid U.S. income tax. Even as tax rates for the top income brackets have come down over the years, this group has roughly doubled its rates of tax evasion (to around 20 to 25 percent).\\n\\nArticle continues below\\n\\nThe surge in tax evasion on top of rampant tax avoidance means the surcharge the rest of us pay to subsidize the rich is probably now far higher than Mr. Rossotti’s 2004 estimate. How can we reverse this trend? One way, as the economists Natasha Sarin and Lawrence Summers reported in a recent paper, is to restore I.R.S. enforcement capacity to 2011 levels. Doing so could, over a decade, yield up to an additional $1 trillion in tax revenue.\\n\\nThis country lionizes those who rebelled against taxation without representation centuries ago, but we have ended up with a system providing ample representation without taxation for our elites, at the expense of the rest of us.',\n",
       "    '_version_': 1686103369145384960},\n",
       "   {'src': 'https://www.sltrib.com/',\n",
       "    'title': 'Brooke Harrington: Trump’s tax avoidance is a tax on the rest of us',\n",
       "    'publishdate': '2020-10-03T00:00:00Z',\n",
       "    'id': '5bf181f5-0c64-4d30-a0d5-12b4f6bcacd1',\n",
       "    'news': 'We don’t know if Donald Trump’s recent federal income tax returns indicate illegal activity. But even if the $750 income tax bills he paid in each of the first two years of his presidency turn out to have been calculated in compliance with the U.S. Internal Revenue Code, he has enjoyed the benefits of the society we all contribute to build, then skipped out on his share of the bill — a sort of dine-and-dash on his fellow Americans.\\n\\nWhat many Americans may not realize is how common this is among the country’s top earners, and how much it costs the rest of us. Sixteen years ago, the former I.R.S. commissioner Charles Rossotti estimated that so many wealthy Americans don’t pay their fair share of income taxes that it effectively imposes a 15 percent surtax on the rest of us — that is, on the vast majority of taxpayers who can’t afford the expensive professional advice on which successful tax-avoidance strategies depend.\\n\\nHaving spent the past 13 years studying and writing about these elite professionals who help the ultrarich reduce their tax bills as close to zero as possible, I understand how the game of “creative compliance” is played: They adhere to the letter of the law while violating its spirit. The tax avoidance professionals say, as Mossack Fonseca did after the Panama Papers broke, we complied with the law, so what’s the problem?\\n\\nMany Americans seem to accept this argument. Some even greet news of tax avoidance by the ultrarich with admiration and envy, instead of the anger they would show to someone who skipped out on a group dinner and left them with the bill. Rather than condemning those who take advantage of their society, many Americans say instead: “Good for them! I’d do it myself if I could.” Those attitudes are reflected in our politics and have contributed to our handing over the most powerful elected office in the world to a man who bragged about not paying a dime of federal income tax for years.\\n\\nIndifference or praise in response to our president’s low income tax payments is not limited to conservatives who believe taxes are too high in the first place or rich people who believe they end up paying their fair share of taxes; I have seen those reactions from Americans across the political spectrum. In 2012, one of my own colleagues — a supposedly progressive academic sociologist — responded to news that the Republican presidential candidate Mitt Romney paid just a 14 percent tax rate on his multimillion-dollar annual income by saying: “Who cares? He didn’t break any laws.”\\n\\nBut tax avoidance on the scale of Mr. Trump’s is available only to the very wealthiest people in our country, those who can afford to pay specialist attorneys and accountants tens (or hundreds) of thousands of dollars every year. Arguing that tax avoidance like this is a right available to everyone is a bit like pointing out that everyone can vote, if they pay the poll tax. It’s antithetical to democracy and the founding ideals of this country.\\n\\nMost important, these practices make us all poorer, and not because of the effective surcharge we are burdened with when high-earners don’t pay their fair share. Elite tax avoidance means we can’t pay for a government that provides many basics our peer nations take for granted, like nationwide broadband infrastructure. For that matter, we can’t even maintain the crumbling infrastructure we inherited from the Eisenhower era, when 91 percent tax rates on top incomes (combined with low rates of tax avoidance) funded the Interstate System of highways that made the 1950s economic boom possible.\\n\\nPerhaps the consummate irony is that a country whose creation centered on the revolt of ordinary people against tax injustice — the Boston Tea Party — now tolerates paying an involuntary subsidy to support tax avoidance by our highest-paid citizens.\\n\\nAnd as recent research shows, the problem is getting worse. The economists Emmanuel Saez and Gabriel Zucman, have documented a dramatic increase in illegal activity by high-earners seeking to avoid U.S. income tax. Even as tax rates for the top income brackets have come down over the years, this group has roughly doubled its rates of tax evasion (to around 20 to 25 percent).\\n\\nArticle continues below\\n\\nThe surge in tax evasion on top of rampant tax avoidance means the surcharge the rest of us pay to subsidize the rich is probably now far higher than Mr. Rossotti’s 2004 estimate. How can we reverse this trend? One way, as the economists Natasha Sarin and Lawrence Summers reported in a recent paper, is to restore I.R.S. enforcement capacity to 2011 levels. Doing so could, over a decade, yield up to an additional $1 trillion in tax revenue.\\n\\nThis country lionizes those who rebelled against taxation without representation centuries ago, but we have ended up with a system providing ample representation without taxation for our elites, at the expense of the rest of us.',\n",
       "    '_version_': 1686103797918597120},\n",
       "   {'src': 'https://www.wsj.com/news/business',\n",
       "    'title': 'Trump Tax-Return Report Fuels Democrats’ Drive to Tax the Rich',\n",
       "    'news': 'President Trump’s apparently minuscule tax payments are pumping new energy into Democrats’ plans to raise taxes on rich people and beef up the Internal Revenue Service.\\n\\nBut raising tax rates wouldn’t necessarily make the president or others in similar situations pay more, because he reportedly claimed unusually large business losses to lower his taxable income. And Mr. Trump’s tax situation doesn’t automatically yield a list of tax breaks to be eliminated, because he seems to be making aggressive use of common deductions that help many businesses.\\n\\nMr. Trump paid $750 in federal income taxes in 2016 and 2017 and no taxes for many other recent years, according to a report by the New York Times . That result stemmed from money-losing businesses, various tax credits and questionable deductions, according to the Times. The president has derided the report as fake news and says he has paid millions of dollars in taxes, but he has provided no documentation or details. The Times report couldn`t be independently verified, and Republicans are seeking government investigations into the disclosure.\\n\\nThe report put a renewed spotlight and a face on tax avoidance by wealthy people, a problem that can be addressed both by changing the law and by improving enforcement. Former Vice President Joe Biden cited Mr. Trump’s tax payments during Tuesday’s presidential debate as a reason why he’s trying to reverse some of the 2017 tax cuts.\\n\\n“Donald Trump is kind of the new poster child for the need to invest in an IRS that’s going to be capable of capturing high-wealth evasion,” said Natasha Sarin, a University of Pennsylvania professor who has been pushing for more IRS funding.',\n",
       "    'publishdate': '2020-10-01T00:00:00Z',\n",
       "    'id': '765534e0-3290-46e3-bbc5-3df066de9b9d',\n",
       "    '_version_': 1686103334084149248},\n",
       "   {'src': 'https://www.wsj.com/news/business',\n",
       "    'title': 'Trump Tax-Return Report Fuels Democrats’ Drive to Tax the Rich',\n",
       "    'news': 'President Trump’s apparently minuscule tax payments are pumping new energy into Democrats’ plans to raise taxes on rich people and beef up the Internal Revenue Service.\\n\\nBut raising tax rates wouldn’t necessarily make the president or others in similar situations pay more, because he reportedly claimed unusually large business losses to lower his taxable income. And Mr. Trump’s tax situation doesn’t automatically yield a list of tax breaks to be eliminated, because he seems to be making aggressive use of common deductions that help many businesses.\\n\\nMr. Trump paid $750 in federal income taxes in 2016 and 2017 and no taxes for many other recent years, according to a report by the New York Times . That result stemmed from money-losing businesses, various tax credits and questionable deductions, according to the Times. The president has derided the report as fake news and says he has paid millions of dollars in taxes, but he has provided no documentation or details. The Times report couldn`t be independently verified, and Republicans are seeking government investigations into the disclosure.\\n\\nThe report put a renewed spotlight and a face on tax avoidance by wealthy people, a problem that can be addressed both by changing the law and by improving enforcement. Former Vice President Joe Biden cited Mr. Trump’s tax payments during Tuesday’s presidential debate as a reason why he’s trying to reverse some of the 2017 tax cuts.\\n\\n“Donald Trump is kind of the new poster child for the need to invest in an IRS that’s going to be capable of capturing high-wealth evasion,” said Natasha Sarin, a University of Pennsylvania professor who has been pushing for more IRS funding.',\n",
       "    'publishdate': '2020-10-01T00:00:00Z',\n",
       "    'id': 'dd87cea5-c543-4628-add3-c595018ca197',\n",
       "    '_version_': 1686103763105873920},\n",
       "   {'src': 'https://tucson.com/',\n",
       "    'title': 'Letter: Trump, Taxes and naive thinking',\n",
       "    'news': 'OPINION: Some letter writers touch on the race for president and Senate here in Arizona, but another is a doctor who takes a strong stance against recreational marijuana and Prop. 207. See if you agree, in Letters to the Editor',\n",
       "    'publishdate': '2020-10-15T00:00:00Z',\n",
       "    'id': '509a8ebd-bb64-402d-b4eb-43032fdea4ea',\n",
       "    '_version_': 1686103998642257920},\n",
       "   {'src': 'https://news.stanford.edu/',\n",
       "    'title': 'President Trump’s Taxes with Joe Bankman',\n",
       "    'news': 'Revelations about President Trump’s tax returns, and news about how much or how little he has paid to the federal government, have made headlines in recent weeks. In this episode, Stanford Legal co-host Joe Bankman, himself a tax law expert, breaks down the important takeaways from what we know about the President and his taxes.\\n\\nThis episode originally aired on SiriusXM on October 10, 2020.',\n",
       "    'publishdate': '2020-10-25T00:00:00Z',\n",
       "    'id': '17ec2855-93ca-49b4-aa88-ed7d6f6520e6',\n",
       "    '_version_': 1686104196316659713}]}}"
      ]
     },
     "execution_count": 5,
     "metadata": {},
     "output_type": "execute_result"
    }
   ],
   "source": [
    "q1j = requests.get('http://awesome-hw.sdsc.edu:8983/solr/student-news/select?q=title%3A%22trump%22%20AND%20title%3A%22taxes%22')\n",
    "q1j.json()"
   ]
  },
  {
   "cell_type": "code",
   "execution_count": 6,
   "metadata": {
    "scrolled": true
   },
   "outputs": [
    {
     "data": {
      "text/html": [
       "<div>\n",
       "<style scoped>\n",
       "    .dataframe tbody tr th:only-of-type {\n",
       "        vertical-align: middle;\n",
       "    }\n",
       "\n",
       "    .dataframe tbody tr th {\n",
       "        vertical-align: top;\n",
       "    }\n",
       "\n",
       "    .dataframe thead th {\n",
       "        text-align: right;\n",
       "    }\n",
       "</style>\n",
       "<table border=\"1\" class=\"dataframe\">\n",
       "  <thead>\n",
       "    <tr style=\"text-align: right;\">\n",
       "      <th></th>\n",
       "      <th>src</th>\n",
       "      <th>title</th>\n",
       "      <th>news</th>\n",
       "      <th>publishdate</th>\n",
       "      <th>id</th>\n",
       "      <th>_version_</th>\n",
       "    </tr>\n",
       "  </thead>\n",
       "  <tbody>\n",
       "    <tr>\n",
       "      <th>0</th>\n",
       "      <td>http://www.nytimes.com/pages/todayspaper/index.html</td>\n",
       "      <td>Opinion | Trump’s Tax Avoidance Is a Tax on the Rest of Us</td>\n",
       "      <td>We don’t know if Donald Trump’s recent federal income tax returns indicate illegal activity. But even if the $750 income tax bills he paid in each of the first two years of his presidency turn out to have been calculated in compliance with the U.S. Internal Revenue Code, he has enjoyed the benefits of the society we all contribute to build, then skipped out on his share of the bill — a sort of dine-and-dash on his fellow Americans.\\n\\nWhat many Americans may not realize is how common this is among the country’s top earners, and how much it costs the rest of us. Sixteen years ago, the former I.R.S. commissioner Charles Rossotti estimated that so many wealthy Americans don’t pay their fair share of income taxes that it effectively imposes a 15 percent surtax on the rest of us — that is, on the vast majority of taxpayers who can’t afford the expensive professional advice on which successful tax-avoidance strategies depend.\\n\\nHaving spent the past 13 years studying and writing about these elite professionals who help the ultrarich reduce their tax bills as close to zero as possible, I understand how the game of “creative compliance” is played: They adhere to the letter of the law while violating its spirit. The tax avoidance professionals say, as Mossack Fonseca did after the Panama Papers broke, we complied with the law, so what’s the problem?\\n\\nMany Americans seem to accept this argument. Some even greet news of tax avoidance by the ultrarich with admiration and envy, instead of the anger they would show to someone who skipped out on a group dinner and left them with the bill. Rather than condemning those who take advantage of their society, many Americans say instead: “Good for them! I’d do it myself if I could.” Those attitudes are reflected in our politics and have contributed to our handing over the most powerful elected office in the world to a man who bragged about not paying a dime of federal income tax for years.</td>\n",
       "      <td>2020-10-01T00:00:00Z</td>\n",
       "      <td>c7168dcc-75e3-43cb-8460-30481fd336b4</td>\n",
       "      <td>1686103765257551872</td>\n",
       "    </tr>\n",
       "  </tbody>\n",
       "</table>\n",
       "</div>"
      ],
      "text/plain": [
       "                                                   src  \\\n",
       "0  http://www.nytimes.com/pages/todayspaper/index.html   \n",
       "\n",
       "                                                        title  \\\n",
       "0  Opinion | Trump’s Tax Avoidance Is a Tax on the Rest of Us   \n",
       "\n",
       "                                                                                                                                                                                                                                                                                                                                                                                                                                                                                                                                                                                                                                                                                                                                                                                                                                                                                                                                                                                                                                                                                                                                                                                                                                                                                                                                                                                                                                                                                                                                                                                                                                                                                                                                                                                                                                                                                                                                                                                                                                 news  \\\n",
       "0  We don’t know if Donald Trump’s recent federal income tax returns indicate illegal activity. But even if the $750 income tax bills he paid in each of the first two years of his presidency turn out to have been calculated in compliance with the U.S. Internal Revenue Code, he has enjoyed the benefits of the society we all contribute to build, then skipped out on his share of the bill — a sort of dine-and-dash on his fellow Americans.\\n\\nWhat many Americans may not realize is how common this is among the country’s top earners, and how much it costs the rest of us. Sixteen years ago, the former I.R.S. commissioner Charles Rossotti estimated that so many wealthy Americans don’t pay their fair share of income taxes that it effectively imposes a 15 percent surtax on the rest of us — that is, on the vast majority of taxpayers who can’t afford the expensive professional advice on which successful tax-avoidance strategies depend.\\n\\nHaving spent the past 13 years studying and writing about these elite professionals who help the ultrarich reduce their tax bills as close to zero as possible, I understand how the game of “creative compliance” is played: They adhere to the letter of the law while violating its spirit. The tax avoidance professionals say, as Mossack Fonseca did after the Panama Papers broke, we complied with the law, so what’s the problem?\\n\\nMany Americans seem to accept this argument. Some even greet news of tax avoidance by the ultrarich with admiration and envy, instead of the anger they would show to someone who skipped out on a group dinner and left them with the bill. Rather than condemning those who take advantage of their society, many Americans say instead: “Good for them! I’d do it myself if I could.” Those attitudes are reflected in our politics and have contributed to our handing over the most powerful elected office in the world to a man who bragged about not paying a dime of federal income tax for years.   \n",
       "\n",
       "            publishdate                                    id  \\\n",
       "0  2020-10-01T00:00:00Z  c7168dcc-75e3-43cb-8460-30481fd336b4   \n",
       "\n",
       "             _version_  \n",
       "0  1686103765257551872  "
      ]
     },
     "execution_count": 6,
     "metadata": {},
     "output_type": "execute_result"
    }
   ],
   "source": [
    "q1 = 'http://awesome-hw.sdsc.edu:8983/solr/student-news/select?q=title%3A%22trump%22%20AND%20title%3A%22taxes%22'\n",
    "q1d = requests.get(q1).json()\n",
    "df1 = pd.json_normalize(q1d['response']['docs'])\n",
    "# df1.shape[0]\n",
    "df1[:1]"
   ]
  },
  {
   "cell_type": "markdown",
   "metadata": {},
   "source": [
    "### (2) - Millions and COVID "
   ]
  },
  {
   "cell_type": "code",
   "execution_count": 7,
   "metadata": {},
   "outputs": [
    {
     "data": {
      "text/plain": [
       "{'responseHeader': {'status': 0,\n",
       "  'QTime': 0,\n",
       "  'params': {'q': 'title:\"millions\" AND title:\"covid\" AND title:\"deaths\"'}},\n",
       " 'response': {'numFound': 34,\n",
       "  'start': 0,\n",
       "  'docs': [{'src': 'https://www.marketwatch.com/',\n",
       "    'title': 'Coronavirus tally: Global cases of COVID-19 40.4 million, 1.1 million deaths and U.S. death toll tops 220,000',\n",
       "    'news': 'The global tally for confirmed cases of the coronavirus that causes COVID-19 climbed above 40.4 million on Tuesday, according to data aggregated by Johns Hopkins University, while the death toll rose above 1.1 million. The U.S. has the highest case total at 8.2 million and deaths at 220,133. President Donald Trump on Monday called Dr. Anthony Fauci, head of the National Institute for Allergies and Infectious Diseases and considered the nation`s leading infectious-disease expert, a \"disaster\" on a campaign call and on Twitter and said, \"People are tired of hearing Fauci and all these idiots.\" Brazil has the second highest death toll at 154,176 and is third by cases at 5.3 million. India is second in cases with 7.6 million, and third in deaths at 15,197. Mexico has the fourth highest death toll at 86,338 and ninth highest case tally at 854,926. The U.K has 43,816 deaths, the highest in Europe and fifth highest in the world, and 744,122 cases.',\n",
       "    'publishdate': '2020-10-20T00:00:00Z',\n",
       "    'id': 'cccc6ef3-a147-41e3-bc1b-de099daa1942',\n",
       "    '_version_': 1686104086943891457},\n",
       "   {'src': 'https://www.marketwatch.com/',\n",
       "    'title': 'Coronavirus tally: Global cases of COVID-19 40.8 million, 1.13 million deaths and U.S. death toll tops 221,000',\n",
       "    'news': 'The global tally for confirmed cases of the coronavirus that causes COVID-19 climbed above 40.8 million on Wednesday, according to data aggregated by Johns Hopkins University, while the death toll rose above 1.1 million. The U.S. has the highest case total at 8.3 million and deaths at 221,078. The pandemic has caused the deaths of nearly 300,000 people, according to a CDC report published Tuesday, that counts deaths directly caused by the coronavirus as well as ones that would not have occurred were if not for the virus. Brazil has the second highest death toll at 154,837 and is third by cases at 5.3 million. India is second in cases with 7.7 million, and third in deaths at 115,914. Mexico has the fourth highest death toll at 86,893 and ninth highest case tally at 860,714. The U.K has 44,057 deaths, the highest in Europe and fifth highest in the world, and 765,487 cases.',\n",
       "    'publishdate': '2020-10-21T00:00:00Z',\n",
       "    'id': '26992290-04a1-4b99-b998-7ccc876b5fc2',\n",
       "    '_version_': 1686104107693113346},\n",
       "   {'src': 'https://www.marketwatch.com/',\n",
       "    'title': 'Coronavirus tally: Global cases of COVID-19 41.28 million, 1.13 million deaths and U.S. death toll tops 222,000',\n",
       "    'news': 'The global tally for confirmed cases of the coronavirus that causes COVID-19 climbed above 41.28 million on Thursday, according to data aggregated by Johns Hopkins University, while the death toll rose above 1.13 million. The U.S. has the highest case total at 8.3 million and deaths at 222,211. At a rally in North Carolina on Wednesday, President Donald Trump complained about the constant media coverage of the virus. \"All you hear is Covid, Covid, Covid, Covid, Covid, Covid, Covid, Covid, Covid, Covid, Covid,\" Trump said, repeating the word 11 times,the New York Times reported. \"That`s all they put on, because they want to scare the hell out of everyone.\" Brazil has the second highest death toll at 155,403 and is third by cases at 5.3 million. India is second in cases with 7.7 million, and third in deaths at 116,616. Mexico has the fourth highest death toll at 87,415 and tenth highest case tally at 867,559. The U.K has 44,248 deaths, the highest in Europe and fifth highest in the world, and 792,194 cases.',\n",
       "    'publishdate': '2020-10-22T00:00:00Z',\n",
       "    'id': 'e487b4d4-e9e1-4e01-b23f-1ea2d965b8be',\n",
       "    '_version_': 1686104141795950592},\n",
       "   {'src': 'https://www.marketwatch.com/',\n",
       "    'title': 'Coronavirus tally: Global cases of COVID-19 34.7 million, 1.03 million deaths and U.S. death toll nears 209,000',\n",
       "    'news': 'The global tally for confirmed cases of the coronavirus that causes COVID-19 climbed to 34.7 million on Saturday, according to data aggregated by Johns Hopkins University, while the death toll rose to 1.03 million. The U.S. has the highest case tally at 7.3 million, and highest death toll at 208,731. President Donald Trump, who confirmed he has tested positive along with first lady Melania early Friday, was admitted to Walter Reed hospital Friday evening and has been given a dose of Regeneron Pharmaceuticals Inc.`s REGN, -0.58% experimental neutralizing antibody cocktail, in addition to Gilead Sciences Inc.`s GILD, -1.81% remdesivir. Brazil has the second-highest death toll after the U.S. at 145,388, but third-highest case tally at 4.9 million. India is second to the U.S. by case tally at 6.5 million, and has the third-highest death toll at 100,842. Mexico is fourth with 78,492 deaths and ninth with 753,090 cases. The U.K. has 42,358 deaths and 469,781 cases, the highest death toll in Europe and fifth-highest in the world.',\n",
       "    'publishdate': '2020-10-03T00:00:00Z',\n",
       "    'id': 'd3decaaf-6f4b-44de-9d86-54dbe8514ef9',\n",
       "    '_version_': 1686103372597297154},\n",
       "   {'src': 'https://www.marketwatch.com/',\n",
       "    'title': 'Coronavirus tally: Global cases of COVID-19 34.7 million, 1.03 million deaths and U.S. death toll nears 209,000',\n",
       "    'news': 'The global tally for confirmed cases of the coronavirus that causes COVID-19 climbed to 34.7 million on Saturday, according to data aggregated by Johns Hopkins University, while the death toll rose to 1.03 million. The U.S. has the highest case tally at 7.3 million, and highest death toll at 208,731. President Donald Trump, who confirmed he has tested positive along with first lady Melania early Friday, was admitted to Walter Reed hospital Friday evening and has been given a dose of Regeneron Pharmaceuticals Inc.`s REGN, -0.58% experimental neutralizing antibody cocktail, in addition to Gilead Sciences Inc.`s GILD, -1.81% remdesivir. Brazil has the second-highest death toll after the U.S. at 145,388, but third-highest case tally at 4.9 million. India is second to the U.S. by case tally at 6.5 million, and has the third-highest death toll at 100,842. Mexico is fourth with 78,492 deaths and ninth with 753,090 cases. The U.K. has 42,358 deaths and 469,781 cases, the highest death toll in Europe and fifth-highest in the world.',\n",
       "    'publishdate': '2020-10-03T00:00:00Z',\n",
       "    'id': 'd762ed5d-44f1-4622-b84c-c6ee7c9eba01',\n",
       "    '_version_': 1686103809084882946},\n",
       "   {'src': 'https://www.marketwatch.com/',\n",
       "    'title': 'Coronavirus tally: Global cases of COVID-19 35.5 million, 1.04 million deaths and U.S. death toll tops 210,000',\n",
       "    'news': 'The global tally for confirmed cases of the coronavirus that causes COVID-19 climbed to 35.5 million on Tuesday, according to data aggregated by Johns Hopkins University, while the death toll rose to 1.04 million. The U.S. has the highest case tally at 7.5 million, and highest death toll at 210,195. President Donald Trump continued to draw criticism from doctors and health experts after he was released from Walter Reed National Military Medical Center on Monday and, upon his release, he told the nation, \"Don`t be afraid of COVID.\" Doctors note that COVID-19 remains a threat for the American public and that most Americans do not have access to the care granted to Trump, who has been given several experimental treatments, including a steroid that has shown efficacy in treating severely ill patients. Brazil has the second-highest death toll after the U.S. at 146,675, but third-highest case tally at 4.9 million. India is second to the U.S. by case tally at 6.7 million, and has the third-highest death toll at 103,569. Mexico is fourth with 81,877 deaths and ninth with 789,782 cases. The U.K. has 42,459 deaths and 518,222 cases, the highest death toll in Europe and fifth-highest in the world.',\n",
       "    'publishdate': '2020-10-06T00:00:00Z',\n",
       "    'id': '5ab359ee-2c75-4066-89ad-bf4bad37a4a2',\n",
       "    '_version_': 1686103851060428801},\n",
       "   {'src': 'https://www.marketwatch.com/',\n",
       "    'title': 'Coronavirus tally: Global cases of COVID-19 38.2 million, 1.09 million deaths and U.S. death tolls nears 216,000',\n",
       "    'news': 'The global tally for confirmed cases of the coronavirus that causes COVID-19 climbed to 38.2 million on Wednesday, according to data aggregated by Johns Hopkins Universitythe New York Times reported, with 16 states adding more new cases in the last seven days through Monday that in any other since the start of the pandemic. Brazil has the second highest death toll at 150,998 and is third by cases at 5.1 million. India is second in cases with 7.2 million, and third in deaths at 110,586. Mexico has the fourth highest death toll at 84,420 and ninth highest case tally at 825,340. The U.K has 43,108 deaths, the highest in Europe and fifth highest in the world, and 637,708 cases.',\n",
       "    'publishdate': '2020-10-14T00:00:00Z',\n",
       "    'id': 'e6287307-0ebc-428e-bab4-4b29f7cb4622',\n",
       "    '_version_': 1686103983092924421},\n",
       "   {'src': 'https://www.marketwatch.com/',\n",
       "    'title': 'Coronavirus tally: Global cases of COVID-19 top 34.3 million, 1.02 million deaths and U.S. death toll tops 207,000',\n",
       "    'news': 'The global tally for confirmed cases of the coronavirus that causes COVID-19 climbed to 34.3 million on Friday, according to data aggregated by Johns Hopkins University, while the death toll rose to 1.02 million. The U.S. has the highest case tally at 7.3 million, and highest death toll at 207,808. President Donald Trump and Melania Trump have joined the case tally, after Trump said they have tested positive and will isolate together. Brazil has the second-highest death toll at 144,680, but third-highest case tally at 4.8 million. India is second to the U.S. by case tally at 6.4 million, and has the third-highest death toll at 99,773. Mexico is fourth with 78,078 deaths and seventh with 748,315 cases. The U.K. has 42,292 deaths and 462,775 cases, the highest death toll in Europe and fifth-highest in the world.',\n",
       "    'publishdate': '2020-10-02T00:00:00Z',\n",
       "    'id': 'a8f6275c-f2c0-475c-89b3-716e10c856ee',\n",
       "    '_version_': 1686103346384994305},\n",
       "   {'src': 'https://www.marketwatch.com/',\n",
       "    'title': 'Coronavirus tally: Global cases of COVID-19 top 34.3 million, 1.02 million deaths and U.S. death toll tops 207,000',\n",
       "    'news': 'The global tally for confirmed cases of the coronavirus that causes COVID-19 climbed to 34.3 million on Friday, according to data aggregated by Johns Hopkins University, while the death toll rose to 1.02 million. The U.S. has the highest case tally at 7.3 million, and highest death toll at 207,808. President Donald Trump and Melania Trump have joined the case tally, after Trump said they have tested positive and will isolate together. Brazil has the second-highest death toll at 144,680, but third-highest case tally at 4.8 million. India is second to the U.S. by case tally at 6.4 million, and has the third-highest death toll at 99,773. Mexico is fourth with 78,078 deaths and seventh with 748,315 cases. The U.K. has 42,292 deaths and 462,775 cases, the highest death toll in Europe and fifth-highest in the world.',\n",
       "    'publishdate': '2020-10-02T00:00:00Z',\n",
       "    'id': 'e2bf3d94-51d8-4e71-bd33-c9d88070d1ff',\n",
       "    '_version_': 1686103775378407425},\n",
       "   {'src': 'https://www.marketwatch.com/',\n",
       "    'title': 'Coronavirus tally: Global cases of COVID-19 38.9 million, 1.09 million deaths and U.S. nears 8 million cases',\n",
       "    'news': 'The global tally for confirmed cases of the coronavirus that causes COVID-19 climbed to 38.9 million on Friday, according to data aggregated by Johns Hopkins University, while the death toll rose above 1.09 million. There was disappointing news late Thursday from the Financial Times, which said a trial of Gilead Sciences Inc.`s GILD, -0.41% COVID-19 treatment remdesivir had no impact on survival in patients with the coronavirus. Remdesivir, an antiviral, has received emergency use authorization in the U.S. based on clinical-trial data that showed it can reduce recovery times in severely ill COVID-19 patients. It has not been proven to reduce death in COVID-19 patients. The U.S. has the highest case total in the world at 7.98 million and deaths at 217,702. Brazil has the second highest death toll at 152,460 and is third by cases at 5.2 million. India is second in cases with 7.4 million, and third in deaths at 112,161. Mexico has the fourth highest death toll at 85,285 and ninth highest case tally at 834,910. The U.K has 43,383 deaths, the highest in Europe and fifth highest in the world, and 676,455 cases.',\n",
       "    'publishdate': '2020-10-16T00:00:00Z',\n",
       "    'id': '2cd6eb47-6296-454e-904c-458b9dc0edd7',\n",
       "    '_version_': 1686104017896210433}]}}"
      ]
     },
     "execution_count": 7,
     "metadata": {},
     "output_type": "execute_result"
    }
   ],
   "source": [
    "q2j = requests.get(\"http://awesome-hw.sdsc.edu:8983/solr/student-news/select?q=title%3A%22millions%22%20AND%20title%3A%22covid%22%20AND%20title%3A%22deaths%22\")\n",
    "q2j.json()"
   ]
  },
  {
   "cell_type": "code",
   "execution_count": 8,
   "metadata": {},
   "outputs": [
    {
     "data": {
      "text/html": [
       "<div>\n",
       "<style scoped>\n",
       "    .dataframe tbody tr th:only-of-type {\n",
       "        vertical-align: middle;\n",
       "    }\n",
       "\n",
       "    .dataframe tbody tr th {\n",
       "        vertical-align: top;\n",
       "    }\n",
       "\n",
       "    .dataframe thead th {\n",
       "        text-align: right;\n",
       "    }\n",
       "</style>\n",
       "<table border=\"1\" class=\"dataframe\">\n",
       "  <thead>\n",
       "    <tr style=\"text-align: right;\">\n",
       "      <th></th>\n",
       "      <th>src</th>\n",
       "      <th>title</th>\n",
       "      <th>news</th>\n",
       "      <th>publishdate</th>\n",
       "      <th>id</th>\n",
       "      <th>_version_</th>\n",
       "    </tr>\n",
       "  </thead>\n",
       "  <tbody>\n",
       "    <tr>\n",
       "      <th>0</th>\n",
       "      <td>https://www.marketwatch.com/</td>\n",
       "      <td>Coronavirus tally: Global cases of COVID-19 40.4 million, 1.1 million deaths and U.S. death toll tops 220,000</td>\n",
       "      <td>The global tally for confirmed cases of the coronavirus that causes COVID-19 climbed above 40.4 million on Tuesday, according to data aggregated by Johns Hopkins University, while the death toll rose above 1.1 million. The U.S. has the highest case total at 8.2 million and deaths at 220,133. President Donald Trump on Monday called Dr. Anthony Fauci, head of the National Institute for Allergies and Infectious Diseases and considered the nation`s leading infectious-disease expert, a \"disaster\" on a campaign call and on Twitter and said, \"People are tired of hearing Fauci and all these idiots.\" Brazil has the second highest death toll at 154,176 and is third by cases at 5.3 million. India is second in cases with 7.6 million, and third in deaths at 15,197. Mexico has the fourth highest death toll at 86,338 and ninth highest case tally at 854,926. The U.K has 43,816 deaths, the highest in Europe and fifth highest in the world, and 744,122 cases.</td>\n",
       "      <td>2020-10-20T00:00:00Z</td>\n",
       "      <td>cccc6ef3-a147-41e3-bc1b-de099daa1942</td>\n",
       "      <td>1686104086943891457</td>\n",
       "    </tr>\n",
       "  </tbody>\n",
       "</table>\n",
       "</div>"
      ],
      "text/plain": [
       "                            src  \\\n",
       "0  https://www.marketwatch.com/   \n",
       "\n",
       "                                                                                                           title  \\\n",
       "0  Coronavirus tally: Global cases of COVID-19 40.4 million, 1.1 million deaths and U.S. death toll tops 220,000   \n",
       "\n",
       "                                                                                                                                                                                                                                                                                                                                                                                                                                                                                                                                                                                                                                                                                                                                                                                                                                                                                                                                                                                         news  \\\n",
       "0  The global tally for confirmed cases of the coronavirus that causes COVID-19 climbed above 40.4 million on Tuesday, according to data aggregated by Johns Hopkins University, while the death toll rose above 1.1 million. The U.S. has the highest case total at 8.2 million and deaths at 220,133. President Donald Trump on Monday called Dr. Anthony Fauci, head of the National Institute for Allergies and Infectious Diseases and considered the nation`s leading infectious-disease expert, a \"disaster\" on a campaign call and on Twitter and said, \"People are tired of hearing Fauci and all these idiots.\" Brazil has the second highest death toll at 154,176 and is third by cases at 5.3 million. India is second in cases with 7.6 million, and third in deaths at 15,197. Mexico has the fourth highest death toll at 86,338 and ninth highest case tally at 854,926. The U.K has 43,816 deaths, the highest in Europe and fifth highest in the world, and 744,122 cases.   \n",
       "\n",
       "            publishdate                                    id  \\\n",
       "0  2020-10-20T00:00:00Z  cccc6ef3-a147-41e3-bc1b-de099daa1942   \n",
       "\n",
       "             _version_  \n",
       "0  1686104086943891457  "
      ]
     },
     "execution_count": 8,
     "metadata": {},
     "output_type": "execute_result"
    }
   ],
   "source": [
    "q2 = 'http://awesome-hw.sdsc.edu:8983/solr/student-news/select?q=title%3A%22millions%22%20AND%20title%3A%22covid%22%20AND%20title%3A%22deaths%22'\n",
    "q2d = requests.get(q2).json()\n",
    "df2 = pd.json_normalize(q2d['response']['docs'])\n",
    "# df2.shape[0]\n",
    "df2[:1]"
   ]
  },
  {
   "cell_type": "markdown",
   "metadata": {},
   "source": [
    "### (3) - Biden and Trump on Election Day"
   ]
  },
  {
   "cell_type": "code",
   "execution_count": 9,
   "metadata": {},
   "outputs": [
    {
     "data": {
      "text/plain": [
       "{'responseHeader': {'status': 0,\n",
       "  'QTime': 0,\n",
       "  'params': {'q': 'title:\"Biden\" AND title:\"Trump\" AND publishdate:\"2020-11-03T00:00:00Z\"'}},\n",
       " 'response': {'numFound': 234,\n",
       "  'start': 0,\n",
       "  'docs': [{'src': 'https://www.deseret.com/',\n",
       "    'title': 'TX: Trump 50% Biden 46%',\n",
       "    'news': 'In Texas, President Trump is trying to make it 11 straight victories for Republicans in the Lone Star State. The latest PoliticalIQ poll shows Trump with the support of 50% of Likely Texas Voters and former Vice President Biden with the support of 46%. President Trump’s lead is just within the margin of error of 3.5%. The poll, conducted by Scott Rasmussen, shows 2% voting for someone else and 2% not sure. The last Democrat to win Texas was Jimmy Carter in 1976.\\n\\nWith more than 900,000 confirmed cases, Texas is among those states leading the nation in total coronavirus cases since the start of the pandemic. This healthcare crisis adds to the difficulty in predicting voter turnout. As such, all PoliticalIQ.com polls are released with three separate turnout models—a baseline projection, a Strong Republican Turnout model, and a Strong Democratic Turnout model.\\n\\nIn the Strong Republican Turnout model, Trump stretches his lead to eight points over Biden 52% – 44%. However, in the Strong Democrat Model, Biden pulls even 48%-48%.\\n\\nPoliticalIQ.com will have the latest from key states up until election day, including the latest on the Senate Race in Texas tomorrow. In 2016, Trump beat Hillary Clinton in Texas by 9%. The State has 38 Electoral Votes.\\n\\nMETHODOLOGY\\n\\nThe survey of 800 Likely Texas Voters was conducted by Scott Rasmussen from October 27-28, 2020. Field work for the survey was conducted by RMG Research, Inc. Respondents were randomly selected from a list of Registered Voters and contacted via text or through a process of Random Digital Engagement. The Likely Voter sample was derived from a larger sample of Registered Voters using screening questions and other factors. Certain quotas were applied to the larger sample and lightly weighted by geography, gender, age, race, education, and political party to reasonably reflect the state’s population of Registered Voters. Other variables were reviewed to ensure that the final sample is representative of that population.\\n\\nForty-nine percent (49%) of the Likely Voters either identify as Republican or Lean Republican. Forty-four percent (44%) either identify as a Democrat or Lean Democrat. Seven percent (7%) do not identify with either major party.\\n\\nThe margin of sampling error for the full sample is +/- 3.5 percentage points.',\n",
       "    'publishdate': '2020-11-03T00:00:00Z',\n",
       "    'id': '03f1d1c6-a021-4a5f-81d8-8a85e63452a3',\n",
       "    '_version_': 1686104344201527296},\n",
       "   {'src': 'https://www.deseret.com/',\n",
       "    'title': 'MT: Trump 50% Biden 46%',\n",
       "    'news': 'In a state dominated by President Trump in 2016, the race this year appears to be close. The latest PolitialIQ poll shows 50% of Likely Montana Voters in favor of President Trump, with 46% supporting former Vice President Joe Biden. The poll, conducted by Scott Rasmussen, shows the President’s lead to be just outside the margin of error of 3.5%. In fact, with a strong Democratic turnout, the race could become a toss-up.\\n\\nVoter turnout will be an important factor in determining the next President of the United States. As such, all PoliticalIQ.com polls are released with three separate turnout models—a baseline projection, a Strong Republican Turnout Model, and a Strong Democratic Turnout Model. This approach shows how heavy turnout for one candidate could affect results.\\n\\nIn the case of a Strong Republican Turnout, Trump broadens his lead to 8%. But in the case of a Strong Democratic Turnout, Biden pulls even with Trump 48% to 48%.\\n\\nPoliticalIQ.com will have more from the Montana survey later this weekend, including a bit of a surprise in the race for Montana’s lone Congressional seat. In 2016, Trump beat Hillary Clinton in Montana by nearly 20%. Montana has 3 Electoral Votes.\\n\\nMethodology\\n\\nThe survey of 800 Likely Montana Voters was conducted by Scott Rasmussen from October 15-18, 2020. Field work for the survey was conducted by RMG Research, Inc. Respondents were randomly selected from a list of Registered Voters and contacted via text or through a process of Random Digital Engagement. The Likely Voter sample was derived from a larger sample of Registered Voters using screening questions and other factors. Certain quotas were applied to the larger sample and lightly weighted by geography, gender, age, race, education, and political party to reasonably reflect the state’s population of Registered Voters. Other variables were reviewed to ensure that the final sample is representative of that population.\\n\\nForty-two percent (42%) of the Likely Voters either identify as Republican or Lean Republican. Thirty-two percent (32%) either identify as a Democrat or Lean Democrat. Twenty-six percent (26%) do not identify with either major party.\\n\\nThe margin of sampling error for the full sample is +/- 3.5 percentage points.',\n",
       "    'publishdate': '2020-11-03T00:00:00Z',\n",
       "    'id': 'e7873ff5-cae6-418a-907e-d584345ededc',\n",
       "    '_version_': 1686104344221450242},\n",
       "   {'src': 'https://www.deseret.com/',\n",
       "    'title': 'WI: Biden 50% Trump 44%',\n",
       "    'news': 'In the Battleground state of Wisconsin, Likely Voters show former Vice President Joe Biden leading with less than two weeks left to go in the election. The latest PolitcalIQ survey shows Biden with a six point lead over President Trump. That’s well within the survey’s margin of error of 3.5%. The poll, conducted by Scott Rasmussen, shows 3% plan to vote for some other candidate and 4% are not sure.\\n\\nVoter turnout will be key in determining the next President of the United States. As such, all PoliticalIQ.com polls are released with three separate turnout models—a baseline projection, a Strong Republican Turnout model, and a Strong Democratic Turnout model. This approach shows how heavy turnout for one candidate could affect results.\\n\\nIn the case of the Badger State, even in The Strong Republican Turnout model, Biden maintains his lead 48%-45%. If Democratic turnout is strong, then Biden would comfortably lead by 10 points.\\n\\nPoliticalIQ.com will be releasing Iowa results later today, prior to tonight’s final Presidential Debate. In 2016, Trump beat Hillary Clinton in Wisconsin by less than 1%. Wisconsin has 10 Electoral Votes.\\n\\nMethodology\\n\\nThe survey of 800 Likely Wisconsin Voters was conducted by Scott Rasmussen from October 14-20, 2020. Field work for the survey was conducted by RMG Research, Inc. Most respondents were randomly selected from a list of Registered Voters and contacted via text or through a process of Random Digital Engagement. A total of 142 were contacted using automated phone polling techniques. The Likely Voter sample was derived from a larger sample of Registered Voters using screening questions and other factors. Certain quotas were applied to the larger sample and lightly weighted by geography, gender, age, race, education, and political party to reasonably reflect the state’s population of Registered Voters. Other variables were reviewed to ensure that the final sample is representative of that population.\\n\\nThirty-nine percent (39%) of the Likely Voters either identify as Republican or Lean Republican. Thirty-six percent (36%) either identify as a Democrat or Lean Democrat. Twenty-five percent (25%) do not identify with either major party.\\n\\nThe margin of sampling error for the full sample is +/- 3.5 percentage points.',\n",
       "    'publishdate': '2020-11-03T00:00:00Z',\n",
       "    'id': '0b40a143-65eb-4ed3-9d02-07e0977e0edb',\n",
       "    '_version_': 1686104344285413376},\n",
       "   {'src': 'https://www.deseret.com/',\n",
       "    'title': 'PA: Biden 49% Trump 43%',\n",
       "    'news': 'In the pivotal state of Pennsylvania, former Vice President Joe Biden has a six-point lead over President Trump with less than three weeks until the election. The latest PoliticalIQ.com poll, conducted by Scott Rasmussen, shows Biden with 49% of the vote, while Trump is attracting 43% of the vote. Just 2% plan to vote for some other candidate, and 6% are not sure.\\n\\nVoter turnout will be vital in determining the next President of the United States. As such, all PoliticalIQ.com polls are released with three separate turnout models—a baseline projection, a Strong Republican Turnout model, and a Strong Democratic Turnout model. This approach shows how heavy turnout for one candidate could affect results.\\n\\nIn the case of Pennsylvania, The Strong Republican Turnout model shows Vice President Joe Biden still retaining a slim 2-point lead for President, 47% to 45%. Pennsylvania women account for the result in this model, with 49% voting for Biden and 43% voting for Trump. In The Strong Republican Turnout, 48% of men endorse Trump, while 44% prefer Biden. Alternatively, if Democratic turnout is stronger than the baseline projection, Biden would win comfortably by eight points, 50% to 42%.\\n\\nPoliticalIQ.com will be releasing new Battleground State polls every weekday until Election Day. The Keystone State is considered a key to victory for both candidates, with 20 Electoral Votes at stake.\\n\\nMethodology\\n\\nThe survey of 800 Likely Pennsylvania Voters was conducted by Scott Rasmussen from October 7-12, 2020. Fieldwork for the survey was conducted by RMG Research, Inc. Respondents were randomly selected from a list of Registered Voters and contacted via text or through a process of Random Digital Engagement. The Likely Voter sample was derived from a larger sample of Registered Voters using screening questions and other factors. Certain quotas were applied to the larger sample and lightly weighted by geography, gender, age, race, education, and political party to reasonably reflect the state’s population of Registered Voters. Other variables were reviewed to ensure that the final sample is representative of that population.\\n\\nForty-two percent (42%) of the Likely Voters either identify as Republican or Lean Republican. Forty-six percent (46%) either identify as a Democrat or Lean Democrat. Twelve percent (12%) do not identify with either major party.',\n",
       "    'publishdate': '2020-11-03T00:00:00Z',\n",
       "    'id': '69fe848d-e2c5-49c9-8629-af3ca453163a',\n",
       "    '_version_': 1686104360005664769},\n",
       "   {'src': 'https://oklahoman.com/',\n",
       "    'title': 'In 2020 finale, Trump combative, Biden on offense',\n",
       "    'news': 'PITTSBURGH (AP) — In the closing hours of a campaign shadowed by a once-in-a-century pandemic, President Donald Trump charged across the nation Monday delivering an incendiary but unsupported allegation that the election is rigged, while Democratic challenger Joe Biden pushed to claim states once seen as safely Republican.\\n\\nAmerica stood at a crossroads. Never before in modern history have voters faced a choice between candidates offering such opposite visions as the nation confronts a virus that has killed 230,000 Americans, the starkest economic contraction since the Great Depression and a citizenry divided on cultural and racial issues.\\n\\nThe two men broke sharply Monday on the voting process itself while campaigning in the most fiercely contested battleground, Pennsylvania. The president threatened legal action to stop counting beyond Election Day. If Pennsylvania ballot counting takes several days, as is allowed, Trump charged that “cheating can happen like you have never seen.”\\n\\nGoing further, Trump even tweeted about election-related “violence in the streets,\" though none has occurred. Asked about it, Biden said “I’m not going to respond to anything he has to say. I’m hoping for a straightforward, peaceful election with a lot of people showing up.”',\n",
       "    'publishdate': '2020-11-03T00:00:00Z',\n",
       "    'id': 'f6706c1d-4452-48a2-9ec2-e928a0a06b72',\n",
       "    '_version_': 1686104343658364931},\n",
       "   {'src': 'https://www.stltoday.com/',\n",
       "    'title': 'In 2020 finale, Trump combative, Biden on offense',\n",
       "    'news': 'Before the Nov. 3 election, use the non-partisan voters guide to research the ballot, find coverage of major issues, and browse a searchable d…',\n",
       "    'publishdate': '2020-11-03T00:00:00Z',\n",
       "    'id': '1da27abc-ca20-4a4f-8ea3-4f96b847894d',\n",
       "    '_version_': 1686104344172167170},\n",
       "   {'src': 'https://www.deseret.com/',\n",
       "    'title': 'Battleground Michigan: Biden 51% Trump 44%',\n",
       "    'news': 'A key Battleground State is showing little change in the run-up to Election Day. In Michigan, the latest PoliticalIQ Poll shows former Vice President Joe Biden leading President Trump among Likely Voters, 51% to 44%. That’s a slight one point drop for President Trump from earlier in the month. The poll, conducted by Scott Rasmussen, found 3% voting for another candidate and 2% unsure.\\n\\nBoth campaigns have zeroed in on Michigan in their efforts to get out the vote. With turnout so important, PoliticalIQ releases three separate models – Baseline, Strong Republican Turnout, and Strong Democratic Turnout. This approach takes into account how modest differences in turnout can significantly impact election results.\\n\\nIn the case of Michigan, a Strong Republican Turnout would result in Biden holding a five point edge over President Trump, 50% to 45%. That’s within the poll’s 3.5% margin of error. Alternatively, a Strong Democratic Turnout paves the way for Biden to win comfortably, 53%- 42%.\\n\\nWith time running out in the 2020 campaign, PoliticalIQ will be releasing more poll results this weekend, including the latest from Florida. In 2016, President Trump beat Hillary Clinton in Michigan by less than 1% point.\\n\\nMETHODOLOGY\\n\\nThe survey of 800 Likely Michigan Voters was conducted by Scott Rasmussen from October 27-29, 2020. Field work for the survey was conducted by RMG Research, Inc. Most respondents were randomly selected from a list of Registered Voters and contacted via text or through a process of Random Digital Engagement. A total of 74 were contacted using automated phone polling techniques. The Likely Voter sample was derived from a larger sample of Registered Voters using screening questions and other factors. Certain quotas were applied to the larger sample and lightly weighted by geography, gender, age, race, education, and political party to reasonably reflect the state’s population of Registered Voters. Other variables were reviewed to ensure that the final sample is representative of that population.\\n\\nThirty-three percent (33%) of the Likely Voters either identify as Republican or Lean Republican. Thirty-seven percent (37%) either identify as a Democrat or Lean Democrat. Thirty percent (30%) do not identify with either major party.\\n\\nThe margin of sampling error for the full sample is +/- 3.5 percentage points.',\n",
       "    'publishdate': '2020-11-03T00:00:00Z',\n",
       "    'id': 'c1ac9631-a434-4bbc-abff-39e3927ace8b',\n",
       "    '_version_': 1686104344207818752},\n",
       "   {'src': 'https://tucson.com/',\n",
       "    'title': 'In 2020 finale, Trump combative, Biden on offense',\n",
       "    'news': 'This election year with record early and mail-in voting it’s unclear when the highly anticipated results will be announced. Election experts explain the process of counting the ballots, what states to watch and suggest when the results will come in.',\n",
       "    'publishdate': '2020-11-03T00:00:00Z',\n",
       "    'id': '7f487141-0186-44f0-8169-5b655a393ffe',\n",
       "    '_version_': 1686104344774049796},\n",
       "   {'src': 'http://www.reuters.com/',\n",
       "    'title': 'A nation on edge, Biden and Trump race to the finish',\n",
       "    'news': 'Politics\\n\\nA nation on edge, Biden and Trump race to the finish\\n\\nPosted\\n\\n[NFA] President Donald Trump and Democratic rival Joe Biden traded barbs on Monday and exhorted last-minute voters to turn out as they stumped in battleground states on the final day of a polarizing campaign that has shattered early voting records. Lisa Bernhard produced this report.',\n",
       "    'publishdate': '2020-11-03T00:00:00Z',\n",
       "    'id': 'e1afc549-3a05-4c2e-bb70-fa32fd15ad30',\n",
       "    '_version_': 1686104346706575362},\n",
       "   {'src': 'http://www.reuters.com/',\n",
       "    'title': 'A nation on edge, Biden and Trump race to the finish',\n",
       "    'news': 'Top News\\n\\nA nation on edge, Biden and Trump race to the finish\\n\\nPosted\\n\\n[NFA] President Donald Trump and Democratic rival Joe Biden traded barbs on Monday and exhorted last-minute voters to turn out as they stumped in battleground states on the final day of a polarizing campaign that has shattered early voting records. Lisa Bernhard produced this report.',\n",
       "    'publishdate': '2020-11-03T00:00:00Z',\n",
       "    'id': '6c81b257-e44a-47bb-ae55-811ffb56c12c',\n",
       "    '_version_': 1686104346785218563}]}}"
      ]
     },
     "execution_count": 9,
     "metadata": {},
     "output_type": "execute_result"
    }
   ],
   "source": [
    "q3j = requests.get(\"http://awesome-hw.sdsc.edu:8983/solr/student-news/select?q=title%3A%22Biden%22%20AND%20title%3A%22Trump%22%20AND%20publishdate%3A%222020-11-03T00%3A00%3A00Z%22\")\n",
    "q3j.json()"
   ]
  },
  {
   "cell_type": "code",
   "execution_count": 10,
   "metadata": {},
   "outputs": [
    {
     "data": {
      "text/html": [
       "<div>\n",
       "<style scoped>\n",
       "    .dataframe tbody tr th:only-of-type {\n",
       "        vertical-align: middle;\n",
       "    }\n",
       "\n",
       "    .dataframe tbody tr th {\n",
       "        vertical-align: top;\n",
       "    }\n",
       "\n",
       "    .dataframe thead th {\n",
       "        text-align: right;\n",
       "    }\n",
       "</style>\n",
       "<table border=\"1\" class=\"dataframe\">\n",
       "  <thead>\n",
       "    <tr style=\"text-align: right;\">\n",
       "      <th></th>\n",
       "      <th>src</th>\n",
       "      <th>title</th>\n",
       "      <th>news</th>\n",
       "      <th>publishdate</th>\n",
       "      <th>id</th>\n",
       "      <th>_version_</th>\n",
       "    </tr>\n",
       "  </thead>\n",
       "  <tbody>\n",
       "    <tr>\n",
       "      <th>0</th>\n",
       "      <td>https://www.deseret.com/</td>\n",
       "      <td>TX: Trump 50% Biden 46%</td>\n",
       "      <td>In Texas, President Trump is trying to make it 11 straight victories for Republicans in the Lone Star State. The latest PoliticalIQ poll shows Trump with the support of 50% of Likely Texas Voters and former Vice President Biden with the support of 46%. President Trump’s lead is just within the margin of error of 3.5%. The poll, conducted by Scott Rasmussen, shows 2% voting for someone else and 2% not sure. The last Democrat to win Texas was Jimmy Carter in 1976.\\n\\nWith more than 900,000 confirmed cases, Texas is among those states leading the nation in total coronavirus cases since the start of the pandemic. This healthcare crisis adds to the difficulty in predicting voter turnout. As such, all PoliticalIQ.com polls are released with three separate turnout models—a baseline projection, a Strong Republican Turnout model, and a Strong Democratic Turnout model.\\n\\nIn the Strong Republican Turnout model, Trump stretches his lead to eight points over Biden 52% – 44%. However, in the Strong Democrat Model, Biden pulls even 48%-48%.\\n\\nPoliticalIQ.com will have the latest from key states up until election day, including the latest on the Senate Race in Texas tomorrow. In 2016, Trump beat Hillary Clinton in Texas by 9%. The State has 38 Electoral Votes.\\n\\nMETHODOLOGY\\n\\nThe survey of 800 Likely Texas Voters was conducted by Scott Rasmussen from October 27-28, 2020. Field work for the survey was conducted by RMG Research, Inc. Respondents were randomly selected from a list of Registered Voters and contacted via text or through a process of Random Digital Engagement. The Likely Voter sample was derived from a larger sample of Registered Voters using screening questions and other factors. Certain quotas were applied to the larger sample and lightly weighted by geography, gender, age, race, education, and political party to reasonably reflect the state’s population of Registered Voters. Other variables were reviewed to ensure that the final sample is representative of that population.\\n\\nForty-nine percent (49%) of the Likely Voters either identify as Republican or Lean Republican. Forty-four percent (44%) either identify as a Democrat or Lean Democrat. Seven percent (7%) do not identify with either major party.\\n\\nThe margin of sampling error for the full sample is +/- 3.5 percentage points.</td>\n",
       "      <td>2020-11-03T00:00:00Z</td>\n",
       "      <td>03f1d1c6-a021-4a5f-81d8-8a85e63452a3</td>\n",
       "      <td>1686104344201527296</td>\n",
       "    </tr>\n",
       "  </tbody>\n",
       "</table>\n",
       "</div>"
      ],
      "text/plain": [
       "                        src                    title  \\\n",
       "0  https://www.deseret.com/  TX: Trump 50% Biden 46%   \n",
       "\n",
       "                                                                                                                                                                                                                                                                                                                                                                                                                                                                                                                                                                                                                                                                                                                                                                                                                                                                                                                                                                                                                                                                                                                                                                                                                                                                                                                                                                                                                                                                                                                                                                                                                                                                                                                                                                                                                                                                                                                                                                                                                                                                                                                                                                                                                                                                                                                                                                                                                  news  \\\n",
       "0  In Texas, President Trump is trying to make it 11 straight victories for Republicans in the Lone Star State. The latest PoliticalIQ poll shows Trump with the support of 50% of Likely Texas Voters and former Vice President Biden with the support of 46%. President Trump’s lead is just within the margin of error of 3.5%. The poll, conducted by Scott Rasmussen, shows 2% voting for someone else and 2% not sure. The last Democrat to win Texas was Jimmy Carter in 1976.\\n\\nWith more than 900,000 confirmed cases, Texas is among those states leading the nation in total coronavirus cases since the start of the pandemic. This healthcare crisis adds to the difficulty in predicting voter turnout. As such, all PoliticalIQ.com polls are released with three separate turnout models—a baseline projection, a Strong Republican Turnout model, and a Strong Democratic Turnout model.\\n\\nIn the Strong Republican Turnout model, Trump stretches his lead to eight points over Biden 52% – 44%. However, in the Strong Democrat Model, Biden pulls even 48%-48%.\\n\\nPoliticalIQ.com will have the latest from key states up until election day, including the latest on the Senate Race in Texas tomorrow. In 2016, Trump beat Hillary Clinton in Texas by 9%. The State has 38 Electoral Votes.\\n\\nMETHODOLOGY\\n\\nThe survey of 800 Likely Texas Voters was conducted by Scott Rasmussen from October 27-28, 2020. Field work for the survey was conducted by RMG Research, Inc. Respondents were randomly selected from a list of Registered Voters and contacted via text or through a process of Random Digital Engagement. The Likely Voter sample was derived from a larger sample of Registered Voters using screening questions and other factors. Certain quotas were applied to the larger sample and lightly weighted by geography, gender, age, race, education, and political party to reasonably reflect the state’s population of Registered Voters. Other variables were reviewed to ensure that the final sample is representative of that population.\\n\\nForty-nine percent (49%) of the Likely Voters either identify as Republican or Lean Republican. Forty-four percent (44%) either identify as a Democrat or Lean Democrat. Seven percent (7%) do not identify with either major party.\\n\\nThe margin of sampling error for the full sample is +/- 3.5 percentage points.   \n",
       "\n",
       "            publishdate                                    id  \\\n",
       "0  2020-11-03T00:00:00Z  03f1d1c6-a021-4a5f-81d8-8a85e63452a3   \n",
       "\n",
       "             _version_  \n",
       "0  1686104344201527296  "
      ]
     },
     "execution_count": 10,
     "metadata": {},
     "output_type": "execute_result"
    }
   ],
   "source": [
    "q3 = 'http://awesome-hw.sdsc.edu:8983/solr/student-news/select?q=title%3A%22Biden%22%20AND%20title%3A%22Trump%22%20AND%20publishdate%3A%222020-11-03T00%3A00%3A00Z%22'\n",
    "q3d = requests.get(q3).json()\n",
    "df3 = pd.json_normalize(q3d['response']['docs'])\n",
    "# df3.shape[0]\n",
    "df3[:1]"
   ]
  },
  {
   "cell_type": "markdown",
   "metadata": {},
   "source": [
    "## Implementing a Redis Cache"
   ]
  },
  {
   "cell_type": "markdown",
   "metadata": {},
   "source": [
    "### Query 1"
   ]
  },
  {
   "cell_type": "code",
   "execution_count": 11,
   "metadata": {},
   "outputs": [],
   "source": [
    "r1 = redis.Redis(host='my-redis', port=6379, db=0)"
   ]
  },
  {
   "cell_type": "code",
   "execution_count": 12,
   "metadata": {},
   "outputs": [
    {
     "data": {
      "text/plain": [
       "{'Opinion | Trump’s Tax Avoidance Is a Tax on the Rest of Us': '2020-10-01T00:00:00Z',\n",
       " 'Brooke Harrington: Trump’s tax avoidance is a tax on the rest of us': '2020-10-03T00:00:00Z',\n",
       " 'Trump Tax-Return Report Fuels Democrats’ Drive to Tax the Rich': '2020-10-01T00:00:00Z',\n",
       " 'Letter: Trump, Taxes and naive thinking': '2020-10-15T00:00:00Z',\n",
       " 'President Trump’s Taxes with Joe Bankman': '2020-10-25T00:00:00Z'}"
      ]
     },
     "execution_count": 12,
     "metadata": {},
     "output_type": "execute_result"
    }
   ],
   "source": [
    "dict1 = dict(zip(df1['title'], df1['publishdate']))\n",
    "dict1"
   ]
  },
  {
   "cell_type": "code",
   "execution_count": 13,
   "metadata": {},
   "outputs": [],
   "source": [
    "for key in dict1.keys():\n",
    "    for val in dict1[key]:\n",
    "        r1.append(key, val)"
   ]
  },
  {
   "cell_type": "code",
   "execution_count": 14,
   "metadata": {},
   "outputs": [
    {
     "data": {
      "text/plain": [
       "[b'2020-10-03T00:00:00Z']"
      ]
     },
     "execution_count": 14,
     "metadata": {},
     "output_type": "execute_result"
    }
   ],
   "source": [
    "pipe = r1.pipeline()\n",
    "pipe.get('Brooke Harrington: Trump’s tax avoidance is a tax on the rest of us')\n",
    "pipe.execute()"
   ]
  },
  {
   "cell_type": "markdown",
   "metadata": {},
   "source": [
    "### Query 2"
   ]
  },
  {
   "cell_type": "code",
   "execution_count": 15,
   "metadata": {},
   "outputs": [],
   "source": [
    "r2 = redis.Redis(host='my-redis', port=6379, db=0)"
   ]
  },
  {
   "cell_type": "code",
   "execution_count": 16,
   "metadata": {},
   "outputs": [
    {
     "data": {
      "text/plain": [
       "{'Coronavirus tally: Global cases of COVID-19 40.4 million, 1.1 million deaths and U.S. death toll tops 220,000': '2020-10-20T00:00:00Z',\n",
       " 'Coronavirus tally: Global cases of COVID-19 40.8 million, 1.13 million deaths and U.S. death toll tops 221,000': '2020-10-21T00:00:00Z',\n",
       " 'Coronavirus tally: Global cases of COVID-19 41.28 million, 1.13 million deaths and U.S. death toll tops 222,000': '2020-10-22T00:00:00Z',\n",
       " 'Coronavirus tally: Global cases of COVID-19 34.7 million, 1.03 million deaths and U.S. death toll nears 209,000': '2020-10-03T00:00:00Z',\n",
       " 'Coronavirus tally: Global cases of COVID-19 35.5 million, 1.04 million deaths and U.S. death toll tops 210,000': '2020-10-06T00:00:00Z',\n",
       " 'Coronavirus tally: Global cases of COVID-19 38.2 million, 1.09 million deaths and U.S. death tolls nears 216,000': '2020-10-14T00:00:00Z',\n",
       " 'Coronavirus tally: Global cases of COVID-19 top 34.3 million, 1.02 million deaths and U.S. death toll tops 207,000': '2020-10-02T00:00:00Z',\n",
       " 'Coronavirus tally: Global cases of COVID-19 38.9 million, 1.09 million deaths and U.S. nears 8 million cases': '2020-10-16T00:00:00Z'}"
      ]
     },
     "execution_count": 16,
     "metadata": {},
     "output_type": "execute_result"
    }
   ],
   "source": [
    "dict2 = dict(zip(df2['title'], df2['publishdate']))\n",
    "dict2"
   ]
  },
  {
   "cell_type": "code",
   "execution_count": 17,
   "metadata": {},
   "outputs": [],
   "source": [
    "for key in dict2.keys():\n",
    "    for val in dict2[key]:\n",
    "        r2.append(key, val)"
   ]
  },
  {
   "cell_type": "code",
   "execution_count": 18,
   "metadata": {},
   "outputs": [
    {
     "data": {
      "text/plain": [
       "[b'2020-10-20T00:00:00Z']"
      ]
     },
     "execution_count": 18,
     "metadata": {},
     "output_type": "execute_result"
    }
   ],
   "source": [
    "pipe = r2.pipeline()\n",
    "pipe.get('Coronavirus tally: Global cases of COVID-19 40.4 million, 1.1 million deaths and U.S. death toll tops 220,000')\n",
    "pipe.execute()\n"
   ]
  },
  {
   "cell_type": "markdown",
   "metadata": {},
   "source": [
    "### Query 3"
   ]
  },
  {
   "cell_type": "code",
   "execution_count": 19,
   "metadata": {},
   "outputs": [],
   "source": [
    "r3 = redis.Redis(host='my-redis', port=6379, db=0)"
   ]
  },
  {
   "cell_type": "code",
   "execution_count": 20,
   "metadata": {},
   "outputs": [
    {
     "data": {
      "text/plain": [
       "{'TX: Trump 50% Biden 46%': '2020-11-03T00:00:00Z',\n",
       " 'MT: Trump 50% Biden 46%': '2020-11-03T00:00:00Z',\n",
       " 'WI: Biden 50% Trump 44%': '2020-11-03T00:00:00Z',\n",
       " 'PA: Biden 49% Trump 43%': '2020-11-03T00:00:00Z',\n",
       " 'In 2020 finale, Trump combative, Biden on offense': '2020-11-03T00:00:00Z',\n",
       " 'Battleground Michigan: Biden 51% Trump 44%': '2020-11-03T00:00:00Z',\n",
       " 'A nation on edge, Biden and Trump race to the finish': '2020-11-03T00:00:00Z'}"
      ]
     },
     "execution_count": 20,
     "metadata": {},
     "output_type": "execute_result"
    }
   ],
   "source": [
    "dict3 = dict(zip(df3['title'], df3['publishdate']))\n",
    "dict3"
   ]
  },
  {
   "cell_type": "code",
   "execution_count": 21,
   "metadata": {},
   "outputs": [],
   "source": [
    "for key in dict3.keys():\n",
    "    for val in dict3[key]:\n",
    "        r3.append(key, val)"
   ]
  },
  {
   "cell_type": "code",
   "execution_count": 22,
   "metadata": {},
   "outputs": [
    {
     "data": {
      "text/plain": [
       "[b'2020-11-03T00:00:00Z']"
      ]
     },
     "execution_count": 22,
     "metadata": {},
     "output_type": "execute_result"
    }
   ],
   "source": [
    "pipe = r3.pipeline()\n",
    "pipe.get('TX: Trump 50% Biden 46%')\n",
    "pipe.execute()"
   ]
  }
 ],
 "metadata": {
  "kernelspec": {
   "display_name": "Python 3 (clean)",
   "language": "python",
   "name": "python3_clean"
  },
  "language_info": {
   "codemirror_mode": {
    "name": "ipython",
    "version": 3
   },
   "file_extension": ".py",
   "mimetype": "text/x-python",
   "name": "python",
   "nbconvert_exporter": "python",
   "pygments_lexer": "ipython3",
   "version": "3.7.6"
  }
 },
 "nbformat": 4,
 "nbformat_minor": 4
}
