{
 "cells": [
  {
   "cell_type": "markdown",
   "metadata": {},
   "source": [
    "# Redis Caching"
   ]
  },
  {
   "cell_type": "code",
   "execution_count": 1,
   "metadata": {},
   "outputs": [],
   "source": [
    "import warnings\n",
    "warnings.filterwarnings('ignore')"
   ]
  },
  {
   "cell_type": "code",
   "execution_count": 2,
   "metadata": {},
   "outputs": [],
   "source": [
    "import pandas as pd \n",
    "import numpy as np \n",
    "from urllib.request import urlopen\n",
    "import redis\n",
    "import json\n",
    "import pysolr\n",
    "import requests"
   ]
  },
  {
   "cell_type": "code",
   "execution_count": 3,
   "metadata": {},
   "outputs": [],
   "source": [
    "pd.set_option('display.max_colwidth', -1)"
   ]
  },
  {
   "cell_type": "code",
   "execution_count": 4,
   "metadata": {},
   "outputs": [],
   "source": [
    "site = \"http://awesome-hw.sdsc.edu:8983/solr/#/student-news/query\""
   ]
  },
  {
   "cell_type": "markdown",
   "metadata": {},
   "source": [
    "## Queries"
   ]
  },
  {
   "cell_type": "code",
   "execution_count": 1,
   "metadata": {},
   "outputs": [],
   "source": [
    "def solr_query(string):\n",
    "    \"\"\"Function that takes in string of Queries and formats into solr query JSON\n",
    "    \n",
    "    Args: \n",
    "        param1(str): string of space separated queries\n",
    "        ex1: \"trump\"\n",
    "        ex2: \"trump biden\"\n",
    "        \n",
    "    Returns: \n",
    "        string: link of solr query output\n",
    "    \"\"\"\n",
    "    \n",
    "    link = 'http://awesome-hw.sdsc.edu:8983/solr/student-news/select?q='\n",
    "    column = 'title%3A'\n",
    "    space = '%20AND%20'\n",
    "    searches = string.split(\" \")\n",
    "    multiple = ''\n",
    "    \n",
    "    #If there is only one search \n",
    "    if len(searches) == 1:\n",
    "        link = link + column + searches[0]\n",
    "    #Multiple searches to concatenate\n",
    "    else:\n",
    "        for i in range(1, len(searches)):\n",
    "            multiple = multiple + space + column + searches[i]\n",
    "        link = link + column + searches[0] + multiple\n",
    "        \n",
    "    return link"
   ]
  },
  {
   "cell_type": "markdown",
   "metadata": {},
   "source": [
    "### (1) - Trump and Taxes"
   ]
  },
  {
   "cell_type": "code",
   "execution_count": 14,
   "metadata": {},
   "outputs": [],
   "source": [
    "q1j = requests.get('http://awesome-hw.sdsc.edu:8983/solr/student-news/select?q=title%3A%22trump%22%20AND%20title%3A%22taxes%22')\n",
    "out1 = q1j.json()"
   ]
  },
  {
   "cell_type": "code",
   "execution_count": 15,
   "metadata": {},
   "outputs": [
    {
     "data": {
      "text/plain": [
       "{'responseHeader': {'status': 0,\n",
       "  'QTime': 1,\n",
       "  'params': {'q': 'title:\"trump\" AND title:\"taxes\"'}},\n",
       " 'response': {'numFound': 222,\n",
       "  'start': 0,\n",
       "  'docs': [{'src': 'http://www.nytimes.com/pages/todayspaper/index.html',\n",
       "    'title': 'Opinion | Trump’s Tax Avoidance Is a Tax on the Rest of Us',\n",
       "    'news': 'We don’t know if Donald Trump’s recent federal income tax returns indicate illegal activity. But even if the $750 income tax bills he paid in each of the first two years of his presidency turn out to have been calculated in compliance with the U.S. Internal Revenue Code, he has enjoyed the benefits of the society we all contribute to build, then skipped out on his share of the bill — a sort of dine-and-dash on his fellow Americans.\\n\\nWhat many Americans may not realize is how common this is among the country’s top earners, and how much it costs the rest of us. Sixteen years ago, the former I.R.S. commissioner Charles Rossotti estimated that so many wealthy Americans don’t pay their fair share of income taxes that it effectively imposes a 15 percent surtax on the rest of us — that is, on the vast majority of taxpayers who can’t afford the expensive professional advice on which successful tax-avoidance strategies depend.\\n\\nHaving spent the past 13 years studying and writing about these elite professionals who help the ultrarich reduce their tax bills as close to zero as possible, I understand how the game of “creative compliance” is played: They adhere to the letter of the law while violating its spirit. The tax avoidance professionals say, as Mossack Fonseca did after the Panama Papers broke, we complied with the law, so what’s the problem?\\n\\nMany Americans seem to accept this argument. Some even greet news of tax avoidance by the ultrarich with admiration and envy, instead of the anger they would show to someone who skipped out on a group dinner and left them with the bill. Rather than condemning those who take advantage of their society, many Americans say instead: “Good for them! I’d do it myself if I could.” Those attitudes are reflected in our politics and have contributed to our handing over the most powerful elected office in the world to a man who bragged about not paying a dime of federal income tax for years.',\n",
       "    'publishdate': '2020-10-01T00:00:00Z',\n",
       "    'id': 'ee2bb842-eeff-4feb-85d0-2c7a1c422d4e',\n",
       "    '_version_': 1686305250954182656},\n",
       "   {'src': 'http://www.nytimes.com/pages/todayspaper/index.html',\n",
       "    'title': 'Opinion | Trump’s Tax Avoidance Is a Tax on the Rest of Us',\n",
       "    'news': 'We don’t know if Donald Trump’s recent federal income tax returns indicate illegal activity. But even if the $750 income tax bills he paid in each of the first two years of his presidency turn out to have been calculated in compliance with the U.S. Internal Revenue Code, he has enjoyed the benefits of the society we all contribute to build, then skipped out on his share of the bill — a sort of dine-and-dash on his fellow Americans.\\n\\nWhat many Americans may not realize is how common this is among the country’s top earners, and how much it costs the rest of us. Sixteen years ago, the former I.R.S. commissioner Charles Rossotti estimated that so many wealthy Americans don’t pay their fair share of income taxes that it effectively imposes a 15 percent surtax on the rest of us — that is, on the vast majority of taxpayers who can’t afford the expensive professional advice on which successful tax-avoidance strategies depend.\\n\\nHaving spent the past 13 years studying and writing about these elite professionals who help the ultrarich reduce their tax bills as close to zero as possible, I understand how the game of “creative compliance” is played: They adhere to the letter of the law while violating its spirit. The tax avoidance professionals say, as Mossack Fonseca did after the Panama Papers broke, we complied with the law, so what’s the problem?\\n\\nMany Americans seem to accept this argument. Some even greet news of tax avoidance by the ultrarich with admiration and envy, instead of the anger they would show to someone who skipped out on a group dinner and left them with the bill. Rather than condemning those who take advantage of their society, many Americans say instead: “Good for them! I’d do it myself if I could.” Those attitudes are reflected in our politics and have contributed to our handing over the most powerful elected office in the world to a man who bragged about not paying a dime of federal income tax for years.',\n",
       "    'publishdate': '2020-10-01T00:00:00Z',\n",
       "    'id': 'c1967ea9-8260-4427-93d0-8891ac949a67',\n",
       "    '_version_': 1686305236965130240},\n",
       "   {'src': 'http://www.nytimes.com/pages/todayspaper/index.html',\n",
       "    'title': 'Opinion | Trump’s Tax Avoidance Is a Tax on the Rest of Us',\n",
       "    'news': 'We don’t know if Donald Trump’s recent federal income tax returns indicate illegal activity. But even if the $750 income tax bills he paid in each of the first two years of his presidency turn out to have been calculated in compliance with the U.S. Internal Revenue Code, he has enjoyed the benefits of the society we all contribute to build, then skipped out on his share of the bill — a sort of dine-and-dash on his fellow Americans.\\n\\nWhat many Americans may not realize is how common this is among the country’s top earners, and how much it costs the rest of us. Sixteen years ago, the former I.R.S. commissioner Charles Rossotti estimated that so many wealthy Americans don’t pay their fair share of income taxes that it effectively imposes a 15 percent surtax on the rest of us — that is, on the vast majority of taxpayers who can’t afford the expensive professional advice on which successful tax-avoidance strategies depend.\\n\\nHaving spent the past 13 years studying and writing about these elite professionals who help the ultrarich reduce their tax bills as close to zero as possible, I understand how the game of “creative compliance” is played: They adhere to the letter of the law while violating its spirit. The tax avoidance professionals say, as Mossack Fonseca did after the Panama Papers broke, we complied with the law, so what’s the problem?\\n\\nMany Americans seem to accept this argument. Some even greet news of tax avoidance by the ultrarich with admiration and envy, instead of the anger they would show to someone who skipped out on a group dinner and left them with the bill. Rather than condemning those who take advantage of their society, many Americans say instead: “Good for them! I’d do it myself if I could.” Those attitudes are reflected in our politics and have contributed to our handing over the most powerful elected office in the world to a man who bragged about not paying a dime of federal income tax for years.',\n",
       "    'publishdate': '2020-10-01T00:00:00Z',\n",
       "    'id': 'c2748c0b-7d94-4b6f-92cd-e1e23e496d25',\n",
       "    '_version_': 1686305223991099394},\n",
       "   {'src': 'http://www.nytimes.com/pages/todayspaper/index.html',\n",
       "    'title': 'Opinion | Trump’s Tax Avoidance Is a Tax on the Rest of Us',\n",
       "    'news': 'We don’t know if Donald Trump’s recent federal income tax returns indicate illegal activity. But even if the $750 income tax bills he paid in each of the first two years of his presidency turn out to have been calculated in compliance with the U.S. Internal Revenue Code, he has enjoyed the benefits of the society we all contribute to build, then skipped out on his share of the bill — a sort of dine-and-dash on his fellow Americans.\\n\\nWhat many Americans may not realize is how common this is among the country’s top earners, and how much it costs the rest of us. Sixteen years ago, the former I.R.S. commissioner Charles Rossotti estimated that so many wealthy Americans don’t pay their fair share of income taxes that it effectively imposes a 15 percent surtax on the rest of us — that is, on the vast majority of taxpayers who can’t afford the expensive professional advice on which successful tax-avoidance strategies depend.\\n\\nHaving spent the past 13 years studying and writing about these elite professionals who help the ultrarich reduce their tax bills as close to zero as possible, I understand how the game of “creative compliance” is played: They adhere to the letter of the law while violating its spirit. The tax avoidance professionals say, as Mossack Fonseca did after the Panama Papers broke, we complied with the law, so what’s the problem?\\n\\nMany Americans seem to accept this argument. Some even greet news of tax avoidance by the ultrarich with admiration and envy, instead of the anger they would show to someone who skipped out on a group dinner and left them with the bill. Rather than condemning those who take advantage of their society, many Americans say instead: “Good for them! I’d do it myself if I could.” Those attitudes are reflected in our politics and have contributed to our handing over the most powerful elected office in the world to a man who bragged about not paying a dime of federal income tax for years.',\n",
       "    'publishdate': '2020-10-01T00:00:00Z',\n",
       "    'id': '02b2045a-1d33-4c6d-931f-6207526e5e7d',\n",
       "    '_version_': 1686305174906208256},\n",
       "   {'src': 'http://www.nytimes.com/pages/todayspaper/index.html',\n",
       "    'title': 'Opinion | Trump’s Tax Avoidance Is a Tax on the Rest of Us',\n",
       "    'news': 'We don’t know if Donald Trump’s recent federal income tax returns indicate illegal activity. But even if the $750 income tax bills he paid in each of the first two years of his presidency turn out to have been calculated in compliance with the U.S. Internal Revenue Code, he has enjoyed the benefits of the society we all contribute to build, then skipped out on his share of the bill — a sort of dine-and-dash on his fellow Americans.\\n\\nWhat many Americans may not realize is how common this is among the country’s top earners, and how much it costs the rest of us. Sixteen years ago, the former I.R.S. commissioner Charles Rossotti estimated that so many wealthy Americans don’t pay their fair share of income taxes that it effectively imposes a 15 percent surtax on the rest of us — that is, on the vast majority of taxpayers who can’t afford the expensive professional advice on which successful tax-avoidance strategies depend.\\n\\nHaving spent the past 13 years studying and writing about these elite professionals who help the ultrarich reduce their tax bills as close to zero as possible, I understand how the game of “creative compliance” is played: They adhere to the letter of the law while violating its spirit. The tax avoidance professionals say, as Mossack Fonseca did after the Panama Papers broke, we complied with the law, so what’s the problem?\\n\\nMany Americans seem to accept this argument. Some even greet news of tax avoidance by the ultrarich with admiration and envy, instead of the anger they would show to someone who skipped out on a group dinner and left them with the bill. Rather than condemning those who take advantage of their society, many Americans say instead: “Good for them! I’d do it myself if I could.” Those attitudes are reflected in our politics and have contributed to our handing over the most powerful elected office in the world to a man who bragged about not paying a dime of federal income tax for years.',\n",
       "    'publishdate': '2020-10-01T00:00:00Z',\n",
       "    'id': '7b3ce894-be87-46d4-a400-1ecde2b4292c',\n",
       "    '_version_': 1686305294979694593},\n",
       "   {'src': 'http://www.nytimes.com/pages/todayspaper/index.html',\n",
       "    'title': 'Opinion | Trump’s Tax Avoidance Is a Tax on the Rest of Us',\n",
       "    'news': 'We don’t know if Donald Trump’s recent federal income tax returns indicate illegal activity. But even if the $750 income tax bills he paid in each of the first two years of his presidency turn out to have been calculated in compliance with the U.S. Internal Revenue Code, he has enjoyed the benefits of the society we all contribute to build, then skipped out on his share of the bill — a sort of dine-and-dash on his fellow Americans.\\n\\nWhat many Americans may not realize is how common this is among the country’s top earners, and how much it costs the rest of us. Sixteen years ago, the former I.R.S. commissioner Charles Rossotti estimated that so many wealthy Americans don’t pay their fair share of income taxes that it effectively imposes a 15 percent surtax on the rest of us — that is, on the vast majority of taxpayers who can’t afford the expensive professional advice on which successful tax-avoidance strategies depend.\\n\\nHaving spent the past 13 years studying and writing about these elite professionals who help the ultrarich reduce their tax bills as close to zero as possible, I understand how the game of “creative compliance” is played: They adhere to the letter of the law while violating its spirit. The tax avoidance professionals say, as Mossack Fonseca did after the Panama Papers broke, we complied with the law, so what’s the problem?\\n\\nMany Americans seem to accept this argument. Some even greet news of tax avoidance by the ultrarich with admiration and envy, instead of the anger they would show to someone who skipped out on a group dinner and left them with the bill. Rather than condemning those who take advantage of their society, many Americans say instead: “Good for them! I’d do it myself if I could.” Those attitudes are reflected in our politics and have contributed to our handing over the most powerful elected office in the world to a man who bragged about not paying a dime of federal income tax for years.',\n",
       "    'publishdate': '2020-10-01T00:00:00Z',\n",
       "    'id': '9f03dbe0-3f71-41f7-9b34-5a7946194bc0',\n",
       "    '_version_': 1686305207814717440},\n",
       "   {'src': 'http://www.nytimes.com/pages/todayspaper/index.html',\n",
       "    'title': 'Opinion | Trump’s Tax Avoidance Is a Tax on the Rest of Us',\n",
       "    'news': 'We don’t know if Donald Trump’s recent federal income tax returns indicate illegal activity. But even if the $750 income tax bills he paid in each of the first two years of his presidency turn out to have been calculated in compliance with the U.S. Internal Revenue Code, he has enjoyed the benefits of the society we all contribute to build, then skipped out on his share of the bill — a sort of dine-and-dash on his fellow Americans.\\n\\nWhat many Americans may not realize is how common this is among the country’s top earners, and how much it costs the rest of us. Sixteen years ago, the former I.R.S. commissioner Charles Rossotti estimated that so many wealthy Americans don’t pay their fair share of income taxes that it effectively imposes a 15 percent surtax on the rest of us — that is, on the vast majority of taxpayers who can’t afford the expensive professional advice on which successful tax-avoidance strategies depend.\\n\\nHaving spent the past 13 years studying and writing about these elite professionals who help the ultrarich reduce their tax bills as close to zero as possible, I understand how the game of “creative compliance” is played: They adhere to the letter of the law while violating its spirit. The tax avoidance professionals say, as Mossack Fonseca did after the Panama Papers broke, we complied with the law, so what’s the problem?\\n\\nMany Americans seem to accept this argument. Some even greet news of tax avoidance by the ultrarich with admiration and envy, instead of the anger they would show to someone who skipped out on a group dinner and left them with the bill. Rather than condemning those who take advantage of their society, many Americans say instead: “Good for them! I’d do it myself if I could.” Those attitudes are reflected in our politics and have contributed to our handing over the most powerful elected office in the world to a man who bragged about not paying a dime of federal income tax for years.',\n",
       "    'publishdate': '2020-10-01T00:00:00Z',\n",
       "    'id': 'f9aa8823-7633-4298-b918-d2e4fa49f69a',\n",
       "    '_version_': 1686305304729354240},\n",
       "   {'src': 'https://www.sltrib.com/',\n",
       "    'title': 'Brooke Harrington: Trump’s tax avoidance is a tax on the rest of us',\n",
       "    'publishdate': '2020-10-03T00:00:00Z',\n",
       "    'id': 'a76263f3-a057-46e8-ac5e-e1a0503641f4',\n",
       "    'news': 'We don’t know if Donald Trump’s recent federal income tax returns indicate illegal activity. But even if the $750 income tax bills he paid in each of the first two years of his presidency turn out to have been calculated in compliance with the U.S. Internal Revenue Code, he has enjoyed the benefits of the society we all contribute to build, then skipped out on his share of the bill — a sort of dine-and-dash on his fellow Americans.\\n\\nWhat many Americans may not realize is how common this is among the country’s top earners, and how much it costs the rest of us. Sixteen years ago, the former I.R.S. commissioner Charles Rossotti estimated that so many wealthy Americans don’t pay their fair share of income taxes that it effectively imposes a 15 percent surtax on the rest of us — that is, on the vast majority of taxpayers who can’t afford the expensive professional advice on which successful tax-avoidance strategies depend.\\n\\nHaving spent the past 13 years studying and writing about these elite professionals who help the ultrarich reduce their tax bills as close to zero as possible, I understand how the game of “creative compliance” is played: They adhere to the letter of the law while violating its spirit. The tax avoidance professionals say, as Mossack Fonseca did after the Panama Papers broke, we complied with the law, so what’s the problem?\\n\\nMany Americans seem to accept this argument. Some even greet news of tax avoidance by the ultrarich with admiration and envy, instead of the anger they would show to someone who skipped out on a group dinner and left them with the bill. Rather than condemning those who take advantage of their society, many Americans say instead: “Good for them! I’d do it myself if I could.” Those attitudes are reflected in our politics and have contributed to our handing over the most powerful elected office in the world to a man who bragged about not paying a dime of federal income tax for years.\\n\\nIndifference or praise in response to our president’s low income tax payments is not limited to conservatives who believe taxes are too high in the first place or rich people who believe they end up paying their fair share of taxes; I have seen those reactions from Americans across the political spectrum. In 2012, one of my own colleagues — a supposedly progressive academic sociologist — responded to news that the Republican presidential candidate Mitt Romney paid just a 14 percent tax rate on his multimillion-dollar annual income by saying: “Who cares? He didn’t break any laws.”\\n\\nBut tax avoidance on the scale of Mr. Trump’s is available only to the very wealthiest people in our country, those who can afford to pay specialist attorneys and accountants tens (or hundreds) of thousands of dollars every year. Arguing that tax avoidance like this is a right available to everyone is a bit like pointing out that everyone can vote, if they pay the poll tax. It’s antithetical to democracy and the founding ideals of this country.\\n\\nMost important, these practices make us all poorer, and not because of the effective surcharge we are burdened with when high-earners don’t pay their fair share. Elite tax avoidance means we can’t pay for a government that provides many basics our peer nations take for granted, like nationwide broadband infrastructure. For that matter, we can’t even maintain the crumbling infrastructure we inherited from the Eisenhower era, when 91 percent tax rates on top incomes (combined with low rates of tax avoidance) funded the Interstate System of highways that made the 1950s economic boom possible.\\n\\nPerhaps the consummate irony is that a country whose creation centered on the revolt of ordinary people against tax injustice — the Boston Tea Party — now tolerates paying an involuntary subsidy to support tax avoidance by our highest-paid citizens.\\n\\nAnd as recent research shows, the problem is getting worse. The economists Emmanuel Saez and Gabriel Zucman, have documented a dramatic increase in illegal activity by high-earners seeking to avoid U.S. income tax. Even as tax rates for the top income brackets have come down over the years, this group has roughly doubled its rates of tax evasion (to around 20 to 25 percent).\\n\\nArticle continues below\\n\\nThe surge in tax evasion on top of rampant tax avoidance means the surcharge the rest of us pay to subsidize the rich is probably now far higher than Mr. Rossotti’s 2004 estimate. How can we reverse this trend? One way, as the economists Natasha Sarin and Lawrence Summers reported in a recent paper, is to restore I.R.S. enforcement capacity to 2011 levels. Doing so could, over a decade, yield up to an additional $1 trillion in tax revenue.\\n\\nThis country lionizes those who rebelled against taxation without representation centuries ago, but we have ended up with a system providing ample representation without taxation for our elites, at the expense of the rest of us.',\n",
       "    '_version_': 1686305340546613248},\n",
       "   {'src': 'https://www.wsj.com/news/business',\n",
       "    'title': 'Trump Tax-Return Report Fuels Democrats’ Drive to Tax the Rich',\n",
       "    'news': 'President Trump’s apparently minuscule tax payments are pumping new energy into Democrats’ plans to raise taxes on rich people and beef up the Internal Revenue Service.\\n\\nBut raising tax rates wouldn’t necessarily make the president or others in similar situations pay more, because he reportedly claimed unusually large business losses to lower his taxable income. And Mr. Trump’s tax situation doesn’t automatically yield a list of tax breaks to be eliminated, because he seems to be making aggressive use of common deductions that help many businesses.\\n\\nMr. Trump paid $750 in federal income taxes in 2016 and 2017 and no taxes for many other recent years, according to a report by the New York Times . That result stemmed from money-losing businesses, various tax credits and questionable deductions, according to the Times. The president has derided the report as fake news and says he has paid millions of dollars in taxes, but he has provided no documentation or details. The Times report couldn`t be independently verified, and Republicans are seeking government investigations into the disclosure.\\n\\nThe report put a renewed spotlight and a face on tax avoidance by wealthy people, a problem that can be addressed both by changing the law and by improving enforcement. Former Vice President Joe Biden cited Mr. Trump’s tax payments during Tuesday’s presidential debate as a reason why he’s trying to reverse some of the 2017 tax cuts.\\n\\n“Donald Trump is kind of the new poster child for the need to invest in an IRS that’s going to be capable of capturing high-wealth evasion,” said Natasha Sarin, a University of Pennsylvania professor who has been pushing for more IRS funding.',\n",
       "    'publishdate': '2020-10-01T00:00:00Z',\n",
       "    'id': '73846259-19fa-4015-a9f8-8ba8a63b540e',\n",
       "    '_version_': 1686305301444165633},\n",
       "   {'src': 'https://tucson.com/',\n",
       "    'title': 'Letter: Trump, Taxes and naive thinking',\n",
       "    'news': 'OPINION: Some letter writers touch on the race for president and Senate here in Arizona, but another is a doctor who takes a strong stance against recreational marijuana and Prop. 207. See if you agree, in Letters to the Editor',\n",
       "    'publishdate': '2020-10-15T00:00:00Z',\n",
       "    'id': '808788c9-aa22-423e-afe3-3a7ccbb1d1e6',\n",
       "    '_version_': 1686305566690902030}]}}"
      ]
     },
     "execution_count": 15,
     "metadata": {},
     "output_type": "execute_result"
    }
   ],
   "source": [
    "out1"
   ]
  },
  {
   "cell_type": "markdown",
   "metadata": {},
   "source": [
    "### (2) - Millions and COVID "
   ]
  },
  {
   "cell_type": "code",
   "execution_count": 13,
   "metadata": {},
   "outputs": [],
   "source": [
    "q2j = requests.get(\"http://awesome-hw.sdsc.edu:8983/solr/student-news/select?q=title%3A%22millions%22%20AND%20title%3A%22covid%22%20AND%20title%3A%22deaths%22\")\n",
    "out2 = q2j.json()"
   ]
  },
  {
   "cell_type": "markdown",
   "metadata": {},
   "source": [
    "### (3) - Biden and Trump on Election Day"
   ]
  },
  {
   "cell_type": "code",
   "execution_count": 10,
   "metadata": {},
   "outputs": [],
   "source": [
    "q3j = requests.get(\"http://awesome-hw.sdsc.edu:8983/solr/student-news/select?q=title%3A%22Biden%22%20AND%20title%3A%22Trump%22%20AND%20publishdate%3A%222020-11-03T00%3A00%3A00Z%22\")\n",
    "out3 = q3j.json()"
   ]
  },
  {
   "cell_type": "markdown",
   "metadata": {},
   "source": [
    "## Implementing a Redis Cache"
   ]
  },
  {
   "cell_type": "code",
   "execution_count": 6,
   "metadata": {},
   "outputs": [],
   "source": [
    "def format_response(response):\n",
    "    out = {}\n",
    "    out['title'] = response['title']\n",
    "    out['publishdate'] = response['publishdate']\n",
    "    return out"
   ]
  },
  {
   "cell_type": "markdown",
   "metadata": {},
   "source": [
    "### Query 1"
   ]
  },
  {
   "cell_type": "code",
   "execution_count": 19,
   "metadata": {},
   "outputs": [],
   "source": [
    "r1 = redis.Redis(host='my-redis', port=6379, db=0)"
   ]
  },
  {
   "cell_type": "code",
   "execution_count": 20,
   "metadata": {
    "scrolled": true
   },
   "outputs": [
    {
     "data": {
      "text/plain": [
       "[{'title': 'Opinion | Trump’s Tax Avoidance Is a Tax on the Rest of Us',\n",
       "  'publishdate': '2020-10-01T00:00:00Z'},\n",
       " {'title': 'Opinion | Trump’s Tax Avoidance Is a Tax on the Rest of Us',\n",
       "  'publishdate': '2020-10-01T00:00:00Z'},\n",
       " {'title': 'Opinion | Trump’s Tax Avoidance Is a Tax on the Rest of Us',\n",
       "  'publishdate': '2020-10-01T00:00:00Z'},\n",
       " {'title': 'Opinion | Trump’s Tax Avoidance Is a Tax on the Rest of Us',\n",
       "  'publishdate': '2020-10-01T00:00:00Z'},\n",
       " {'title': 'Opinion | Trump’s Tax Avoidance Is a Tax on the Rest of Us',\n",
       "  'publishdate': '2020-10-01T00:00:00Z'},\n",
       " {'title': 'Opinion | Trump’s Tax Avoidance Is a Tax on the Rest of Us',\n",
       "  'publishdate': '2020-10-01T00:00:00Z'},\n",
       " {'title': 'Opinion | Trump’s Tax Avoidance Is a Tax on the Rest of Us',\n",
       "  'publishdate': '2020-10-01T00:00:00Z'},\n",
       " {'title': 'Brooke Harrington: Trump’s tax avoidance is a tax on the rest of us',\n",
       "  'publishdate': '2020-10-03T00:00:00Z'},\n",
       " {'title': 'Trump Tax-Return Report Fuels Democrats’ Drive to Tax the Rich',\n",
       "  'publishdate': '2020-10-01T00:00:00Z'},\n",
       " {'title': 'Letter: Trump, Taxes and naive thinking',\n",
       "  'publishdate': '2020-10-15T00:00:00Z'}]"
      ]
     },
     "execution_count": 20,
     "metadata": {},
     "output_type": "execute_result"
    }
   ],
   "source": [
    "output1 = list(map(format_response, out1['response']['docs']))\n",
    "output1"
   ]
  },
  {
   "cell_type": "code",
   "execution_count": 33,
   "metadata": {},
   "outputs": [],
   "source": [
    "for out in output1:\n",
    "    r1.append(out['publishdate'], out['title'])"
   ]
  },
  {
   "cell_type": "code",
   "execution_count": 34,
   "metadata": {},
   "outputs": [
    {
     "data": {
      "text/plain": [
       "[b'Opinion | Trump\\xe2\\x80\\x99s Tax Avoidance Is a Tax on the Rest of UsOpinion | Trump\\xe2\\x80\\x99s Tax Avoidance Is a Tax on the Rest of UsOpinion | Trump\\xe2\\x80\\x99s Tax Avoidance Is a Tax on the Rest of UsOpinion | Trump\\xe2\\x80\\x99s Tax Avoidance Is a Tax on the Rest of UsOpinion | Trump\\xe2\\x80\\x99s Tax Avoidance Is a Tax on the Rest of UsOpinion | Trump\\xe2\\x80\\x99s Tax Avoidance Is a Tax on the Rest of UsOpinion | Trump\\xe2\\x80\\x99s Tax Avoidance Is a Tax on the Rest of UsTrump Tax-Return Report Fuels Democrats\\xe2\\x80\\x99 Drive to Tax the RichOpinion | Trump\\xe2\\x80\\x99s Tax Avoidance Is a Tax on the Rest of UsOpinion | Trump\\xe2\\x80\\x99s Tax Avoidance Is a Tax on the Rest of UsOpinion | Trump\\xe2\\x80\\x99s Tax Avoidance Is a Tax on the Rest of UsOpinion | Trump\\xe2\\x80\\x99s Tax Avoidance Is a Tax on the Rest of UsOpinion | Trump\\xe2\\x80\\x99s Tax Avoidance Is a Tax on the Rest of UsOpinion | Trump\\xe2\\x80\\x99s Tax Avoidance Is a Tax on the Rest of UsOpinion | Trump\\xe2\\x80\\x99s Tax Avoidance Is a Tax on the Rest of UsTrump Tax-Return Report Fuels Democrats\\xe2\\x80\\x99 Drive to Tax the Rich']"
      ]
     },
     "execution_count": 34,
     "metadata": {},
     "output_type": "execute_result"
    }
   ],
   "source": [
    "pipe = r1.pipeline()\n",
    "pipe.get('2020-10-01T00:00:00Z')\n",
    "pipe.execute()"
   ]
  },
  {
   "cell_type": "markdown",
   "metadata": {},
   "source": [
    "### Query 2"
   ]
  },
  {
   "cell_type": "code",
   "execution_count": 36,
   "metadata": {},
   "outputs": [],
   "source": [
    "r2 = redis.Redis(host='my-redis', port=6379, db=0)"
   ]
  },
  {
   "cell_type": "code",
   "execution_count": 35,
   "metadata": {},
   "outputs": [
    {
     "data": {
      "text/plain": [
       "[{'title': 'Coronavirus tally: Global cases of COVID-19 35.5 million, 1.04 million deaths and U.S. death toll tops 210,000',\n",
       "  'publishdate': '2020-10-06T00:00:00Z'},\n",
       " {'title': 'Coronavirus tally: Global cases of COVID-19 34.7 million, 1.03 million deaths and U.S. death toll nears 209,000',\n",
       "  'publishdate': '2020-10-03T00:00:00Z'},\n",
       " {'title': 'Coronavirus tally: Global cases of COVID-19 38.2 million, 1.09 million deaths and U.S. death tolls nears 216,000',\n",
       "  'publishdate': '2020-10-14T00:00:00Z'},\n",
       " {'title': 'Coronavirus tally: Global cases of COVID-19 40.4 million, 1.1 million deaths and U.S. death toll tops 220,000',\n",
       "  'publishdate': '2020-10-20T00:00:00Z'},\n",
       " {'title': 'Coronavirus tally: Global cases of COVID-19 40.8 million, 1.13 million deaths and U.S. death toll tops 221,000',\n",
       "  'publishdate': '2020-10-21T00:00:00Z'},\n",
       " {'title': 'Coronavirus tally: Global cases of COVID-19 41.28 million, 1.13 million deaths and U.S. death toll tops 222,000',\n",
       "  'publishdate': '2020-10-22T00:00:00Z'},\n",
       " {'title': 'Coronavirus tally: Global cases of COVID-19 top 34.3 million, 1.02 million deaths and U.S. death toll tops 207,000',\n",
       "  'publishdate': '2020-10-02T00:00:00Z'},\n",
       " {'title': 'Coronavirus tally: Global cases of COVID-19 38.9 million, 1.09 million deaths and U.S. nears 8 million cases',\n",
       "  'publishdate': '2020-10-16T00:00:00Z'},\n",
       " {'title': 'Texas surpasses 1 million COVID-19 cases, nears 20,000 deaths',\n",
       "  'publishdate': '2020-11-14T00:00:00Z'},\n",
       " {'title': 'Texas surpasses 1 million COVID-19 cases, nears 20,000 deaths',\n",
       "  'publishdate': '2020-11-14T00:00:00Z'}]"
      ]
     },
     "execution_count": 35,
     "metadata": {},
     "output_type": "execute_result"
    }
   ],
   "source": [
    "output2 = list(map(format_response, out2['response']['docs']))\n",
    "output2"
   ]
  },
  {
   "cell_type": "code",
   "execution_count": 42,
   "metadata": {},
   "outputs": [],
   "source": [
    "for out in output2:\n",
    "    r2.append(out['publishdate'], out['title'])"
   ]
  },
  {
   "cell_type": "code",
   "execution_count": 43,
   "metadata": {},
   "outputs": [
    {
     "data": {
      "text/plain": [
       "[b'Coronavirus tally: Global cases of COVID-19 38.9 million, 1.09 million deaths and U.S. nears 8 million cases']"
      ]
     },
     "execution_count": 43,
     "metadata": {},
     "output_type": "execute_result"
    }
   ],
   "source": [
    "pipe = r2.pipeline()\n",
    "pipe.get('2020-10-16T00:00:00Z')\n",
    "pipe.execute()\n"
   ]
  },
  {
   "cell_type": "markdown",
   "metadata": {},
   "source": [
    "### Query 3"
   ]
  },
  {
   "cell_type": "code",
   "execution_count": 44,
   "metadata": {},
   "outputs": [],
   "source": [
    "r3 = redis.Redis(host='my-redis', port=6379, db=0)"
   ]
  },
  {
   "cell_type": "code",
   "execution_count": 45,
   "metadata": {
    "scrolled": true
   },
   "outputs": [
    {
     "data": {
      "text/plain": [
       "[{'title': 'PA: Biden 49% Trump 43%', 'publishdate': '2020-11-03T00:00:00Z'},\n",
       " {'title': 'TX: Trump 50% Biden 46%', 'publishdate': '2020-11-03T00:00:00Z'},\n",
       " {'title': 'MT: Trump 50% Biden 46%', 'publishdate': '2020-11-03T00:00:00Z'},\n",
       " {'title': 'WI: Biden 50% Trump 44%', 'publishdate': '2020-11-03T00:00:00Z'},\n",
       " {'title': 'A nation on edge, Biden and Trump race to the finish',\n",
       "  'publishdate': '2020-11-03T00:00:00Z'},\n",
       " {'title': 'Last day: Trump rails, Biden pushes',\n",
       "  'publishdate': '2020-11-03T00:00:00Z'},\n",
       " {'title': 'Last day: Trump rails, Biden pushes',\n",
       "  'publishdate': '2020-11-03T00:00:00Z'},\n",
       " {'title': 'In 2020 finale, Trump combative, Biden on offense',\n",
       "  'publishdate': '2020-11-03T00:00:00Z'},\n",
       " {'title': 'In 2020 finale, Trump combative, Biden on offense',\n",
       "  'publishdate': '2020-11-03T00:00:00Z'},\n",
       " {'title': 'North Carolina: Biden 48% Trump 47%',\n",
       "  'publishdate': '2020-11-03T00:00:00Z'}]"
      ]
     },
     "execution_count": 45,
     "metadata": {},
     "output_type": "execute_result"
    }
   ],
   "source": [
    "output3 = list(map(format_response, out3['response']['docs']))\n",
    "output3"
   ]
  },
  {
   "cell_type": "code",
   "execution_count": 46,
   "metadata": {},
   "outputs": [],
   "source": [
    "for out in output3:\n",
    "    r3.append(out['publishdate'], out['title'])"
   ]
  },
  {
   "cell_type": "code",
   "execution_count": 47,
   "metadata": {},
   "outputs": [
    {
     "data": {
      "text/plain": [
       "[b'PA: Biden 49% Trump 43%TX: Trump 50% Biden 46%MT: Trump 50% Biden 46%WI: Biden 50% Trump 44%A nation on edge, Biden and Trump race to the finishLast day: Trump rails, Biden pushesLast day: Trump rails, Biden pushesIn 2020 finale, Trump combative, Biden on offenseIn 2020 finale, Trump combative, Biden on offenseNorth Carolina: Biden 48% Trump 47%']"
      ]
     },
     "execution_count": 47,
     "metadata": {},
     "output_type": "execute_result"
    }
   ],
   "source": [
    "pipe = r3.pipeline()\n",
    "pipe.get('2020-11-03T00:00:00Z')\n",
    "pipe.execute()"
   ]
  }
 ],
 "metadata": {
  "kernelspec": {
   "display_name": "Python 3",
   "language": "python",
   "name": "python3"
  },
  "language_info": {
   "codemirror_mode": {
    "name": "ipython",
    "version": 3
   },
   "file_extension": ".py",
   "mimetype": "text/x-python",
   "name": "python",
   "nbconvert_exporter": "python",
   "pygments_lexer": "ipython3",
   "version": "3.6.2"
  }
 },
 "nbformat": 4,
 "nbformat_minor": 4
}
