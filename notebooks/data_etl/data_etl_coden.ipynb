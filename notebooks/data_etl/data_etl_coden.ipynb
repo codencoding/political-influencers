{
 "cells": [
  {
   "cell_type": "markdown",
   "metadata": {},
   "source": [
    "# Political Influencers"
   ]
  },
  {
   "cell_type": "markdown",
   "metadata": {},
   "source": [
    "A look at how connected legislators are with one another when posting tweets to twitter."
   ]
  },
  {
   "cell_type": "markdown",
   "metadata": {},
   "source": [
    "***"
   ]
  },
  {
   "cell_type": "code",
   "execution_count": 1,
   "metadata": {},
   "outputs": [],
   "source": [
    "import pandas as pd\n",
    "import numpy as np\n",
    "import json\n",
    "import sys\n",
    "import os"
   ]
  },
  {
   "cell_type": "code",
   "execution_count": 2,
   "metadata": {},
   "outputs": [],
   "source": [
    "ROOT_DIR = \"../../\""
   ]
  },
  {
   "cell_type": "code",
   "execution_count": 3,
   "metadata": {},
   "outputs": [],
   "source": [
    "# # Load config file\n",
    "# ROOT_DIR = \"../../\"\n",
    "# cfg = json.load(open(ROOT_DIR + \"config/cfg.json\"))\n",
    "# cfg[\"ROOT_DIR\"] = ROOT_DIR"
   ]
  },
  {
   "cell_type": "code",
   "execution_count": 4,
   "metadata": {},
   "outputs": [],
   "source": [
    "# Load utils\n",
    "sys.path.insert(0, os.path.abspath(ROOT_DIR + \"/src\"))\n",
    "from utils import *"
   ]
  },
  {
   "cell_type": "markdown",
   "metadata": {},
   "source": [
    "## Look at data"
   ]
  },
  {
   "cell_type": "code",
   "execution_count": 5,
   "metadata": {},
   "outputs": [],
   "source": [
    "data_dir = ROOT_DIR + \"data/\"\n",
    "\n",
    "legislators_fname = data_dir + \"legislators-current.csv\"\n",
    "newspaper_fname = data_dir + \"usnewspaperSample.tsv\"\n",
    "\n",
    "# Likely won't need users data, tweets data contains sufficient info to compensate\n",
    "users_fname = data_dir + \"users.json\"\n",
    "tweets_fname = data_dir + \"tweets.json\""
   ]
  },
  {
   "cell_type": "code",
   "execution_count": 6,
   "metadata": {
    "scrolled": true
   },
   "outputs": [
    {
     "name": "stdout",
     "output_type": "stream",
     "text": [
      "Column name                        Type           Sample\n",
      "------------------------------------------------------------\n",
      "last_name--------------------------object---------Stabenow\n",
      "first_name-------------------------object---------Debbie\n",
      "middle_name------------------------object---------Ann\n",
      "suffix-----------------------------object---------nan\n",
      "nickname---------------------------object---------nan\n",
      "full_name--------------------------object---------Debbie Stabenow\n",
      "birthday---------------------------object---------1950-04-29\n",
      "gender-----------------------------object---------F\n",
      "type-------------------------------object---------sen\n",
      "state------------------------------object---------MI\n",
      "district---------------------------float64--------nan\n",
      "senate_class-----------------------int64----------1\n",
      "party------------------------------object---------Democrat\n",
      "url--------------------------------object---------https://www.stabenow.senate.gov\n",
      "address----------------------------object---------731 Hart Senate Office Building Washington DC 20\n",
      "phone------------------------------object---------202-224-4822\n",
      "contact_form-----------------------object---------https://www.stabenow.senate.gov/contact\n",
      "rss_url----------------------------object---------http://stabenow.senate.gov/rss/?p=news\n",
      "twitter----------------------------object---------SenStabenow\n",
      "facebook---------------------------object---------SenatorStabenow\n",
      "youtube----------------------------object---------senatorstabenow\n",
      "youtube_id-------------------------object---------UCFoDKCvxSwCUfDv-4Eg4K5A\n",
      "bioguide_id------------------------object---------S000770\n",
      "thomas_id--------------------------int64----------1531\n",
      "opensecrets_id---------------------object---------N00004118\n",
      "lis_id-----------------------------object---------S284\n",
      "fec_ids----------------------------object---------S8MI00281,H6MI08163\n",
      "cspan_id---------------------------int64----------45451\n",
      "govtrack_id------------------------int64----------300093\n",
      "votesmart_id-----------------------int64----------515\n",
      "ballotpedia_id---------------------object---------Debbie Stabenow\n",
      "washington_post_id-----------------float64--------nan\n",
      "icpsr_id---------------------------int64----------29732\n",
      "wikipedia_id-----------------------object---------Debbie Stabenow\n"
     ]
    }
   ],
   "source": [
    "explore_data(legislators_fname)"
   ]
  },
  {
   "cell_type": "code",
   "execution_count": 7,
   "metadata": {
    "scrolled": true
   },
   "outputs": [
    {
     "name": "stdout",
     "output_type": "stream",
     "text": [
      "Column name                        Type           Sample\n",
      "------------------------------------------------------------\n",
      "id---------------------------------int64----------4230319\n",
      "publishdate------------------------object---------2020-09-08\n",
      "title------------------------------object--------- As Brexit Deadlines Loom, the Posturing and Bic\n",
      "news-------------------------------object---------LONDON — Bellicose threats to walk away from the\n"
     ]
    }
   ],
   "source": [
    "explore_data(newspaper_fname)"
   ]
  },
  {
   "cell_type": "code",
   "execution_count": 8,
   "metadata": {
    "scrolled": true
   },
   "outputs": [
    {
     "name": "stdout",
     "output_type": "stream",
     "text": [
      "Column name                        Type           Sample\n",
      "------------------------------------------------------------\n",
      "contributors_enabled---------------bool-----------False\n",
      "created_at-------------------------datetime64[ns]-2009-04-10 13:38:03\n",
      "default_profile--------------------bool-----------False\n",
      "default_profile_image--------------bool-----------False\n",
      "description------------------------object---------Proudly serving California's San Fernando Valley\n",
      "entities---------------------------object---------{'description': {'urls': []}, 'url': {'urls': [{'display_url': 'BradSherman.house.gov', 'expanded_url': 'http://BradSherman.house.gov', 'indices': [0, 23], 'url': 'https://t.co/SyFUwfPtR8'}]}}\n",
      "favourites_count-------------------int64----------0\n",
      "follow_request_sent----------------bool-----------False\n",
      "followers_count--------------------int64----------23126\n",
      "following--------------------------bool-----------False\n",
      "friends_count----------------------int64----------512\n",
      "geo_enabled------------------------bool-----------False\n",
      "has_extended_profile---------------bool-----------False\n",
      "id---------------------------------int64----------30216513\n",
      "id_str-----------------------------int64----------30216513\n",
      "is_translation_enabled-------------bool-----------False\n",
      "is_translator----------------------bool-----------False\n",
      "lang-------------------------------object---------en\n",
      "listed_count-----------------------int64----------912\n",
      "location---------------------------object---------Sherman Oaks, CA\n",
      "name-------------------------------object---------Rep. Brad Sherman\n",
      "notifications----------------------bool-----------False\n",
      "profile_background_color-----------object---------022330\n",
      "profile_background_image_url-------object---------http://abs.twimg.com/images/themes/theme15/bg.pn\n",
      "profile_background_image_url_https-object---------https://abs.twimg.com/images/themes/theme15/bg.p\n",
      "profile_background_tile------------bool-----------False\n",
      "profile_banner_url-----------------object---------https://pbs.twimg.com/profile_banners/30216513/1\n",
      "profile_image_url------------------object---------http://pbs.twimg.com/profile_images/131821361/Re\n",
      "profile_image_url_https------------object---------https://pbs.twimg.com/profile_images/131821361/R\n",
      "profile_link_color-----------------object---------1B95E0\n",
      "profile_sidebar_border_color-------object---------A8C7F7\n",
      "profile_sidebar_fill_color---------object---------C0DFEC\n",
      "profile_text_color-----------------object---------333333\n",
      "profile_use_background_image-------bool-----------False\n",
      "protected--------------------------bool-----------False\n",
      "screen_name------------------------object---------BradSherman\n",
      "statuses_count---------------------int64----------1117\n",
      "time_zone--------------------------object---------Pacific Time (US & Canada)\n",
      "translator_type--------------------object---------none\n",
      "url--------------------------------object---------https://t.co/SyFUwfPtR8\n",
      "utc_offset-------------------------float64---------25200.0\n",
      "verified---------------------------bool-----------True\n"
     ]
    }
   ],
   "source": [
    "explore_data(users_fname)"
   ]
  },
  {
   "cell_type": "code",
   "execution_count": 9,
   "metadata": {
    "scrolled": true
   },
   "outputs": [
    {
     "name": "stdout",
     "output_type": "stream",
     "text": [
      "Column name                        Type           Sample\n",
      "------------------------------------------------------------\n",
      "contributors-----------------------float64--------nan\n",
      "coordinates------------------------float64--------nan\n",
      "created_at-------------------------datetime64[ns]-2008-08-28 18:38:20\n",
      "display_text_range-----------------object---------[0, 80]\n",
      "entities---------------------------object---------{'hashtags': [], 'symbols': [], 'urls': [], 'user_mentions': []}\n",
      "favorite_count---------------------int64----------0\n",
      "favorited--------------------------bool-----------False\n",
      "geo--------------------------------float64--------nan\n",
      "id---------------------------------int64----------901977122\n",
      "id_str-----------------------------int64----------901977122\n",
      "in_reply_to_screen_name------------float64--------nan\n",
      "in_reply_to_status_id--------------float64--------nan\n",
      "in_reply_to_status_id_str----------float64--------nan\n",
      "in_reply_to_user_id----------------float64--------nan\n",
      "in_reply_to_user_id_str------------float64--------nan\n",
      "is_quote_status--------------------bool-----------False\n",
      "lang-------------------------------object---------en\n",
      "place------------------------------float64--------nan\n",
      "retweet_count----------------------int64----------0\n",
      "retweeted--------------------------bool-----------False\n",
      "screen_name------------------------object---------JohnBoozman\n",
      "source-----------------------------object---------<a href=\"http://twitter.com\" rel=\"nofollow\">Twit\n",
      "text-------------------------------object---------Listening to constituents at a roundtable discus\n",
      "truncated--------------------------bool-----------False\n",
      "user_id----------------------------int64----------5558312\n"
     ]
    }
   ],
   "source": [
    "explore_data(tweets_fname)"
   ]
  },
  {
   "cell_type": "markdown",
   "metadata": {},
   "source": [
    "***"
   ]
  },
  {
   "cell_type": "markdown",
   "metadata": {},
   "source": [
    "# v0.1"
   ]
  },
  {
   "cell_type": "markdown",
   "metadata": {},
   "source": [
    "## Create jupyter notebook for retrieving twitter handles from legislators\n",
    "[Issue](https://github.com/codencoding/political-influencers/issues/1)"
   ]
  },
  {
   "cell_type": "code",
   "execution_count": 6,
   "metadata": {},
   "outputs": [],
   "source": [
    "legis_df = pd.read_csv(legislators_fname)"
   ]
  },
  {
   "cell_type": "code",
   "execution_count": 7,
   "metadata": {},
   "outputs": [
    {
     "data": {
      "text/plain": [
       "0      SenSherrodBrown\n",
       "1      SenatorCantwell\n",
       "2        SenatorCardin\n",
       "3        SenatorCarper\n",
       "4          SenBobCasey\n",
       "            ...       \n",
       "532    SenatorLoeffler\n",
       "533                NaN\n",
       "534                NaN\n",
       "535                NaN\n",
       "536                NaN\n",
       "Name: twitter, Length: 537, dtype: object"
      ]
     },
     "execution_count": 7,
     "metadata": {},
     "output_type": "execute_result"
    }
   ],
   "source": [
    "legis_df.twitter"
   ]
  },
  {
   "cell_type": "code",
   "execution_count": 8,
   "metadata": {},
   "outputs": [
    {
     "name": "stdout",
     "output_type": "stream",
     "text": [
      "2.235% of legislator twitter handles are na.\n"
     ]
    }
   ],
   "source": [
    "na_perc = legis_df.twitter.isna().sum() / legis_df.shape[0] * 100\n",
    "print(f\"{round(na_perc, 3)}% of legislator twitter handles are na.\")"
   ]
  },
  {
   "cell_type": "markdown",
   "metadata": {},
   "source": [
    "### Load tweets"
   ]
  },
  {
   "cell_type": "code",
   "execution_count": 28,
   "metadata": {
    "scrolled": true
   },
   "outputs": [],
   "source": [
    "tweet_df = pd.read_json(tweets_fname, lines=True, nrows=10000)"
   ]
  },
  {
   "cell_type": "markdown",
   "metadata": {},
   "source": [
    "### Fetch unique twitter handles from tweets dataset"
   ]
  },
  {
   "cell_type": "code",
   "execution_count": 68,
   "metadata": {},
   "outputs": [],
   "source": [
    "unique_handles = set()\n",
    "for chunk in pd.read_json(tweets_fname, lines=True, chunksize=10000):\n",
    "    unique_handles = unique_handles.union(chunk.screen_name.unique())"
   ]
  },
  {
   "cell_type": "code",
   "execution_count": 80,
   "metadata": {},
   "outputs": [
    {
     "data": {
      "text/plain": [
       "0.5661080074487895"
      ]
     },
     "execution_count": 80,
     "metadata": {},
     "output_type": "execute_result"
    }
   ],
   "source": [
    "sum([sname in unique_handles for sname in legis_df.twitter.unique()]) / legis_df.shape[0]"
   ]
  },
  {
   "cell_type": "markdown",
   "metadata": {},
   "source": [
    "`\n",
    "!!! Only 56% of legislators are present in the tweets dataset !!!\n",
    "`"
   ]
  },
  {
   "cell_type": "markdown",
   "metadata": {},
   "source": [
    "## Create a legislator schema for neo4j\n",
    "[Issue](https://github.com/codencoding/political-influencers/issues/2)"
   ]
  },
  {
   "cell_type": "markdown",
   "metadata": {},
   "source": [
    "### Schema\n",
    "\n",
    "- tweets and legislator datasets join on tweets.screen_name and legislator.twitter\n",
    "- Extract entities, in_reply_to_screen_name, created_at, and text columns from the matched tweets rows"
   ]
  },
  {
   "cell_type": "markdown",
   "metadata": {},
   "source": [
    "### Join legislators and tweets via SQL\n",
    "`\n",
    "SELECT entities, in_reply_to_screen_name, text, created_at\n",
    "FROM tweets AS tw\n",
    "RIGHT JOIN legislators AS lg\n",
    "ON tw.screen_name = lg.twitter\n",
    "`"
   ]
  }
 ],
 "metadata": {
  "kernelspec": {
   "display_name": "Python 3",
   "language": "python",
   "name": "python3"
  },
  "language_info": {
   "codemirror_mode": {
    "name": "ipython",
    "version": 3
   },
   "file_extension": ".py",
   "mimetype": "text/x-python",
   "name": "python",
   "nbconvert_exporter": "python",
   "pygments_lexer": "ipython3",
   "version": "3.6.2"
  }
 },
 "nbformat": 4,
 "nbformat_minor": 2
}
