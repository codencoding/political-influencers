{
 "cells": [
  {
   "cell_type": "markdown",
   "metadata": {},
   "source": [
    "# Political Influencers"
   ]
  },
  {
   "cell_type": "markdown",
   "metadata": {},
   "source": [
    "A look at how connected legislators are with one another when posting tweets to twitter."
   ]
  },
  {
   "cell_type": "markdown",
   "metadata": {},
   "source": [
    "***"
   ]
  },
  {
   "cell_type": "code",
   "execution_count": 1,
   "metadata": {},
   "outputs": [],
   "source": [
    "import pandas as pd\n",
    "import numpy as np\n",
    "import json\n",
    "import sys\n",
    "import os"
   ]
  },
  {
   "cell_type": "code",
   "execution_count": 2,
   "metadata": {},
   "outputs": [],
   "source": [
    "ROOT_DIR = \"../../\""
   ]
  },
  {
   "cell_type": "code",
   "execution_count": 4,
   "metadata": {},
   "outputs": [],
   "source": [
    "# Load utils\n",
    "sys.path.insert(0, os.path.abspath(ROOT_DIR + \"/src\"))\n",
    "from utils import *"
   ]
  },
  {
   "cell_type": "markdown",
   "metadata": {},
   "source": [
    "## Look at data"
   ]
  },
  {
   "cell_type": "code",
   "execution_count": 5,
   "metadata": {},
   "outputs": [],
   "source": [
    "DATA_DIR = ROOT_DIR + \"data/\"\n",
    "\n",
    "legislators_fname = DATA_DIR + \"legislators-current.csv\"\n",
    "newspaper_fname = DATA_DIR + \"usnewspaperSample.tsv\"\n",
    "\n",
    "# Likely won't need users data, tweets data contains sufficient info to compensate\n",
    "users_fname = DATA_DIR + \"users.json\"\n",
    "tweets_fname = DATA_DIR + \"tweets.json\""
   ]
  },
  {
   "cell_type": "code",
   "execution_count": 6,
   "metadata": {
    "scrolled": true
   },
   "outputs": [
    {
     "name": "stdout",
     "output_type": "stream",
     "text": [
      "Column name                        Type           Sample\n",
      "------------------------------------------------------------\n",
      "last_name--------------------------object---------Stabenow\n",
      "first_name-------------------------object---------Debbie\n",
      "middle_name------------------------object---------Ann\n",
      "suffix-----------------------------object---------nan\n",
      "nickname---------------------------object---------nan\n",
      "full_name--------------------------object---------Debbie Stabenow\n",
      "birthday---------------------------object---------1950-04-29\n",
      "gender-----------------------------object---------F\n",
      "type-------------------------------object---------sen\n",
      "state------------------------------object---------MI\n",
      "district---------------------------float64--------nan\n",
      "senate_class-----------------------int64----------1\n",
      "party------------------------------object---------Democrat\n",
      "url--------------------------------object---------https://www.stabenow.senate.gov\n",
      "address----------------------------object---------731 Hart Senate Office Building Washington DC 20\n",
      "phone------------------------------object---------202-224-4822\n",
      "contact_form-----------------------object---------https://www.stabenow.senate.gov/contact\n",
      "rss_url----------------------------object---------http://stabenow.senate.gov/rss/?p=news\n",
      "twitter----------------------------object---------SenStabenow\n",
      "facebook---------------------------object---------SenatorStabenow\n",
      "youtube----------------------------object---------senatorstabenow\n",
      "youtube_id-------------------------object---------UCFoDKCvxSwCUfDv-4Eg4K5A\n",
      "bioguide_id------------------------object---------S000770\n",
      "thomas_id--------------------------int64----------1531\n",
      "opensecrets_id---------------------object---------N00004118\n",
      "lis_id-----------------------------object---------S284\n",
      "fec_ids----------------------------object---------S8MI00281,H6MI08163\n",
      "cspan_id---------------------------int64----------45451\n",
      "govtrack_id------------------------int64----------300093\n",
      "votesmart_id-----------------------int64----------515\n",
      "ballotpedia_id---------------------object---------Debbie Stabenow\n",
      "washington_post_id-----------------float64--------nan\n",
      "icpsr_id---------------------------int64----------29732\n",
      "wikipedia_id-----------------------object---------Debbie Stabenow\n"
     ]
    }
   ],
   "source": [
    "explore_data(legislators_fname)"
   ]
  },
  {
   "cell_type": "code",
   "execution_count": 7,
   "metadata": {
    "scrolled": true
   },
   "outputs": [
    {
     "name": "stdout",
     "output_type": "stream",
     "text": [
      "Column name                        Type           Sample\n",
      "------------------------------------------------------------\n",
      "id---------------------------------int64----------4230319\n",
      "publishdate------------------------object---------2020-09-08\n",
      "title------------------------------object--------- As Brexit Deadlines Loom, the Posturing and Bic\n",
      "news-------------------------------object---------LONDON — Bellicose threats to walk away from the\n"
     ]
    }
   ],
   "source": [
    "explore_data(newspaper_fname)"
   ]
  },
  {
   "cell_type": "code",
   "execution_count": 8,
   "metadata": {
    "scrolled": true
   },
   "outputs": [
    {
     "name": "stdout",
     "output_type": "stream",
     "text": [
      "Column name                        Type           Sample\n",
      "------------------------------------------------------------\n",
      "contributors_enabled---------------bool-----------False\n",
      "created_at-------------------------datetime64[ns]-2009-04-10 13:38:03\n",
      "default_profile--------------------bool-----------False\n",
      "default_profile_image--------------bool-----------False\n",
      "description------------------------object---------Proudly serving California's San Fernando Valley\n",
      "entities---------------------------object---------{'description': {'urls': []}, 'url': {'urls': [{'display_url': 'BradSherman.house.gov', 'expanded_url': 'http://BradSherman.house.gov', 'indices': [0, 23], 'url': 'https://t.co/SyFUwfPtR8'}]}}\n",
      "favourites_count-------------------int64----------0\n",
      "follow_request_sent----------------bool-----------False\n",
      "followers_count--------------------int64----------23126\n",
      "following--------------------------bool-----------False\n",
      "friends_count----------------------int64----------512\n",
      "geo_enabled------------------------bool-----------False\n",
      "has_extended_profile---------------bool-----------False\n",
      "id---------------------------------int64----------30216513\n",
      "id_str-----------------------------int64----------30216513\n",
      "is_translation_enabled-------------bool-----------False\n",
      "is_translator----------------------bool-----------False\n",
      "lang-------------------------------object---------en\n",
      "listed_count-----------------------int64----------912\n",
      "location---------------------------object---------Sherman Oaks, CA\n",
      "name-------------------------------object---------Rep. Brad Sherman\n",
      "notifications----------------------bool-----------False\n",
      "profile_background_color-----------object---------022330\n",
      "profile_background_image_url-------object---------http://abs.twimg.com/images/themes/theme15/bg.pn\n",
      "profile_background_image_url_https-object---------https://abs.twimg.com/images/themes/theme15/bg.p\n",
      "profile_background_tile------------bool-----------False\n",
      "profile_banner_url-----------------object---------https://pbs.twimg.com/profile_banners/30216513/1\n",
      "profile_image_url------------------object---------http://pbs.twimg.com/profile_images/131821361/Re\n",
      "profile_image_url_https------------object---------https://pbs.twimg.com/profile_images/131821361/R\n",
      "profile_link_color-----------------object---------1B95E0\n",
      "profile_sidebar_border_color-------object---------A8C7F7\n",
      "profile_sidebar_fill_color---------object---------C0DFEC\n",
      "profile_text_color-----------------object---------333333\n",
      "profile_use_background_image-------bool-----------False\n",
      "protected--------------------------bool-----------False\n",
      "screen_name------------------------object---------BradSherman\n",
      "statuses_count---------------------int64----------1117\n",
      "time_zone--------------------------object---------Pacific Time (US & Canada)\n",
      "translator_type--------------------object---------none\n",
      "url--------------------------------object---------https://t.co/SyFUwfPtR8\n",
      "utc_offset-------------------------float64---------25200.0\n",
      "verified---------------------------bool-----------True\n"
     ]
    }
   ],
   "source": [
    "explore_data(users_fname)"
   ]
  },
  {
   "cell_type": "code",
   "execution_count": 9,
   "metadata": {
    "scrolled": true
   },
   "outputs": [
    {
     "name": "stdout",
     "output_type": "stream",
     "text": [
      "Column name                        Type           Sample\n",
      "------------------------------------------------------------\n",
      "contributors-----------------------float64--------nan\n",
      "coordinates------------------------float64--------nan\n",
      "created_at-------------------------datetime64[ns]-2008-08-28 18:38:20\n",
      "display_text_range-----------------object---------[0, 80]\n",
      "entities---------------------------object---------{'hashtags': [], 'symbols': [], 'urls': [], 'user_mentions': []}\n",
      "favorite_count---------------------int64----------0\n",
      "favorited--------------------------bool-----------False\n",
      "geo--------------------------------float64--------nan\n",
      "id---------------------------------int64----------901977122\n",
      "id_str-----------------------------int64----------901977122\n",
      "in_reply_to_screen_name------------float64--------nan\n",
      "in_reply_to_status_id--------------float64--------nan\n",
      "in_reply_to_status_id_str----------float64--------nan\n",
      "in_reply_to_user_id----------------float64--------nan\n",
      "in_reply_to_user_id_str------------float64--------nan\n",
      "is_quote_status--------------------bool-----------False\n",
      "lang-------------------------------object---------en\n",
      "place------------------------------float64--------nan\n",
      "retweet_count----------------------int64----------0\n",
      "retweeted--------------------------bool-----------False\n",
      "screen_name------------------------object---------JohnBoozman\n",
      "source-----------------------------object---------<a href=\"http://twitter.com\" rel=\"nofollow\">Twit\n",
      "text-------------------------------object---------Listening to constituents at a roundtable discus\n",
      "truncated--------------------------bool-----------False\n",
      "user_id----------------------------int64----------5558312\n"
     ]
    }
   ],
   "source": [
    "explore_data(tweets_fname)"
   ]
  },
  {
   "cell_type": "markdown",
   "metadata": {},
   "source": [
    "***"
   ]
  },
  {
   "cell_type": "markdown",
   "metadata": {},
   "source": [
    "# v0.1"
   ]
  },
  {
   "cell_type": "markdown",
   "metadata": {},
   "source": [
    "## Create jupyter notebook for retrieving twitter handles from legislators\n",
    "[Issue](https://github.com/codencoding/political-influencers/issues/1)"
   ]
  },
  {
   "cell_type": "code",
   "execution_count": 6,
   "metadata": {},
   "outputs": [],
   "source": [
    "legis_df = pd.read_csv(legislators_fname)"
   ]
  },
  {
   "cell_type": "code",
   "execution_count": 7,
   "metadata": {},
   "outputs": [
    {
     "data": {
      "text/plain": [
       "0    SenSherrodBrown\n",
       "1    SenatorCantwell\n",
       "2      SenatorCardin\n",
       "3      SenatorCarper\n",
       "4        SenBobCasey\n",
       "Name: twitter, dtype: object"
      ]
     },
     "execution_count": 7,
     "metadata": {},
     "output_type": "execute_result"
    }
   ],
   "source": [
    "legis_df.twitter.head()"
   ]
  },
  {
   "cell_type": "code",
   "execution_count": 8,
   "metadata": {},
   "outputs": [
    {
     "name": "stdout",
     "output_type": "stream",
     "text": [
      "2.235% of legislator twitter handles are na.\n"
     ]
    }
   ],
   "source": [
    "na_perc = legis_df.twitter.isna().sum() / legis_df.shape[0] * 100\n",
    "print(f\"{round(na_perc, 3)}% of legislator twitter handles are na.\")"
   ]
  },
  {
   "cell_type": "markdown",
   "metadata": {},
   "source": [
    "### Load tweets"
   ]
  },
  {
   "cell_type": "code",
   "execution_count": 7,
   "metadata": {
    "scrolled": true
   },
   "outputs": [],
   "source": [
    "tweet_df = pd.read_json(tweets_fname, lines=True, nrows=5)"
   ]
  },
  {
   "cell_type": "code",
   "execution_count": 8,
   "metadata": {},
   "outputs": [
    {
     "data": {
      "text/html": [
       "<div>\n",
       "<style scoped>\n",
       "    .dataframe tbody tr th:only-of-type {\n",
       "        vertical-align: middle;\n",
       "    }\n",
       "\n",
       "    .dataframe tbody tr th {\n",
       "        vertical-align: top;\n",
       "    }\n",
       "\n",
       "    .dataframe thead th {\n",
       "        text-align: right;\n",
       "    }\n",
       "</style>\n",
       "<table border=\"1\" class=\"dataframe\">\n",
       "  <thead>\n",
       "    <tr style=\"text-align: right;\">\n",
       "      <th></th>\n",
       "      <th>contributors</th>\n",
       "      <th>coordinates</th>\n",
       "      <th>created_at</th>\n",
       "      <th>display_text_range</th>\n",
       "      <th>entities</th>\n",
       "      <th>favorite_count</th>\n",
       "      <th>favorited</th>\n",
       "      <th>geo</th>\n",
       "      <th>id</th>\n",
       "      <th>id_str</th>\n",
       "      <th>...</th>\n",
       "      <th>is_quote_status</th>\n",
       "      <th>lang</th>\n",
       "      <th>place</th>\n",
       "      <th>retweet_count</th>\n",
       "      <th>retweeted</th>\n",
       "      <th>screen_name</th>\n",
       "      <th>source</th>\n",
       "      <th>text</th>\n",
       "      <th>truncated</th>\n",
       "      <th>user_id</th>\n",
       "    </tr>\n",
       "  </thead>\n",
       "  <tbody>\n",
       "    <tr>\n",
       "      <th>0</th>\n",
       "      <td>NaN</td>\n",
       "      <td>NaN</td>\n",
       "      <td>2008-08-04 17:28:51</td>\n",
       "      <td>[0, 74]</td>\n",
       "      <td>{'hashtags': [], 'symbols': [], 'urls': [], 'u...</td>\n",
       "      <td>0</td>\n",
       "      <td>False</td>\n",
       "      <td>NaN</td>\n",
       "      <td>877418565</td>\n",
       "      <td>877418565</td>\n",
       "      <td>...</td>\n",
       "      <td>False</td>\n",
       "      <td>en</td>\n",
       "      <td>NaN</td>\n",
       "      <td>0</td>\n",
       "      <td>False</td>\n",
       "      <td>JohnBoozman</td>\n",
       "      <td>&lt;a href=\"http://twitter.com\" rel=\"nofollow\"&gt;Tw...</td>\n",
       "      <td>On a conference call about a weekend trip to I...</td>\n",
       "      <td>False</td>\n",
       "      <td>5558312</td>\n",
       "    </tr>\n",
       "    <tr>\n",
       "      <th>1</th>\n",
       "      <td>NaN</td>\n",
       "      <td>NaN</td>\n",
       "      <td>2008-08-06 19:04:45</td>\n",
       "      <td>[0, 25]</td>\n",
       "      <td>{'hashtags': [], 'symbols': [], 'urls': [], 'u...</td>\n",
       "      <td>0</td>\n",
       "      <td>False</td>\n",
       "      <td>NaN</td>\n",
       "      <td>879618172</td>\n",
       "      <td>879618172</td>\n",
       "      <td>...</td>\n",
       "      <td>False</td>\n",
       "      <td>nl</td>\n",
       "      <td>NaN</td>\n",
       "      <td>0</td>\n",
       "      <td>False</td>\n",
       "      <td>JohnBoozman</td>\n",
       "      <td>&lt;a href=\"http://twitter.com\" rel=\"nofollow\"&gt;Tw...</td>\n",
       "      <td>Being interviewed by KTHV</td>\n",
       "      <td>False</td>\n",
       "      <td>5558312</td>\n",
       "    </tr>\n",
       "    <tr>\n",
       "      <th>2</th>\n",
       "      <td>NaN</td>\n",
       "      <td>NaN</td>\n",
       "      <td>2008-08-06 20:35:36</td>\n",
       "      <td>[0, 65]</td>\n",
       "      <td>{'hashtags': [], 'symbols': [], 'urls': [], 'u...</td>\n",
       "      <td>0</td>\n",
       "      <td>False</td>\n",
       "      <td>NaN</td>\n",
       "      <td>879695803</td>\n",
       "      <td>879695803</td>\n",
       "      <td>...</td>\n",
       "      <td>False</td>\n",
       "      <td>en</td>\n",
       "      <td>NaN</td>\n",
       "      <td>0</td>\n",
       "      <td>False</td>\n",
       "      <td>JohnBoozman</td>\n",
       "      <td>&lt;a href=\"http://twitter.com\" rel=\"nofollow\"&gt;Tw...</td>\n",
       "      <td>Being interviewed by KARN on his Arkansas Worl...</td>\n",
       "      <td>False</td>\n",
       "      <td>5558312</td>\n",
       "    </tr>\n",
       "    <tr>\n",
       "      <th>3</th>\n",
       "      <td>NaN</td>\n",
       "      <td>NaN</td>\n",
       "      <td>2008-08-07 13:52:52</td>\n",
       "      <td>[0, 37]</td>\n",
       "      <td>{'hashtags': [], 'symbols': [], 'urls': [], 'u...</td>\n",
       "      <td>0</td>\n",
       "      <td>False</td>\n",
       "      <td>NaN</td>\n",
       "      <td>880393665</td>\n",
       "      <td>880393665</td>\n",
       "      <td>...</td>\n",
       "      <td>False</td>\n",
       "      <td>en</td>\n",
       "      <td>NaN</td>\n",
       "      <td>0</td>\n",
       "      <td>False</td>\n",
       "      <td>JohnBoozman</td>\n",
       "      <td>&lt;a href=\"http://twitter.com\" rel=\"nofollow\"&gt;Tw...</td>\n",
       "      <td>On KWHN in Fort Smith, that's 1320 AM</td>\n",
       "      <td>False</td>\n",
       "      <td>5558312</td>\n",
       "    </tr>\n",
       "    <tr>\n",
       "      <th>4</th>\n",
       "      <td>NaN</td>\n",
       "      <td>NaN</td>\n",
       "      <td>2008-08-07 15:12:05</td>\n",
       "      <td>[0, 90]</td>\n",
       "      <td>{'hashtags': [], 'symbols': [], 'urls': [], 'u...</td>\n",
       "      <td>0</td>\n",
       "      <td>False</td>\n",
       "      <td>NaN</td>\n",
       "      <td>880474266</td>\n",
       "      <td>880474266</td>\n",
       "      <td>...</td>\n",
       "      <td>False</td>\n",
       "      <td>en</td>\n",
       "      <td>NaN</td>\n",
       "      <td>0</td>\n",
       "      <td>False</td>\n",
       "      <td>JohnBoozman</td>\n",
       "      <td>&lt;a href=\"http://twitter.com\" rel=\"nofollow\"&gt;Tw...</td>\n",
       "      <td>Attending a Military of the Purple Heart Cerem...</td>\n",
       "      <td>False</td>\n",
       "      <td>5558312</td>\n",
       "    </tr>\n",
       "  </tbody>\n",
       "</table>\n",
       "<p>5 rows × 25 columns</p>\n",
       "</div>"
      ],
      "text/plain": [
       "   contributors  coordinates          created_at display_text_range  \\\n",
       "0           NaN          NaN 2008-08-04 17:28:51            [0, 74]   \n",
       "1           NaN          NaN 2008-08-06 19:04:45            [0, 25]   \n",
       "2           NaN          NaN 2008-08-06 20:35:36            [0, 65]   \n",
       "3           NaN          NaN 2008-08-07 13:52:52            [0, 37]   \n",
       "4           NaN          NaN 2008-08-07 15:12:05            [0, 90]   \n",
       "\n",
       "                                            entities  favorite_count  \\\n",
       "0  {'hashtags': [], 'symbols': [], 'urls': [], 'u...               0   \n",
       "1  {'hashtags': [], 'symbols': [], 'urls': [], 'u...               0   \n",
       "2  {'hashtags': [], 'symbols': [], 'urls': [], 'u...               0   \n",
       "3  {'hashtags': [], 'symbols': [], 'urls': [], 'u...               0   \n",
       "4  {'hashtags': [], 'symbols': [], 'urls': [], 'u...               0   \n",
       "\n",
       "   favorited  geo         id     id_str  ... is_quote_status  lang  place  \\\n",
       "0      False  NaN  877418565  877418565  ...           False    en    NaN   \n",
       "1      False  NaN  879618172  879618172  ...           False    nl    NaN   \n",
       "2      False  NaN  879695803  879695803  ...           False    en    NaN   \n",
       "3      False  NaN  880393665  880393665  ...           False    en    NaN   \n",
       "4      False  NaN  880474266  880474266  ...           False    en    NaN   \n",
       "\n",
       "   retweet_count  retweeted  screen_name  \\\n",
       "0              0      False  JohnBoozman   \n",
       "1              0      False  JohnBoozman   \n",
       "2              0      False  JohnBoozman   \n",
       "3              0      False  JohnBoozman   \n",
       "4              0      False  JohnBoozman   \n",
       "\n",
       "                                              source  \\\n",
       "0  <a href=\"http://twitter.com\" rel=\"nofollow\">Tw...   \n",
       "1  <a href=\"http://twitter.com\" rel=\"nofollow\">Tw...   \n",
       "2  <a href=\"http://twitter.com\" rel=\"nofollow\">Tw...   \n",
       "3  <a href=\"http://twitter.com\" rel=\"nofollow\">Tw...   \n",
       "4  <a href=\"http://twitter.com\" rel=\"nofollow\">Tw...   \n",
       "\n",
       "                                                text  truncated  user_id  \n",
       "0  On a conference call about a weekend trip to I...      False  5558312  \n",
       "1                          Being interviewed by KTHV      False  5558312  \n",
       "2  Being interviewed by KARN on his Arkansas Worl...      False  5558312  \n",
       "3              On KWHN in Fort Smith, that's 1320 AM      False  5558312  \n",
       "4  Attending a Military of the Purple Heart Cerem...      False  5558312  \n",
       "\n",
       "[5 rows x 25 columns]"
      ]
     },
     "execution_count": 8,
     "metadata": {},
     "output_type": "execute_result"
    }
   ],
   "source": [
    "tweet_df"
   ]
  },
  {
   "cell_type": "markdown",
   "metadata": {},
   "source": [
    "### Fetch unique twitter handles from tweets dataset"
   ]
  },
  {
   "cell_type": "code",
   "execution_count": 68,
   "metadata": {},
   "outputs": [],
   "source": [
    "unique_handles = set()\n",
    "for chunk in pd.read_json(tweets_fname, lines=True, chunksize=10000):\n",
    "    unique_handles = unique_handles.union(chunk.screen_name.unique())"
   ]
  },
  {
   "cell_type": "code",
   "execution_count": 80,
   "metadata": {},
   "outputs": [
    {
     "data": {
      "text/plain": [
       "0.5661080074487895"
      ]
     },
     "execution_count": 80,
     "metadata": {},
     "output_type": "execute_result"
    }
   ],
   "source": [
    "sum([sname in unique_handles for sname in legis_df.twitter.unique()]) / legis_df.shape[0]"
   ]
  },
  {
   "cell_type": "markdown",
   "metadata": {},
   "source": [
    "`\n",
    "!!! Only 56% of legislators are present in the tweets dataset !!!\n",
    "`"
   ]
  },
  {
   "cell_type": "markdown",
   "metadata": {},
   "source": [
    "### Create tweets subset for only legislators present in the dataset\n",
    "~~That way, the data can be uploaded to github, and later used in neo4j.~~\n",
    "\n",
    "Stored locally in neo4j data directory"
   ]
  },
  {
   "cell_type": "code",
   "execution_count": 61,
   "metadata": {},
   "outputs": [
    {
     "name": "stdout",
     "output_type": "stream",
     "text": [
      "Loaded 1243370 rows\r"
     ]
    }
   ],
   "source": [
    "legis_tweets = []\n",
    "legislator_names = set(legis_df.twitter.unique())\n",
    "loaded_rows = 0\n",
    "\n",
    "for chunk in pd.read_json(tweets_fname, lines=True, chunksize=1000):\n",
    "    loaded_rows += chunk.shape[0]\n",
    "    print(f\"Loaded {loaded_rows} rows\", end='\\r')\n",
    "    for row in range(chunk.shape[0]):\n",
    "        if chunk.iloc[row].screen_name in legislator_names:\n",
    "            row = chunk.iloc[row].to_dict()\n",
    "            # Remove all single and double quotes from text\n",
    "            row[\"text\"] = row[\"text\"].replace('\\'', '').replace(\"\\\"\", \"\").replace('’', '').replace('\\\\', '/')\n",
    "            # Add a hashtag key\n",
    "            row[\"htags\"] = row[\"entities\"][\"hashtags\"]\n",
    "            # Add a user_mentions key\n",
    "            row[\"user_mentions\"] = row[\"entities\"][\"user_mentions\"]\n",
    "            \n",
    "            legis_tweets.append(row)"
   ]
  },
  {
   "cell_type": "code",
   "execution_count": 62,
   "metadata": {
    "scrolled": true
   },
   "outputs": [],
   "source": [
    "legis_tweets_df = pd.DataFrame(legis_tweets)"
   ]
  },
  {
   "cell_type": "code",
   "execution_count": 65,
   "metadata": {},
   "outputs": [],
   "source": [
    "legis_tweets_df.to_csv(data_dir + \"legis_tweets.csv\", index=False)"
   ]
  },
  {
   "cell_type": "markdown",
   "metadata": {},
   "source": [
    "## Create a legislator schema for neo4j\n",
    "[Issue](https://github.com/codencoding/political-influencers/issues/2)"
   ]
  },
  {
   "cell_type": "markdown",
   "metadata": {},
   "source": [
    "### Schema\n",
    "\n",
    "- tweets and legislator datasets join on tweets.screen_name and legislator.twitter\n",
    "- Extract entities, in_reply_to_screen_name, created_at, and text columns from the matched tweets rows"
   ]
  },
  {
   "cell_type": "markdown",
   "metadata": {},
   "source": [
    "### Join legislators and tweets via SQL\n",
    "`\n",
    "SELECT entities, in_reply_to_screen_name, text, created_at\n",
    "FROM tweets AS tw\n",
    "RIGHT JOIN legislators AS lg\n",
    "ON tw.screen_name = lg.twitter\n",
    "`"
   ]
  }
 ],
 "metadata": {
  "kernelspec": {
   "display_name": "Python 3",
   "language": "python",
   "name": "python3"
  },
  "language_info": {
   "codemirror_mode": {
    "name": "ipython",
    "version": 3
   },
   "file_extension": ".py",
   "mimetype": "text/x-python",
   "name": "python",
   "nbconvert_exporter": "python",
   "pygments_lexer": "ipython3",
   "version": "3.6.2"
  }
 },
 "nbformat": 4,
 "nbformat_minor": 2
}
