{
 "cells": [
  {
   "cell_type": "code",
   "execution_count": 1,
   "metadata": {},
   "outputs": [],
   "source": [
    "import warnings\n",
    "warnings.filterwarnings('ignore')"
   ]
  },
  {
   "cell_type": "code",
   "execution_count": 2,
   "metadata": {},
   "outputs": [],
   "source": [
    "import pandas as pd \n",
    "import numpy as np \n",
    "from urllib.request import urlopen\n",
    "import redis\n",
    "import json\n",
    "import pysolr\n",
    "import requests"
   ]
  },
  {
   "cell_type": "code",
   "execution_count": 3,
   "metadata": {},
   "outputs": [
    {
     "data": {
      "text/plain": [
       "True"
      ]
     },
     "execution_count": 3,
     "metadata": {},
     "output_type": "execute_result"
    }
   ],
   "source": [
    "import redis\n",
    "r = redis.Redis(host='my-redis', port=6379, db=0)\n",
    "r.set('foo', 'bar')"
   ]
  },
  {
   "cell_type": "code",
   "execution_count": 10,
   "metadata": {},
   "outputs": [],
   "source": [
    "##solr query\n",
    "\n",
    "q1j = requests.get('http://awesome-hw.sdsc.edu:8983/solr/allnews/select?q=*%3A*&rows=100')\n",
    "out = q1j.json()"
   ]
  },
  {
   "cell_type": "code",
   "execution_count": 11,
   "metadata": {},
   "outputs": [],
   "source": [
    "## function to format query output into a dictionary\n",
    "\n",
    "def format_response(response):\n",
    "    out = {}\n",
    "    out[\"title\"] = response[\"text-field\"]\n",
    "    out[\"publishdate\"] = response[\"id\"]\n",
    "    return out\n",
    "\n",
    "output = list(map(format_response, out[\"response\"][\"docs\"]))"
   ]
  },
  {
   "cell_type": "code",
   "execution_count": null,
   "metadata": {},
   "outputs": [],
   "source": [
    "## put publish date and title of article into Redis Cache\n",
    "\n",
    "for out in output: \n",
    "    r.append(out['publishdate'], out['title'])"
   ]
  },
  {
   "cell_type": "code",
   "execution_count": null,
   "metadata": {},
   "outputs": [],
   "source": [
    "## create Redis pipeline to get needed values \n",
    "\n",
    "pipe = r.pipeline()\n",
    "pipe.get('')\n",
    "pipe.execute()"
   ]
  }
 ],
 "metadata": {
  "kernelspec": {
   "display_name": "Python 3",
   "language": "python",
   "name": "python3"
  },
  "language_info": {
   "codemirror_mode": {
    "name": "ipython",
    "version": 3
   },
   "file_extension": ".py",
   "mimetype": "text/x-python",
   "name": "python",
   "nbconvert_exporter": "python",
   "pygments_lexer": "ipython3",
   "version": "3.6.2"
  }
 },
 "nbformat": 4,
 "nbformat_minor": 4
}
